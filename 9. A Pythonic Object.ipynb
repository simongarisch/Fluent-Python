{
 "cells": [
  {
   "cell_type": "markdown",
   "metadata": {},
   "source": [
    "# A Pythonic Object\n",
    "## Object Representations\n",
    "\n",
    "Every object-oriented language has at least one standard way of getting a string repre‐\n",
    "sentation from any object. Python has two:\n",
    "-  repr(): Return a string representing the object as the developer wants to see it.\n",
    "-  str(): Return a string representing the object as the user wants to see it.\n",
    "\n",
    "There are two additional special methods to support alternative representations of objects: __bytes__ and __format__. "
   ]
  },
  {
   "cell_type": "markdown",
   "metadata": {},
   "source": [
    "## Vector Class Redux"
   ]
  },
  {
   "cell_type": "code",
   "execution_count": 1,
   "metadata": {},
   "outputs": [],
   "source": [
    "from array import array\n",
    "import math\n",
    "\n",
    "class Vector2d:\n",
    "    typecode = 'd'\n",
    "    \n",
    "    def __init__(self, x, y):\n",
    "        self.x = float(x)\n",
    "        self.y = float(y)\n",
    "    \n",
    "    def __iter__(self):\n",
    "        return (i for i in (self.x, self.y)) \n",
    "        \n",
    "    def __repr__(self):\n",
    "        class_name = type(self).__name__\n",
    "        return '{}({!r}, {!r})'.format(class_name, *self) \n",
    "\n",
    "    def __str__(self):\n",
    "        return str(tuple(self))\n",
    "\n",
    "    def __bytes__(self):\n",
    "        return (bytes([ord(self.typecode)]) +\n",
    "                bytes(array(self.typecode, self)))\n",
    "\n",
    "    def __eq__(self, other):\n",
    "        return tuple(self) == tuple(other)\n",
    "\n",
    "    def __abs__(self):\n",
    "        return math.hypot(self.x, self.y)\n",
    "\n",
    "    def __bool__(self):\n",
    "        return bool(abs(self))\n",
    "\n",
    "myvec = Vector2d(7, 10)"
   ]
  },
  {
   "cell_type": "code",
   "execution_count": 6,
   "metadata": {},
   "outputs": [
    {
     "name": "stdout",
     "output_type": "stream",
     "text": [
      "7.0\n",
      "10.0\n"
     ]
    }
   ],
   "source": [
    "for i in myvec: # using the __iter__\n",
    "    print(i)"
   ]
  },
  {
   "cell_type": "code",
   "execution_count": 8,
   "metadata": {},
   "outputs": [
    {
     "data": {
      "text/plain": [
       "'Vector2d(7.0, 10.0)'"
      ]
     },
     "execution_count": 8,
     "metadata": {},
     "output_type": "execute_result"
    }
   ],
   "source": [
    "myvec.__repr__() # all the information we need to create this object"
   ]
  },
  {
   "cell_type": "code",
   "execution_count": 10,
   "metadata": {},
   "outputs": [
    {
     "data": {
      "text/plain": [
       "True"
      ]
     },
     "execution_count": 10,
     "metadata": {},
     "output_type": "execute_result"
    }
   ],
   "source": [
    "eval(myvec.__repr__()) == myvec"
   ]
  },
  {
   "cell_type": "code",
   "execution_count": 9,
   "metadata": {},
   "outputs": [
    {
     "data": {
      "text/plain": [
       "'(7.0, 10.0)'"
      ]
     },
     "execution_count": 9,
     "metadata": {},
     "output_type": "execute_result"
    }
   ],
   "source": [
    "str(myvec) # a string representation of the object"
   ]
  },
  {
   "cell_type": "code",
   "execution_count": 12,
   "metadata": {},
   "outputs": [
    {
     "data": {
      "text/plain": [
       "b'd\\x00\\x00\\x00\\x00\\x00\\x00\\x1c@\\x00\\x00\\x00\\x00\\x00\\x00$@'"
      ]
     },
     "execution_count": 12,
     "metadata": {},
     "output_type": "execute_result"
    }
   ],
   "source": [
    "myvec.__bytes__()"
   ]
  },
  {
   "cell_type": "code",
   "execution_count": 14,
   "metadata": {},
   "outputs": [
    {
     "data": {
      "text/plain": [
       "True"
      ]
     },
     "execution_count": 14,
     "metadata": {},
     "output_type": "execute_result"
    }
   ],
   "source": [
    "Vector2d(1, 2) == Vector2d(1, 2) # using the __eq__"
   ]
  },
  {
   "cell_type": "code",
   "execution_count": 17,
   "metadata": {},
   "outputs": [
    {
     "data": {
      "text/plain": [
       "(12.206555615733702, 12.206555615733702)"
      ]
     },
     "execution_count": 17,
     "metadata": {},
     "output_type": "execute_result"
    }
   ],
   "source": [
    "abs(myvec), math.hypot(7, 10) # using __abs__"
   ]
  },
  {
   "cell_type": "code",
   "execution_count": 18,
   "metadata": {},
   "outputs": [
    {
     "data": {
      "text/plain": [
       "True"
      ]
     },
     "execution_count": 18,
     "metadata": {},
     "output_type": "execute_result"
    }
   ],
   "source": [
    "bool(myvec)"
   ]
  },
  {
   "cell_type": "markdown",
   "metadata": {},
   "source": [
    "## classmethod Versus staticmethod\n",
    "The staticmethod decorator changes a method so that it receives no special first argument. classmethod passes the class implicitly as the first argument.\n"
   ]
  },
  {
   "cell_type": "code",
   "execution_count": 21,
   "metadata": {},
   "outputs": [],
   "source": [
    "class Demo:\n",
    "\n",
    "    @classmethod\n",
    "    def klassmeth(*args):\n",
    "        return args\n",
    "\n",
    "    @staticmethod\n",
    "    def statmeth(*args):\n",
    "        return args\n"
   ]
  },
  {
   "cell_type": "code",
   "execution_count": 22,
   "metadata": {},
   "outputs": [
    {
     "data": {
      "text/plain": [
       "(__main__.Demo,)"
      ]
     },
     "execution_count": 22,
     "metadata": {},
     "output_type": "execute_result"
    }
   ],
   "source": [
    "Demo.klassmeth() # passes the class instance as "
   ]
  },
  {
   "cell_type": "code",
   "execution_count": 23,
   "metadata": {},
   "outputs": [
    {
     "data": {
      "text/plain": [
       "()"
      ]
     },
     "execution_count": 23,
     "metadata": {},
     "output_type": "execute_result"
    }
   ],
   "source": [
    "Demo.statmeth() # Demo.statmeth behaves just like a plain old function"
   ]
  },
  {
   "cell_type": "markdown",
   "metadata": {},
   "source": [
    "The classmethod decorator is clearly useful, but I’ve never seen a compelling use case for staticmethod. If you want to define a\n",
    "function that does not interact with the class, just define it in the module."
   ]
  },
  {
   "cell_type": "markdown",
   "metadata": {},
   "source": [
    "## Formatted Displays\n",
    "The format() built-in function and the str.format() method delegate the actual formatting to each type by calling their .__format__(format_spec) method. "
   ]
  },
  {
   "cell_type": "code",
   "execution_count": 25,
   "metadata": {},
   "outputs": [],
   "source": [
    "brl = 1 / 2.43"
   ]
  },
  {
   "cell_type": "code",
   "execution_count": 26,
   "metadata": {},
   "outputs": [
    {
     "data": {
      "text/plain": [
       "0.4115226337448559"
      ]
     },
     "execution_count": 26,
     "metadata": {},
     "output_type": "execute_result"
    }
   ],
   "source": [
    "brl"
   ]
  },
  {
   "cell_type": "code",
   "execution_count": 27,
   "metadata": {},
   "outputs": [
    {
     "data": {
      "text/plain": [
       "'0.4115'"
      ]
     },
     "execution_count": 27,
     "metadata": {},
     "output_type": "execute_result"
    }
   ],
   "source": [
    "format(brl, \"0.4f\")"
   ]
  },
  {
   "cell_type": "code",
   "execution_count": 28,
   "metadata": {},
   "outputs": [
    {
     "data": {
      "text/plain": [
       "'1 BRL = 0.41 USD'"
      ]
     },
     "execution_count": 28,
     "metadata": {},
     "output_type": "execute_result"
    }
   ],
   "source": [
    "'1 BRL = {rate:0.2f} USD'.format(rate=brl)"
   ]
  },
  {
   "cell_type": "code",
   "execution_count": 29,
   "metadata": {},
   "outputs": [
    {
     "data": {
      "text/plain": [
       "'101010'"
      ]
     },
     "execution_count": 29,
     "metadata": {},
     "output_type": "execute_result"
    }
   ],
   "source": [
    " format(42, 'b')"
   ]
  },
  {
   "cell_type": "code",
   "execution_count": 30,
   "metadata": {},
   "outputs": [
    {
     "data": {
      "text/plain": [
       "'66.7%'"
      ]
     },
     "execution_count": 30,
     "metadata": {},
     "output_type": "execute_result"
    }
   ],
   "source": [
    "format(2/3, '.1%')"
   ]
  },
  {
   "cell_type": "markdown",
   "metadata": {},
   "source": [
    "## A Hashable Vector2d\n",
    "As defined, so far our Vector2d instances are unhashable, so we can’t put them in a set:"
   ]
  },
  {
   "cell_type": "code",
   "execution_count": 31,
   "metadata": {},
   "outputs": [],
   "source": [
    "v1 = Vector2d(3, 4)"
   ]
  },
  {
   "cell_type": "code",
   "execution_count": 33,
   "metadata": {},
   "outputs": [
    {
     "name": "stderr",
     "output_type": "stream",
     "text": [
      "Traceback (most recent call last):\n",
      "  File \"<ipython-input-33-b0a524b4faf1>\", line 4, in <module>\n",
      "    hash(v1)\n",
      "TypeError: unhashable type: 'Vector2d'\n"
     ]
    }
   ],
   "source": [
    "import traceback\n",
    "\n",
    "try:\n",
    "    hash(v1)\n",
    "except:\n",
    "    traceback.print_exc()"
   ]
  },
  {
   "cell_type": "markdown",
   "metadata": {},
   "source": [
    "To make a Vector2d hashable, we must implement __hash__ (__eq__ is also required, and we already have it). We also need to make vector instances immutable, as we’ve seen in 'What Is Hashable?' on page 65. As per the [Python glossary](https://docs.python.org/3/glossary.html): 'An object is hashable if it has a hash value which never changes during its lifetime (it needs a __hash__() method), and can be compared to other objects (it needs an __eq__() method). Hashable objects which compare equal must have the same hash value.' The atomic immutable types (str, bytes, numeric types) are all hashable."
   ]
  },
  {
   "cell_type": "code",
   "execution_count": 3,
   "metadata": {},
   "outputs": [],
   "source": [
    "class MoreVector2d(Vector2d):\n",
    "    '''\n",
    "    We need a __hash__ and an __eq__ method.\n",
    "    __eq__ has already been defined in Vector2d.\n",
    "    Here we add in __hash__.\n",
    "    Really we should also make x and y private and unchangeable.\n",
    "    The hash cannot change over the object's lifetime. \n",
    "    '''\n",
    "    def __init__(self, x, y):\n",
    "        super(MoreVector2d, self).__init__(x, y)\n",
    "\n",
    "    def __hash__(self):\n",
    "        return hash(self.x) ^ hash(self.y)\n",
    "\n",
    "myvec = MoreVector2d(3, 4)"
   ]
  },
  {
   "cell_type": "code",
   "execution_count": 4,
   "metadata": {},
   "outputs": [
    {
     "data": {
      "text/plain": [
       "MoreVector2d(3.0, 4.0)"
      ]
     },
     "execution_count": 4,
     "metadata": {},
     "output_type": "execute_result"
    }
   ],
   "source": [
    "myvec"
   ]
  },
  {
   "cell_type": "code",
   "execution_count": 5,
   "metadata": {},
   "outputs": [
    {
     "data": {
      "text/plain": [
       "7"
      ]
     },
     "execution_count": 5,
     "metadata": {},
     "output_type": "execute_result"
    }
   ],
   "source": [
    "hash(myvec)"
   ]
  },
  {
   "cell_type": "markdown",
   "metadata": {},
   "source": [
    "## Private and protected attributes in Python\n",
    "In Python there is no way to create  pricate variables like there is with the private modifier in Java. However, if you name an instance attribute with two leading underscores, Python stores the name in the instance __dict__ prefixed with a leading underscore and the class name. This language feature is called 'name mangling'. "
   ]
  },
  {
   "cell_type": "code",
   "execution_count": 8,
   "metadata": {},
   "outputs": [
    {
     "data": {
      "text/plain": [
       "<__main__.MyClass at 0x1dd6316ecf8>"
      ]
     },
     "execution_count": 8,
     "metadata": {},
     "output_type": "execute_result"
    }
   ],
   "source": [
    "class MyClass(object):\n",
    "    def __init__(self):\n",
    "        self.a = 7\n",
    "        self.__b = 8\n",
    "\n",
    "obj = MyClass()\n",
    "obj"
   ]
  },
  {
   "cell_type": "code",
   "execution_count": 9,
   "metadata": {},
   "outputs": [
    {
     "data": {
      "text/plain": [
       "{'a': 7, '_MyClass__b': 8}"
      ]
     },
     "execution_count": 9,
     "metadata": {},
     "output_type": "execute_result"
    }
   ],
   "source": [
    "obj.__dict__"
   ]
  },
  {
   "cell_type": "markdown",
   "metadata": {},
   "source": [
    "This helps to prevent the accidental overwriting of a private attribute in a subclass."
   ]
  },
  {
   "cell_type": "code",
   "execution_count": 19,
   "metadata": {},
   "outputs": [
    {
     "data": {
      "text/plain": [
       "<__main__.B at 0x1dd6316aeb8>"
      ]
     },
     "execution_count": 19,
     "metadata": {},
     "output_type": "execute_result"
    }
   ],
   "source": [
    "class A(object):\n",
    "    def __init__(self):\n",
    "        self.a = 7\n",
    "        self.__b = 8\n",
    "\n",
    "class B(A):\n",
    "    def __init__(self):\n",
    "        super(B, self).__init__()\n",
    "        self.a = 9\n",
    "        self.__b = 10\n",
    "\n",
    "b = B()\n",
    "b"
   ]
  },
  {
   "cell_type": "code",
   "execution_count": 21,
   "metadata": {},
   "outputs": [
    {
     "data": {
      "text/plain": [
       "{'a': 9, '_A__b': 8, '_B__b': 10}"
      ]
     },
     "execution_count": 21,
     "metadata": {},
     "output_type": "execute_result"
    }
   ],
   "source": [
    "b.__dict__ # a gets overwritten, but b has values unique to each of classes A and B."
   ]
  },
  {
   "cell_type": "markdown",
   "metadata": {},
   "source": [
    "The name mangling functionality is not loved by all Pythonistas, and neither is the skewed look of names written as self.__x. Some prefer to avoid this syntax and use just one underscore prefix to 'protect' attributes by convention (e.g., self._x). Critics of the automatic double-underscore mangling suggest that concerns about accidental attribute clobbering should be addressed by naming conventions. This is the full quote from the prolific Ian Bicking, cited at the beginning of this chapter: <br>\n",
    "<br>\n",
    "Never, ever use two leading underscores. This is annoyingly private. If name clashes are a concern, use explicit name mangling instead (e.g., _MyThing_blahblah). This is essentially the same thing as double-underscore, only it’s transparent where double underscore obscures <br>\n",
    "<br>\n",
    "The single underscore prefix has no special meaning to the Python interpreter when used in attribute names, but it’s a very strong convention among Python programmers that you should not access such attributes from outside the class."
   ]
  },
  {
   "cell_type": "markdown",
   "metadata": {},
   "source": [
    "## Saving Space with the __slots__ Class Attribute\n",
    "By default, Python stores instance attributes in a per-instance dict named __dict__. dictionaries have a significant memory overhead because of the underlying hash table used to provide fast access. By defining __slots__ in the class, you are telling the interpreter: 'These are all the instance attributes in this class.' Python then stores them in a tuple-like structure in\n",
    "each instance, avoiding the memory overhead of the per-instance __dict__. "
   ]
  },
  {
   "cell_type": "code",
   "execution_count": 1,
   "metadata": {},
   "outputs": [],
   "source": [
    "class MyClass1(object):\n",
    "    def __init__(self):\n",
    "        self.x = 1\n",
    "        self.y = 2\n",
    "        self.z = 3\n",
    "\n",
    "\n",
    "class MyClass2(object):\n",
    "    __slots__ = (\"x\", \"y\", \"z\")\n",
    "    def __init__(self):\n",
    "        self.x = 1\n",
    "        self.y = 2\n",
    "        self.z = 3\n",
    "\n",
    "obj1 = MyClass1()\n",
    "obj2 = MyClass2()"
   ]
  },
  {
   "cell_type": "code",
   "execution_count": 5,
   "metadata": {},
   "outputs": [
    {
     "data": {
      "text/plain": [
       "(56, 64)"
      ]
     },
     "execution_count": 5,
     "metadata": {},
     "output_type": "execute_result"
    }
   ],
   "source": [
    "from sys import getsizeof\n",
    "getsizeof(obj1), getsizeof(obj2) # hmmm, is obj2 larger..."
   ]
  },
  {
   "cell_type": "code",
   "execution_count": 6,
   "metadata": {},
   "outputs": [
    {
     "name": "stdout",
     "output_type": "stream",
     "text": [
      "355 ms ± 3.07 ms per loop (mean ± std. dev. of 7 runs, 1 loop each)\n"
     ]
    }
   ],
   "source": [
    "%timeit [MyClass1() for i in range(1000000)]"
   ]
  },
  {
   "cell_type": "code",
   "execution_count": 7,
   "metadata": {},
   "outputs": [
    {
     "name": "stdout",
     "output_type": "stream",
     "text": [
      "264 ms ± 1.28 ms per loop (mean ± std. dev. of 7 runs, 1 loop each)\n"
     ]
    }
   ],
   "source": [
    "%timeit [MyClass2() for i in range(1000000)] # materially faster to create the object"
   ]
  },
  {
   "cell_type": "markdown",
   "metadata": {},
   "source": [
    "The creator of Python, Guido van Rossum, states that he actually created __slots__ for faster attribute access. It is trivial to demonstrate measurably significant faster access:"
   ]
  },
  {
   "cell_type": "code",
   "execution_count": 3,
   "metadata": {},
   "outputs": [
    {
     "name": "stdout",
     "output_type": "stream",
     "text": [
      "30 ns ± 0.144 ns per loop (mean ± std. dev. of 7 runs, 10000000 loops each)\n"
     ]
    }
   ],
   "source": [
    "%timeit obj1.x"
   ]
  },
  {
   "cell_type": "code",
   "execution_count": 4,
   "metadata": {},
   "outputs": [
    {
     "name": "stdout",
     "output_type": "stream",
     "text": [
      "27 ns ± 0.178 ns per loop (mean ± std. dev. of 7 runs, 10000000 loops each)\n"
     ]
    }
   ],
   "source": [
    "%timeit obj2.x"
   ]
  },
  {
   "cell_type": "markdown",
   "metadata": {},
   "source": [
    "Small caveat, you should only declare a particular slot one time in an inheritance tree. For example:"
   ]
  },
  {
   "cell_type": "code",
   "execution_count": 9,
   "metadata": {},
   "outputs": [
    {
     "data": {
      "text/plain": [
       "(<__main__.Base at 0x21479a68748>,\n",
       " <__main__.Right at 0x21479a240c8>,\n",
       " <__main__.Wrong at 0x21479a814f8>)"
      ]
     },
     "execution_count": 9,
     "metadata": {},
     "output_type": "execute_result"
    }
   ],
   "source": [
    "class Base:\n",
    "    __slots__ = 'foo', 'bar'\n",
    "\n",
    "class Right(Base):\n",
    "    __slots__ = 'baz', \n",
    "\n",
    "class Wrong(Base):\n",
    "    __slots__ = 'foo', 'bar', 'baz'        # redundant foo and bar\n",
    "\n",
    "Base(), Right(), Wrong()"
   ]
  },
  {
   "cell_type": "markdown",
   "metadata": {},
   "source": [
    "There is a long discussion on [SO](https://stackoverflow.com/questions/472000/usage-of-slots)... the book is taking the other approach though and saying that you must remember to redeclare __slots__ in each subclass, because the inherited attribute is ignored by the interpreter. See the docs."
   ]
  },
  {
   "cell_type": "markdown",
   "metadata": {},
   "source": [
    "## Overriding Class Attributes"
   ]
  },
  {
   "cell_type": "code",
   "execution_count": null,
   "metadata": {},
   "outputs": [],
   "source": []
  }
 ],
 "metadata": {
  "kernelspec": {
   "display_name": "py36",
   "language": "python",
   "name": "py36"
  },
  "language_info": {
   "codemirror_mode": {
    "name": "ipython",
    "version": 3
   },
   "file_extension": ".py",
   "mimetype": "text/x-python",
   "name": "python",
   "nbconvert_exporter": "python",
   "pygments_lexer": "ipython3",
   "version": "3.6.6"
  }
 },
 "nbformat": 4,
 "nbformat_minor": 2
}
