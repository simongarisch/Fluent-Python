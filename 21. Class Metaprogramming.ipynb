{
 "cells": [
  {
   "cell_type": "markdown",
   "metadata": {},
   "source": [
    "# Class Metaprogramming\n",
    "Class metaprogramming is the art of creating or customizing classes at runtime. Classes are first-class objects in Python, so a function can be used to create a new class at any time, without using the class keyword.\n",
    "\n",
    "Metaclasses are powerful, but hard to get right. Class decorators solve many of the same\n",
    "problems more simply."
   ]
  },
  {
   "cell_type": "markdown",
   "metadata": {},
   "source": [
    "## A Class Factory\n",
    "The standard library has a class factory that we’ve seen several times in this book:\n",
    "collections.namedtuple."
   ]
  },
  {
   "cell_type": "code",
   "execution_count": 3,
   "metadata": {},
   "outputs": [],
   "source": [
    "def record_factory(cls_name, field_names):\n",
    "    try:\n",
    "        field_names = field_names.replace(',', ' ').split()\n",
    "    except AttributeError: # no .replace or .split\n",
    "        pass # assume it's already a sequence of identifiers\n",
    "    field_names = tuple(field_names)\n",
    "\n",
    "    def __init__(self, *args, **kwargs):\n",
    "        attrs = dict(zip(self.__slots__, args))\n",
    "        attrs.update(kwargs)\n",
    "        for name, value in attrs.items():\n",
    "            setattr(self, name, value)\n",
    " \n",
    "    def __iter__(self):\n",
    "        for name in self.__slots__:\n",
    "            yield getattr(self, name)\n",
    "\n",
    "    def __repr__(self):\n",
    "        values = ', '.join('{}={!r}'.format(*i) for i in zip(self.__slots__, self))\n",
    "        return '{}({})'.format(self.__class__.__name__, values)\n",
    "\n",
    "    cls_attrs = dict(__slots__ = field_names,\n",
    "                     __init__ = __init__,\n",
    "                     __iter__ = __iter__,\n",
    "                     __repr__ = __repr__)\n",
    "    return type(cls_name, (object,), cls_attrs)\n"
   ]
  },
  {
   "cell_type": "code",
   "execution_count": 5,
   "metadata": {},
   "outputs": [],
   "source": [
    "Dog = record_factory('Dog', 'name weight owner')\n",
    "\n",
    "rex = Dog('Rex', 30, 'Bob')"
   ]
  },
  {
   "cell_type": "code",
   "execution_count": 6,
   "metadata": {},
   "outputs": [
    {
     "data": {
      "text/plain": [
       "Dog(name='Rex', weight=30, owner='Bob')"
      ]
     },
     "execution_count": 6,
     "metadata": {},
     "output_type": "execute_result"
    }
   ],
   "source": [
    "rex"
   ]
  },
  {
   "cell_type": "markdown",
   "metadata": {},
   "source": [
    "type is a class. It behaves like a class that creates a new class when invoked with three arguments..."
   ]
  },
  {
   "cell_type": "code",
   "execution_count": 14,
   "metadata": {},
   "outputs": [],
   "source": [
    "MySuperClass = object\n",
    "\n",
    "MyClass = type('MyClass', (MySuperClass,), {'x': 42, 'x2': lambda self: self.x * 2})"
   ]
  },
  {
   "cell_type": "code",
   "execution_count": 16,
   "metadata": {},
   "outputs": [
    {
     "data": {
      "text/plain": [
       "mappingproxy({'x': 42,\n",
       "              'x2': <function __main__.<lambda>(self)>,\n",
       "              '__module__': '__main__',\n",
       "              '__dict__': <attribute '__dict__' of 'MyClass' objects>,\n",
       "              '__weakref__': <attribute '__weakref__' of 'MyClass' objects>,\n",
       "              '__doc__': None})"
      ]
     },
     "execution_count": 16,
     "metadata": {},
     "output_type": "execute_result"
    }
   ],
   "source": [
    "MyClass.__dict__"
   ]
  },
  {
   "cell_type": "markdown",
   "metadata": {},
   "source": [
    "## A Class Decorator for Customizing Descriptors"
   ]
  },
  {
   "cell_type": "code",
   "execution_count": null,
   "metadata": {},
   "outputs": [],
   "source": []
  }
 ],
 "metadata": {
  "kernelspec": {
   "display_name": "py36",
   "language": "python",
   "name": "py36"
  },
  "language_info": {
   "codemirror_mode": {
    "name": "ipython",
    "version": 3
   },
   "file_extension": ".py",
   "mimetype": "text/x-python",
   "name": "python",
   "nbconvert_exporter": "python",
   "pygments_lexer": "ipython3",
   "version": "3.6.6"
  }
 },
 "nbformat": 4,
 "nbformat_minor": 2
}
