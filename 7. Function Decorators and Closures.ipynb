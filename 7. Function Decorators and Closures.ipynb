{
 "cells": [
  {
   "cell_type": "markdown",
   "metadata": {},
   "source": [
    "# Function Decorators and Closures\n",
    "Function decorators let us “mark” functions in the source code to enhance their behavior in some way. This is powerful stuff, but mastering it requires understanding closures."
   ]
  },
  {
   "cell_type": "markdown",
   "metadata": {
    "collapsed": true
   },
   "source": [
    "One of the newest reserved keywords in Python is nonlocal, introduced in Python 3.0. You can have a profitable life as a Python programmer without ever using it if you adhere to a strict regimen of class-centered object orientation. However, if you want to implement your own function decorators, you must know closures inside out, and then the need for nonlocal becomes obvious."
   ]
  },
  {
   "cell_type": "code",
   "execution_count": 2,
   "metadata": {},
   "outputs": [
    {
     "data": {
      "text/plain": [
       "6"
      ]
     },
     "execution_count": 2,
     "metadata": {},
     "output_type": "execute_result"
    }
   ],
   "source": [
    "# we can implement something like this\n",
    "def double(x):\n",
    "    return 2 * x\n",
    "\n",
    "def add(a, b):\n",
    "    return a + b\n",
    "\n",
    "double(add(1, 2))"
   ]
  },
  {
   "cell_type": "code",
   "execution_count": 3,
   "metadata": {},
   "outputs": [
    {
     "data": {
      "text/plain": [
       "6"
      ]
     },
     "execution_count": 3,
     "metadata": {},
     "output_type": "execute_result"
    }
   ],
   "source": [
    "# as this\n",
    "def double(func):\n",
    "    def inner(*args, **kwargs):\n",
    "        return 2 * func(*args, **kwargs)\n",
    "    return inner\n",
    "\n",
    "@double\n",
    "def add(a, b):\n",
    "    return a + b\n",
    "\n",
    "add(1, 2)"
   ]
  },
  {
   "cell_type": "code",
   "execution_count": 4,
   "metadata": {},
   "outputs": [
    {
     "data": {
      "text/plain": [
       "<function __main__.double.<locals>.inner(*args, **kwargs)>"
      ]
     },
     "execution_count": 4,
     "metadata": {},
     "output_type": "execute_result"
    }
   ],
   "source": [
    "add"
   ]
  },
  {
   "cell_type": "markdown",
   "metadata": {},
   "source": [
    "Remember to use functools.wraps for this issue."
   ]
  },
  {
   "cell_type": "code",
   "execution_count": 5,
   "metadata": {},
   "outputs": [
    {
     "data": {
      "text/plain": [
       "6"
      ]
     },
     "execution_count": 5,
     "metadata": {},
     "output_type": "execute_result"
    }
   ],
   "source": [
    "import functools\n",
    "\n",
    "def double(func):\n",
    "    @functools.wraps(func)\n",
    "    def inner(*args, **kwargs):\n",
    "        return 2 * func(*args, **kwargs)\n",
    "    return inner\n",
    "\n",
    "@double\n",
    "def add(a, b):\n",
    "    return a + b\n",
    "\n",
    "add(1, 2)"
   ]
  },
  {
   "cell_type": "code",
   "execution_count": 6,
   "metadata": {},
   "outputs": [
    {
     "data": {
      "text/plain": [
       "<function __main__.add(a, b)>"
      ]
     },
     "execution_count": 6,
     "metadata": {},
     "output_type": "execute_result"
    }
   ],
   "source": [
    "add"
   ]
  },
  {
   "cell_type": "markdown",
   "metadata": {},
   "source": [
    "## Decorators 101\n",
    "A decorator is a callable that takes another function as argument (the decorated function)."
   ]
  },
  {
   "cell_type": "code",
   "execution_count": 7,
   "metadata": {},
   "outputs": [
    {
     "name": "stdout",
     "output_type": "stream",
     "text": [
      "running inner()\n"
     ]
    }
   ],
   "source": [
    "def decorate(target_func):\n",
    "    def inner():\n",
    "        print(\"running inner()\")\n",
    "    return inner\n",
    "\n",
    "@decorate\n",
    "def target():\n",
    "    print(\"running target()\")\n",
    "\n",
    "target()"
   ]
  },
  {
   "cell_type": "markdown",
   "metadata": {},
   "source": [
    "To summarize: the first crucial fact about decorators is that they have the power to replace the decorated function with a different one. The second crucial fact is that they are executed immediately when a module is loaded."
   ]
  },
  {
   "cell_type": "markdown",
   "metadata": {},
   "source": [
    "## When Python Executes Decorators\n",
    "\n",
    "A key feature of decorators is that they run right after the decorated function is defined."
   ]
  },
  {
   "cell_type": "code",
   "execution_count": 8,
   "metadata": {
    "collapsed": true
   },
   "outputs": [],
   "source": [
    "import sys\n",
    "if \"test_decorators\" in sys.modules:\n",
    "    del sys.modules[\"test_decorators\"]"
   ]
  },
  {
   "cell_type": "code",
   "execution_count": 9,
   "metadata": {},
   "outputs": [
    {
     "name": "stdout",
     "output_type": "stream",
     "text": [
      "running the function 'double'!\n"
     ]
    }
   ],
   "source": [
    "import test_decorators"
   ]
  },
  {
   "cell_type": "code",
   "execution_count": 10,
   "metadata": {},
   "outputs": [
    {
     "data": {
      "text/plain": [
       "True"
      ]
     },
     "execution_count": 10,
     "metadata": {},
     "output_type": "execute_result"
    }
   ],
   "source": [
    "import sys\n",
    "\"test_decorators\" in sys.modules"
   ]
  },
  {
   "cell_type": "code",
   "execution_count": 11,
   "metadata": {},
   "outputs": [
    {
     "name": "stdout",
     "output_type": "stream",
     "text": [
      "import functools\n",
      "\n",
      "def double(func):\n",
      "    print(\"running the function 'double'!\")\n",
      "    @functools.wraps(func)\n",
      "    def inner(*args, **kwargs):\n",
      "        return 2 * func(*args, **kwargs)\n",
      "    return inner\n",
      "\n",
      "@double\n",
      "def add(a, b):\n",
      "    return a + b\n",
      "\n"
     ]
    }
   ],
   "source": [
    "import inspect\n",
    "lines = inspect.getsource(test_decorators)\n",
    "print(lines)"
   ]
  },
  {
   "cell_type": "markdown",
   "metadata": {},
   "source": [
    "function decorators are executed as soon as the module is imported, but the decorated functions only run when they are\n",
    "explicitly invoked. This highlights the difference between what Pythonistas call import time and runtime."
   ]
  },
  {
   "cell_type": "markdown",
   "metadata": {},
   "source": [
    "## Decorator-Enhanced Strategy Pattern"
   ]
  },
  {
   "cell_type": "code",
   "execution_count": 12,
   "metadata": {
    "collapsed": true
   },
   "outputs": [],
   "source": [
    "promos = []\n",
    "\n",
    "def promotion(promo_func):\n",
    "    promos.append(promo_func)\n",
    "    return promo_func\n",
    "\n",
    "@promotion\n",
    "def fidelity(order):\n",
    "    ''' 5% discount for customers with 1000 or more fidelity points '''\n",
    "    return order.total() * .05 if order.customer.fidelity >= 1000 else 0\n",
    "\n",
    "@promotion\n",
    "def bulk_item(order):\n",
    "    ''' 10% discount for each LineItem with 20 or more units '''\n",
    "    discount = 0\n",
    "    for item in order.cart:\n",
    "        if item.quantity >= 20:\n",
    "            discount += item.total() * .1\n",
    "    return discount\n",
    "\n",
    "@promotion\n",
    "def large_order(order):\n",
    "    '''7% discount for orders with 10 or more distinct items '''\n",
    "    distinct_items = {item.product for item in order.cart}\n",
    "    if len(distinct_items) >= 10:\n",
    "        return order.total() * .07\n",
    "    return 0\n",
    "\n",
    "def best_promo(order):\n",
    "    ''' Select best discount available '''\n",
    "    return max(promo(order) for promo in promos)\n",
    "\n"
   ]
  },
  {
   "cell_type": "markdown",
   "metadata": {},
   "source": [
    "This example registers the function without changing it. Most decorators do change the decorated function. They usually do it by defining an inner function and returning it to replace the decorated function.  Code that uses inner functions almost always depends on closures to operate correctly. To understand closures, we need to take a step back a have a close look at how variable scopes work in Python."
   ]
  },
  {
   "cell_type": "markdown",
   "metadata": {},
   "source": [
    "## Variable Scope Rules"
   ]
  },
  {
   "cell_type": "code",
   "execution_count": 13,
   "metadata": {},
   "outputs": [
    {
     "name": "stdout",
     "output_type": "stream",
     "text": [
      "1\n",
      "name 'b' is not defined\n"
     ]
    }
   ],
   "source": [
    "if \"b\" in globals():\n",
    "    del b\n",
    "\n",
    "def func(a):\n",
    "    print(a)\n",
    "    print(b)\n",
    "\n",
    "try:\n",
    "    func(1)\n",
    "except Exception as e: # b is not defined\n",
    "    print(e)"
   ]
  },
  {
   "cell_type": "code",
   "execution_count": 14,
   "metadata": {},
   "outputs": [
    {
     "name": "stdout",
     "output_type": "stream",
     "text": [
      "1\n",
      "2\n"
     ]
    }
   ],
   "source": [
    "b = 2 # if we define b\n",
    "func(1)"
   ]
  },
  {
   "cell_type": "markdown",
   "metadata": {},
   "source": [
    "Now a more involved example."
   ]
  },
  {
   "cell_type": "code",
   "execution_count": 15,
   "metadata": {},
   "outputs": [
    {
     "name": "stdout",
     "output_type": "stream",
     "text": [
      "1\n"
     ]
    },
    {
     "name": "stderr",
     "output_type": "stream",
     "text": [
      "Traceback (most recent call last):\n",
      "  File \"<ipython-input-15-eb7c97220ba0>\", line 10, in <module>\n",
      "    func(1)\n",
      "  File \"<ipython-input-15-eb7c97220ba0>\", line 6, in func\n",
      "    print(b)\n",
      "UnboundLocalError: local variable 'b' referenced before assignment\n"
     ]
    }
   ],
   "source": [
    "import traceback\n",
    "\n",
    "b = 2\n",
    "def func(a):\n",
    "    print(a)\n",
    "    print(b)\n",
    "    b = 3\n",
    "\n",
    "try:\n",
    "    func(1)\n",
    "except:\n",
    "    traceback.print_exc()"
   ]
  },
  {
   "cell_type": "markdown",
   "metadata": {},
   "source": [
    "But the fact is, when Python compiles the body of the function, it decides that b is a local variable because it is assigned within the function. The generated bytecode reflects this decision and will try to fetch b from the local environment. Later, when the call func(1) is made, the body of f2 fetches and prints the value of the local variable a, but when\n",
    "trying to fetch the value of local variable b it discovers that b is unbound."
   ]
  },
  {
   "cell_type": "code",
   "execution_count": 16,
   "metadata": {},
   "outputs": [
    {
     "data": {
      "text/plain": [
       "{'__name__': '__main__',\n",
       " '__doc__': 'Automatically created module for IPython interactive environment',\n",
       " '__package__': None,\n",
       " '__loader__': None,\n",
       " '__spec__': None,\n",
       " '__builtin__': <module 'builtins' (built-in)>,\n",
       " '__builtins__': <module 'builtins' (built-in)>,\n",
       " '_ih': ['',\n",
       "  'globals()',\n",
       "  '# we can implement something like this\\ndef double(x):\\n    return 2 * x\\n\\ndef add(a, b):\\n    return a + b\\n\\ndouble(add(1, 2))',\n",
       "  '# as this\\ndef double(func):\\n    def inner(*args, **kwargs):\\n        return 2 * func(*args, **kwargs)\\n    return inner\\n\\n@double\\ndef add(a, b):\\n    return a + b\\n\\nadd(1, 2)',\n",
       "  'add',\n",
       "  'import functools\\n\\ndef double(func):\\n    @functools.wraps(func)\\n    def inner(*args, **kwargs):\\n        return 2 * func(*args, **kwargs)\\n    return inner\\n\\n@double\\ndef add(a, b):\\n    return a + b\\n\\nadd(1, 2)',\n",
       "  'add',\n",
       "  'def decorate(target_func):\\n    def inner():\\n        print(\"running inner()\")\\n    return inner\\n\\n@decorate\\ndef target():\\n    print(\"running target()\")\\n\\ntarget()',\n",
       "  'import sys\\nif \"test_decorators\" in sys.modules:\\n    del sys.modules[\"test_decorators\"]',\n",
       "  'import test_decorators',\n",
       "  'import sys\\n\"test_decorators\" in sys.modules',\n",
       "  'import inspect\\nlines = inspect.getsource(test_decorators)\\nprint(lines)',\n",
       "  \"promos = []\\n\\ndef promotion(promo_func):\\n    promos.append(promo_func)\\n    return promo_func\\n\\n@promotion\\ndef fidelity(order):\\n    ''' 5% discount for customers with 1000 or more fidelity points '''\\n    return order.total() * .05 if order.customer.fidelity >= 1000 else 0\\n\\n@promotion\\ndef bulk_item(order):\\n    ''' 10% discount for each LineItem with 20 or more units '''\\n    discount = 0\\n    for item in order.cart:\\n        if item.quantity >= 20:\\n            discount += item.total() * .1\\n    return discount\\n\\n@promotion\\ndef large_order(order):\\n    '''7% discount for orders with 10 or more distinct items '''\\n    distinct_items = {item.product for item in order.cart}\\n    if len(distinct_items) >= 10:\\n        return order.total() * .07\\n    return 0\\n\\ndef best_promo(order):\\n    ''' Select best discount available '''\\n    return max(promo(order) for promo in promos)\",\n",
       "  'if \"b\" in globals():\\n    del b\\n\\ndef func(a):\\n    print(a)\\n    print(b)\\n\\ntry:\\n    func(1)\\nexcept Exception as e: # b is not defined\\n    print(e)',\n",
       "  'b = 2 # if we define b\\nfunc(1)',\n",
       "  'import traceback\\n\\nb = 2\\ndef func(a):\\n    print(a)\\n    print(b)\\n    b = 3\\n\\ntry:\\n    func(1)\\nexcept:\\n    traceback.print_exc()',\n",
       "  'globals()'],\n",
       " '_oh': {1: {...},\n",
       "  2: 6,\n",
       "  3: 6,\n",
       "  4: <function __main__.double.<locals>.inner(*args, **kwargs)>,\n",
       "  5: 6,\n",
       "  6: <function __main__.add(a, b)>,\n",
       "  10: True},\n",
       " '_dh': ['C:\\\\Users\\\\simon.garisch\\\\Desktop\\\\git\\\\Fluent-Python'],\n",
       " 'In': ['',\n",
       "  'globals()',\n",
       "  '# we can implement something like this\\ndef double(x):\\n    return 2 * x\\n\\ndef add(a, b):\\n    return a + b\\n\\ndouble(add(1, 2))',\n",
       "  '# as this\\ndef double(func):\\n    def inner(*args, **kwargs):\\n        return 2 * func(*args, **kwargs)\\n    return inner\\n\\n@double\\ndef add(a, b):\\n    return a + b\\n\\nadd(1, 2)',\n",
       "  'add',\n",
       "  'import functools\\n\\ndef double(func):\\n    @functools.wraps(func)\\n    def inner(*args, **kwargs):\\n        return 2 * func(*args, **kwargs)\\n    return inner\\n\\n@double\\ndef add(a, b):\\n    return a + b\\n\\nadd(1, 2)',\n",
       "  'add',\n",
       "  'def decorate(target_func):\\n    def inner():\\n        print(\"running inner()\")\\n    return inner\\n\\n@decorate\\ndef target():\\n    print(\"running target()\")\\n\\ntarget()',\n",
       "  'import sys\\nif \"test_decorators\" in sys.modules:\\n    del sys.modules[\"test_decorators\"]',\n",
       "  'import test_decorators',\n",
       "  'import sys\\n\"test_decorators\" in sys.modules',\n",
       "  'import inspect\\nlines = inspect.getsource(test_decorators)\\nprint(lines)',\n",
       "  \"promos = []\\n\\ndef promotion(promo_func):\\n    promos.append(promo_func)\\n    return promo_func\\n\\n@promotion\\ndef fidelity(order):\\n    ''' 5% discount for customers with 1000 or more fidelity points '''\\n    return order.total() * .05 if order.customer.fidelity >= 1000 else 0\\n\\n@promotion\\ndef bulk_item(order):\\n    ''' 10% discount for each LineItem with 20 or more units '''\\n    discount = 0\\n    for item in order.cart:\\n        if item.quantity >= 20:\\n            discount += item.total() * .1\\n    return discount\\n\\n@promotion\\ndef large_order(order):\\n    '''7% discount for orders with 10 or more distinct items '''\\n    distinct_items = {item.product for item in order.cart}\\n    if len(distinct_items) >= 10:\\n        return order.total() * .07\\n    return 0\\n\\ndef best_promo(order):\\n    ''' Select best discount available '''\\n    return max(promo(order) for promo in promos)\",\n",
       "  'if \"b\" in globals():\\n    del b\\n\\ndef func(a):\\n    print(a)\\n    print(b)\\n\\ntry:\\n    func(1)\\nexcept Exception as e: # b is not defined\\n    print(e)',\n",
       "  'b = 2 # if we define b\\nfunc(1)',\n",
       "  'import traceback\\n\\nb = 2\\ndef func(a):\\n    print(a)\\n    print(b)\\n    b = 3\\n\\ntry:\\n    func(1)\\nexcept:\\n    traceback.print_exc()',\n",
       "  'globals()'],\n",
       " 'Out': {1: {...},\n",
       "  2: 6,\n",
       "  3: 6,\n",
       "  4: <function __main__.double.<locals>.inner(*args, **kwargs)>,\n",
       "  5: 6,\n",
       "  6: <function __main__.add(a, b)>,\n",
       "  10: True},\n",
       " 'get_ipython': <bound method InteractiveShell.get_ipython of <ipykernel.zmqshell.ZMQInteractiveShell object at 0x0000000004B64780>>,\n",
       " 'exit': <IPython.core.autocall.ZMQExitAutocall at 0x4bb3eb8>,\n",
       " 'quit': <IPython.core.autocall.ZMQExitAutocall at 0x4bb3eb8>,\n",
       " '_': True,\n",
       " '__': <function __main__.add(a, b)>,\n",
       " '___': 6,\n",
       " '_i': 'import traceback\\n\\nb = 2\\ndef func(a):\\n    print(a)\\n    print(b)\\n    b = 3\\n\\ntry:\\n    func(1)\\nexcept:\\n    traceback.print_exc()',\n",
       " '_ii': 'b = 2 # if we define b\\nfunc(1)',\n",
       " '_iii': 'if \"b\" in globals():\\n    del b\\n\\ndef func(a):\\n    print(a)\\n    print(b)\\n\\ntry:\\n    func(1)\\nexcept Exception as e: # b is not defined\\n    print(e)',\n",
       " '_i1': 'globals()',\n",
       " '_1': {...},\n",
       " '_i2': '# we can implement something like this\\ndef double(x):\\n    return 2 * x\\n\\ndef add(a, b):\\n    return a + b\\n\\ndouble(add(1, 2))',\n",
       " 'double': <function __main__.double(func)>,\n",
       " 'add': <function __main__.add(a, b)>,\n",
       " '_2': 6,\n",
       " '_i3': '# as this\\ndef double(func):\\n    def inner(*args, **kwargs):\\n        return 2 * func(*args, **kwargs)\\n    return inner\\n\\n@double\\ndef add(a, b):\\n    return a + b\\n\\nadd(1, 2)',\n",
       " '_3': 6,\n",
       " '_i4': 'add',\n",
       " '_4': <function __main__.double.<locals>.inner(*args, **kwargs)>,\n",
       " '_i5': 'import functools\\n\\ndef double(func):\\n    @functools.wraps(func)\\n    def inner(*args, **kwargs):\\n        return 2 * func(*args, **kwargs)\\n    return inner\\n\\n@double\\ndef add(a, b):\\n    return a + b\\n\\nadd(1, 2)',\n",
       " 'functools': <module 'functools' from 'C:\\\\Anaconda2\\\\envs\\\\py36\\\\lib\\\\functools.py'>,\n",
       " '_5': 6,\n",
       " '_i6': 'add',\n",
       " '_6': <function __main__.add(a, b)>,\n",
       " '_i7': 'def decorate(target_func):\\n    def inner():\\n        print(\"running inner()\")\\n    return inner\\n\\n@decorate\\ndef target():\\n    print(\"running target()\")\\n\\ntarget()',\n",
       " 'decorate': <function __main__.decorate(target_func)>,\n",
       " 'target': <function __main__.decorate.<locals>.inner()>,\n",
       " '_i8': 'import sys\\nif \"test_decorators\" in sys.modules:\\n    del sys.modules[\"test_decorators\"]',\n",
       " 'sys': <module 'sys' (built-in)>,\n",
       " '_i9': 'import test_decorators',\n",
       " 'test_decorators': <module 'test_decorators' from 'C:\\\\Users\\\\simon.garisch\\\\Desktop\\\\git\\\\Fluent-Python\\\\test_decorators.py'>,\n",
       " '_i10': 'import sys\\n\"test_decorators\" in sys.modules',\n",
       " '_10': True,\n",
       " '_i11': 'import inspect\\nlines = inspect.getsource(test_decorators)\\nprint(lines)',\n",
       " 'inspect': <module 'inspect' from 'C:\\\\Anaconda2\\\\envs\\\\py36\\\\lib\\\\inspect.py'>,\n",
       " 'lines': 'import functools\\n\\ndef double(func):\\n    print(\"running the function \\'double\\'!\")\\n    @functools.wraps(func)\\n    def inner(*args, **kwargs):\\n        return 2 * func(*args, **kwargs)\\n    return inner\\n\\n@double\\ndef add(a, b):\\n    return a + b\\n',\n",
       " '_i12': \"promos = []\\n\\ndef promotion(promo_func):\\n    promos.append(promo_func)\\n    return promo_func\\n\\n@promotion\\ndef fidelity(order):\\n    ''' 5% discount for customers with 1000 or more fidelity points '''\\n    return order.total() * .05 if order.customer.fidelity >= 1000 else 0\\n\\n@promotion\\ndef bulk_item(order):\\n    ''' 10% discount for each LineItem with 20 or more units '''\\n    discount = 0\\n    for item in order.cart:\\n        if item.quantity >= 20:\\n            discount += item.total() * .1\\n    return discount\\n\\n@promotion\\ndef large_order(order):\\n    '''7% discount for orders with 10 or more distinct items '''\\n    distinct_items = {item.product for item in order.cart}\\n    if len(distinct_items) >= 10:\\n        return order.total() * .07\\n    return 0\\n\\ndef best_promo(order):\\n    ''' Select best discount available '''\\n    return max(promo(order) for promo in promos)\",\n",
       " 'promos': [<function __main__.fidelity(order)>,\n",
       "  <function __main__.bulk_item(order)>,\n",
       "  <function __main__.large_order(order)>],\n",
       " 'promotion': <function __main__.promotion(promo_func)>,\n",
       " 'fidelity': <function __main__.fidelity(order)>,\n",
       " 'bulk_item': <function __main__.bulk_item(order)>,\n",
       " 'large_order': <function __main__.large_order(order)>,\n",
       " 'best_promo': <function __main__.best_promo(order)>,\n",
       " '_i13': 'if \"b\" in globals():\\n    del b\\n\\ndef func(a):\\n    print(a)\\n    print(b)\\n\\ntry:\\n    func(1)\\nexcept Exception as e: # b is not defined\\n    print(e)',\n",
       " 'func': <function __main__.func(a)>,\n",
       " '_i14': 'b = 2 # if we define b\\nfunc(1)',\n",
       " 'b': 2,\n",
       " '_i15': 'import traceback\\n\\nb = 2\\ndef func(a):\\n    print(a)\\n    print(b)\\n    b = 3\\n\\ntry:\\n    func(1)\\nexcept:\\n    traceback.print_exc()',\n",
       " 'traceback': <module 'traceback' from 'C:\\\\Anaconda2\\\\envs\\\\py36\\\\lib\\\\traceback.py'>,\n",
       " '_i16': 'globals()'}"
      ]
     },
     "execution_count": 16,
     "metadata": {},
     "output_type": "execute_result"
    }
   ],
   "source": [
    "globals()"
   ]
  },
  {
   "cell_type": "code",
   "execution_count": 19,
   "metadata": {},
   "outputs": [
    {
     "data": {
      "text/plain": [
       "builtin_function_or_method"
      ]
     },
     "execution_count": 19,
     "metadata": {},
     "output_type": "execute_result"
    }
   ],
   "source": [
    "type(globals) # it's a"
   ]
  },
  {
   "cell_type": "code",
   "execution_count": 20,
   "metadata": {},
   "outputs": [
    {
     "data": {
      "text/plain": [
       "dict"
      ]
     },
     "execution_count": 20,
     "metadata": {},
     "output_type": "execute_result"
    }
   ],
   "source": [
    "type(globals()) # that returns a"
   ]
  },
  {
   "cell_type": "code",
   "execution_count": 22,
   "metadata": {},
   "outputs": [
    {
     "data": {
      "text/plain": [
       "True"
      ]
     },
     "execution_count": 22,
     "metadata": {},
     "output_type": "execute_result"
    }
   ],
   "source": [
    "\"func\" in globals()"
   ]
  },
  {
   "cell_type": "code",
   "execution_count": 23,
   "metadata": {},
   "outputs": [
    {
     "data": {
      "text/plain": [
       "<function __main__.func(a)>"
      ]
     },
     "execution_count": 23,
     "metadata": {},
     "output_type": "execute_result"
    }
   ],
   "source": [
    "globals()[\"func\"]"
   ]
  },
  {
   "cell_type": "code",
   "execution_count": 24,
   "metadata": {},
   "outputs": [
    {
     "data": {
      "text/plain": [
       "builtin_function_or_method"
      ]
     },
     "execution_count": 24,
     "metadata": {},
     "output_type": "execute_result"
    }
   ],
   "source": [
    "type(locals)"
   ]
  },
  {
   "cell_type": "code",
   "execution_count": 25,
   "metadata": {},
   "outputs": [
    {
     "data": {
      "text/plain": [
       "dict"
      ]
     },
     "execution_count": 25,
     "metadata": {},
     "output_type": "execute_result"
    }
   ],
   "source": [
    "type(locals())"
   ]
  },
  {
   "cell_type": "code",
   "execution_count": 29,
   "metadata": {},
   "outputs": [
    {
     "data": {
      "text/plain": [
       "True"
      ]
     },
     "execution_count": 29,
     "metadata": {},
     "output_type": "execute_result"
    }
   ],
   "source": [
    "locals() == globals() # calling locals when we are in the global scope"
   ]
  },
  {
   "cell_type": "code",
   "execution_count": 32,
   "metadata": {},
   "outputs": [
    {
     "name": "stdout",
     "output_type": "stream",
     "text": [
      "{'b': 2}\n"
     ]
    }
   ],
   "source": [
    "def f():\n",
    "    b = 2\n",
    "    print(locals())\n",
    "\n",
    "f()"
   ]
  },
  {
   "cell_type": "markdown",
   "metadata": {},
   "source": [
    "Python compiles the body of the function, it decides that b is a local variable because it is assigned within the function. The generated bytecode reflects this decision and will try to fetch b from the local environment. "
   ]
  },
  {
   "cell_type": "markdown",
   "metadata": {},
   "source": [
    "This is not a bug, but a design choice: Python does not require you to declare variables, but assumes that a variable assigned in the body of a function is local. This is much better than the behavior of JavaScript, which does not require variable declarations either, but if you do forget to declare that a variable is local (with var), you may clobber a global variable without knowing.\n"
   ]
  },
  {
   "cell_type": "code",
   "execution_count": 33,
   "metadata": {},
   "outputs": [
    {
     "name": "stdout",
     "output_type": "stream",
     "text": [
      "{}\n"
     ]
    }
   ],
   "source": [
    "# if you want Python to treat b as a global variable in the function\n",
    "def f():\n",
    "    global b\n",
    "    b = 2\n",
    "    print(locals())\n",
    "\n",
    "f()"
   ]
  },
  {
   "cell_type": "markdown",
   "metadata": {},
   "source": [
    "## Closures\n",
    "In the blogosphere, closures are sometimes confused with anonymous functions. Actually, a closure is a function with an extended scope that encompasses nonglobal variables referenced in the body of the function but not defined there. It does not matter\n",
    "whether the function is anonymous or not; what matters is that it can access nonglobal variables that are defined outside of its body."
   ]
  },
  {
   "cell_type": "code",
   "execution_count": 34,
   "metadata": {
    "collapsed": true
   },
   "outputs": [],
   "source": [
    "class Averager():\n",
    "    def __init__(self):\n",
    "        self.series = []\n",
    "\n",
    "    def __call__(self, new_value):\n",
    "        self.series.append(new_value)\n",
    "        total = sum(self.series)\n",
    "        return total/len(self.series)\n"
   ]
  },
  {
   "cell_type": "code",
   "execution_count": 36,
   "metadata": {},
   "outputs": [],
   "source": [
    "avg = Averager()"
   ]
  },
  {
   "cell_type": "code",
   "execution_count": 37,
   "metadata": {},
   "outputs": [
    {
     "data": {
      "text/plain": [
       "10.0"
      ]
     },
     "execution_count": 37,
     "metadata": {},
     "output_type": "execute_result"
    }
   ],
   "source": [
    "avg(10)"
   ]
  },
  {
   "cell_type": "code",
   "execution_count": 38,
   "metadata": {},
   "outputs": [
    {
     "data": {
      "text/plain": [
       "10.5"
      ]
     },
     "execution_count": 38,
     "metadata": {},
     "output_type": "execute_result"
    }
   ],
   "source": [
    "avg(11)"
   ]
  },
  {
   "cell_type": "code",
   "execution_count": 39,
   "metadata": {},
   "outputs": [
    {
     "data": {
      "text/plain": [
       "11.0"
      ]
     },
     "execution_count": 39,
     "metadata": {},
     "output_type": "execute_result"
    }
   ],
   "source": [
    "avg(12)"
   ]
  },
  {
   "cell_type": "markdown",
   "metadata": {},
   "source": [
    "Now a functional implementation."
   ]
  },
  {
   "cell_type": "code",
   "execution_count": 40,
   "metadata": {
    "collapsed": true
   },
   "outputs": [],
   "source": [
    "def make_averager():\n",
    "    series = []\n",
    "\n",
    "    def averager(new_value):\n",
    "        series.append(new_value)\n",
    "        total = sum(series)\n",
    "        return total/len(series)\n",
    "\n",
    "    return averager\n"
   ]
  },
  {
   "cell_type": "code",
   "execution_count": 41,
   "metadata": {
    "collapsed": true
   },
   "outputs": [],
   "source": [
    "avg = make_averager()"
   ]
  },
  {
   "cell_type": "code",
   "execution_count": 42,
   "metadata": {},
   "outputs": [
    {
     "data": {
      "text/plain": [
       "10.0"
      ]
     },
     "execution_count": 42,
     "metadata": {},
     "output_type": "execute_result"
    }
   ],
   "source": [
    "avg(10)"
   ]
  },
  {
   "cell_type": "code",
   "execution_count": 43,
   "metadata": {},
   "outputs": [
    {
     "data": {
      "text/plain": [
       "10.5"
      ]
     },
     "execution_count": 43,
     "metadata": {},
     "output_type": "execute_result"
    }
   ],
   "source": [
    "avg(11)"
   ]
  },
  {
   "cell_type": "code",
   "execution_count": 44,
   "metadata": {},
   "outputs": [
    {
     "data": {
      "text/plain": [
       "11.0"
      ]
     },
     "execution_count": 44,
     "metadata": {},
     "output_type": "execute_result"
    }
   ],
   "source": [
    "avg(12)"
   ]
  },
  {
   "cell_type": "markdown",
   "metadata": {},
   "source": [
    "Note that series is a local variable of make_averager because the initialization series = [] happens in the body of that function. But when avg(10) is called, make_averager has already returned, and its local scope is long gone. Within averager, series is a free variable. This is a technical term meaning a variable that is not bound in the local scope. "
   ]
  },
  {
   "cell_type": "code",
   "execution_count": 45,
   "metadata": {},
   "outputs": [
    {
     "data": {
      "text/plain": [
       "('new_value', 'total')"
      ]
     },
     "execution_count": 45,
     "metadata": {},
     "output_type": "execute_result"
    }
   ],
   "source": [
    "# # Python keeps the names of local and free variables in the __code__ attribute \n",
    "avg.__code__.co_varnames # get locals."
   ]
  },
  {
   "cell_type": "code",
   "execution_count": 46,
   "metadata": {},
   "outputs": [
    {
     "data": {
      "text/plain": [
       "('series',)"
      ]
     },
     "execution_count": 46,
     "metadata": {},
     "output_type": "execute_result"
    }
   ],
   "source": [
    "avg.__code__.co_freevars # and free variables."
   ]
  },
  {
   "cell_type": "markdown",
   "metadata": {},
   "source": [
    "The binding for series is kept in the __closure__ attribute of the returned function avg. Each item in avg.__closure__ corresponds to a name in avg.__code__.co_free vars. These items are cells, and they have an attribute called cell_contents where\n",
    "the actual value can be found. "
   ]
  },
  {
   "cell_type": "code",
   "execution_count": 47,
   "metadata": {},
   "outputs": [
    {
     "data": {
      "text/plain": [
       "('series',)"
      ]
     },
     "execution_count": 47,
     "metadata": {},
     "output_type": "execute_result"
    }
   ],
   "source": [
    "avg.__code__.co_freevars"
   ]
  },
  {
   "cell_type": "code",
   "execution_count": 48,
   "metadata": {},
   "outputs": [
    {
     "data": {
      "text/plain": [
       "(<cell at 0x0000000004BB5BE8: list object at 0x0000000004C20248>,)"
      ]
     },
     "execution_count": 48,
     "metadata": {},
     "output_type": "execute_result"
    }
   ],
   "source": [
    "avg.__closure__"
   ]
  },
  {
   "cell_type": "code",
   "execution_count": 49,
   "metadata": {},
   "outputs": [
    {
     "data": {
      "text/plain": [
       "[10, 11, 12]"
      ]
     },
     "execution_count": 49,
     "metadata": {},
     "output_type": "execute_result"
    }
   ],
   "source": [
    "avg.__closure__[0].cell_contents"
   ]
  },
  {
   "cell_type": "markdown",
   "metadata": {},
   "source": [
    "To summarize: a closure is a function that retains the bindings of the free variables that exist when the function is defined, so that they can be used later when the function is invoked and the defining scope is no longer available."
   ]
  },
  {
   "cell_type": "code",
   "execution_count": 4,
   "metadata": {},
   "outputs": [],
   "source": [
    "class A(object):\n",
    "    def __init__(self, a, b):\n",
    "        self.a = a\n",
    "        self.b = b\n",
    "\n",
    "    def add(self):\n",
    "        return self.a + self.b\n",
    "\n",
    "    def multiply(self):\n",
    "        return self.a * self.b\n"
   ]
  },
  {
   "cell_type": "code",
   "execution_count": 5,
   "metadata": {},
   "outputs": [
    {
     "data": {
      "text/plain": [
       "(5, 6)"
      ]
     },
     "execution_count": 5,
     "metadata": {},
     "output_type": "execute_result"
    }
   ],
   "source": [
    "a = A(2, 3)\n",
    "a.add(), a.multiply()"
   ]
  },
  {
   "cell_type": "code",
   "execution_count": 21,
   "metadata": {},
   "outputs": [],
   "source": [
    "def func(a, b): # just having a play\n",
    "    a = a\n",
    "    b = b\n",
    "\n",
    "    def add():\n",
    "        return a + b\n",
    "\n",
    "    def multiply():\n",
    "        return a * b\n",
    "    \n",
    "    return locals()\n",
    "\n",
    "a = func(2, 3)"
   ]
  },
  {
   "cell_type": "code",
   "execution_count": 22,
   "metadata": {},
   "outputs": [
    {
     "data": {
      "text/plain": [
       "(2, 3)"
      ]
     },
     "execution_count": 22,
     "metadata": {},
     "output_type": "execute_result"
    }
   ],
   "source": [
    "a[\"a\"], a[\"b\"]"
   ]
  },
  {
   "cell_type": "code",
   "execution_count": 23,
   "metadata": {},
   "outputs": [
    {
     "data": {
      "text/plain": [
       "(5, 6)"
      ]
     },
     "execution_count": 23,
     "metadata": {},
     "output_type": "execute_result"
    }
   ],
   "source": [
    "a[\"add\"](), a[\"multiply\"]()"
   ]
  },
  {
   "cell_type": "markdown",
   "metadata": {
    "collapsed": true
   },
   "source": [
    "## The nonlocal Declaration\n",
    "Consider a broken higher-order function to calculate a running average without keeping all history."
   ]
  },
  {
   "cell_type": "code",
   "execution_count": 24,
   "metadata": {},
   "outputs": [],
   "source": [
    "def make_averager():\n",
    "    count = 0\n",
    "    total = 0\n",
    "    \n",
    "    def averager(new_value):\n",
    "        count += 1\n",
    "        total += new_value\n",
    "        return total / count\n",
    "    \n",
    "    return averager\n",
    "\n",
    "avg = make_averager()"
   ]
  },
  {
   "cell_type": "code",
   "execution_count": 25,
   "metadata": {},
   "outputs": [
    {
     "name": "stderr",
     "output_type": "stream",
     "text": [
      "Traceback (most recent call last):\n",
      "  File \"<ipython-input-25-0656051f71a2>\", line 4, in <module>\n",
      "    avg(10)\n",
      "  File \"<ipython-input-24-dc311d6ae31a>\", line 6, in averager\n",
      "    count += 1\n",
      "UnboundLocalError: local variable 'count' referenced before assignment\n"
     ]
    }
   ],
   "source": [
    "import traceback\n",
    "\n",
    "try:\n",
    "    avg(10)\n",
    "except:\n",
    "    traceback.print_exc()"
   ]
  },
  {
   "cell_type": "markdown",
   "metadata": {},
   "source": [
    "The problem is that the statement count += 1 actually means the same as count = count + 1, when count is a number or any immutable type. So we are actually assigning to count in the body of averager, and that makes it a local variable. The same problem affects the total variable. <br>\n",
    "In the earlier example using series.append we took advantage of the fact that lists are mutable. But with immutable types like numbers, strings, tuples, etc., all you can do is read, but never update. To work around this, the nonlocal declaration was introduced in Python 3 (workarounds required for Python 2)."
   ]
  },
  {
   "cell_type": "code",
   "execution_count": 28,
   "metadata": {},
   "outputs": [],
   "source": [
    "def make_averager():\n",
    "    count = 0\n",
    "    total = 0\n",
    "\n",
    "    def averager(new_value):\n",
    "        nonlocal count, total\n",
    "        count += 1\n",
    "        total += new_value\n",
    "        return total / count\n",
    "    \n",
    "    return averager\n",
    "\n",
    "avg = make_averager()"
   ]
  },
  {
   "cell_type": "code",
   "execution_count": 29,
   "metadata": {},
   "outputs": [
    {
     "data": {
      "text/plain": [
       "10.0"
      ]
     },
     "execution_count": 29,
     "metadata": {},
     "output_type": "execute_result"
    }
   ],
   "source": [
    "avg(10)"
   ]
  },
  {
   "cell_type": "code",
   "execution_count": 30,
   "metadata": {},
   "outputs": [
    {
     "data": {
      "text/plain": [
       "10.5"
      ]
     },
     "execution_count": 30,
     "metadata": {},
     "output_type": "execute_result"
    }
   ],
   "source": [
    "avg(11)"
   ]
  },
  {
   "cell_type": "code",
   "execution_count": 31,
   "metadata": {},
   "outputs": [
    {
     "data": {
      "text/plain": [
       "11.0"
      ]
     },
     "execution_count": 31,
     "metadata": {},
     "output_type": "execute_result"
    }
   ],
   "source": [
    "avg(12)"
   ]
  },
  {
   "cell_type": "markdown",
   "metadata": {},
   "source": [
    "## Implementing a Simple Decorator"
   ]
  },
  {
   "cell_type": "code",
   "execution_count": 36,
   "metadata": {},
   "outputs": [],
   "source": [
    "import time\n",
    "\n",
    "'''\n",
    "Some shortcomings of this decorator:\n",
    "* Doesn't support kwargs\n",
    "* Should use functools.wraps decorator to copy the relevant attributes from func to clocked.\n",
    "'''\n",
    "\n",
    "def clock(func):\n",
    "    def clocked(*args):\n",
    "        t0 = time.perf_counter()\n",
    "        result = func(*args)\n",
    "        elapsed = time.perf_counter() - t0\n",
    "        name = func.__name__\n",
    "        arg_str = ', '.join(repr(arg) for arg in args)\n",
    "        print('[%0.8fs] %s(%s) -> %r' % (elapsed, name, arg_str, result))\n",
    "        return result\n",
    "    return clocked\n"
   ]
  },
  {
   "cell_type": "code",
   "execution_count": 33,
   "metadata": {},
   "outputs": [],
   "source": [
    "@clock\n",
    "def snooze(seconds):\n",
    "    time.sleep(seconds)\n"
   ]
  },
  {
   "cell_type": "code",
   "execution_count": 34,
   "metadata": {},
   "outputs": [
    {
     "name": "stdout",
     "output_type": "stream",
     "text": [
      "[0.99956610s] snooze(1) -> None\n"
     ]
    }
   ],
   "source": [
    "snooze(1)"
   ]
  },
  {
   "cell_type": "code",
   "execution_count": 35,
   "metadata": {},
   "outputs": [
    {
     "name": "stdout",
     "output_type": "stream",
     "text": [
      "[0.00000030s] factorial(1) -> 1\n",
      "[0.00014390s] factorial(2) -> 2\n",
      "[0.00016100s] factorial(3) -> 6\n"
     ]
    },
    {
     "data": {
      "text/plain": [
       "6"
      ]
     },
     "execution_count": 35,
     "metadata": {},
     "output_type": "execute_result"
    }
   ],
   "source": [
    "@clock\n",
    "def factorial(n):\n",
    "    return 1 if n < 2 else n*factorial(n-1)\n",
    "\n",
    "factorial(3)"
   ]
  },
  {
   "cell_type": "markdown",
   "metadata": {},
   "source": [
    "This is the typical behavior of a decorator: it replaces the decorated function with a new function that accepts the same arguments and (usually) returns whatever the decorated function was supposed to return, while also doing some extra processing."
   ]
  },
  {
   "cell_type": "markdown",
   "metadata": {},
   "source": [
    "## Decorators in the Standard Library\n",
    "Python has three built-in functions that are designed to decorate methods: property, classmethod, and staticmethod."
   ]
  },
  {
   "cell_type": "code",
   "execution_count": 1,
   "metadata": {},
   "outputs": [],
   "source": [
    "# as an example\n",
    "class A(object):\n",
    "    counter = 0\n",
    "    \n",
    "    def __init__(self):\n",
    "        A.increment_counter()\n",
    "        self._is_ready = False\n",
    "\n",
    "    @classmethod\n",
    "    def get_counter(cls):\n",
    "        return cls.counter\n",
    "\n",
    "    @classmethod\n",
    "    def increment_counter(cls):\n",
    "        cls.counter += 1\n",
    "\n",
    "    @property\n",
    "    def is_ready(self):\n",
    "        return self._is_ready\n",
    "\n",
    "    @is_ready.setter\n",
    "    def is_ready(self, is_ready):\n",
    "        self.is_ready = is_ready\n",
    "\n",
    "    @staticmethod\n",
    "    def answer_to_life():\n",
    "        return 42\n"
   ]
  },
  {
   "cell_type": "markdown",
   "metadata": {},
   "source": [
    "With staticmethods, neither self (the object instance) nor  cls (the class) is implicitly passed as the first argument. They behave like plain functions except that you can call them from an instance or the class."
   ]
  },
  {
   "cell_type": "code",
   "execution_count": 2,
   "metadata": {},
   "outputs": [],
   "source": [
    "a = A()\n",
    "b = A()"
   ]
  },
  {
   "cell_type": "code",
   "execution_count": 3,
   "metadata": {},
   "outputs": [
    {
     "data": {
      "text/plain": [
       "2"
      ]
     },
     "execution_count": 3,
     "metadata": {},
     "output_type": "execute_result"
    }
   ],
   "source": [
    "A.get_counter() # a class method"
   ]
  },
  {
   "cell_type": "code",
   "execution_count": 5,
   "metadata": {},
   "outputs": [
    {
     "data": {
      "text/plain": [
       "False"
      ]
     },
     "execution_count": 5,
     "metadata": {},
     "output_type": "execute_result"
    }
   ],
   "source": [
    "a.is_ready # an object attribute using @property"
   ]
  },
  {
   "cell_type": "code",
   "execution_count": 10,
   "metadata": {},
   "outputs": [
    {
     "data": {
      "text/plain": [
       "42"
      ]
     },
     "execution_count": 10,
     "metadata": {},
     "output_type": "execute_result"
    }
   ],
   "source": [
    "a.answer_to_life() # a staticmethod that we can call from either the class or object."
   ]
  },
  {
   "cell_type": "code",
   "execution_count": 11,
   "metadata": {},
   "outputs": [
    {
     "data": {
      "text/plain": [
       "42"
      ]
     },
     "execution_count": 11,
     "metadata": {},
     "output_type": "execute_result"
    }
   ],
   "source": [
    "A.answer_to_life()"
   ]
  },
  {
   "cell_type": "markdown",
   "metadata": {},
   "source": [
    "## Memoization with functools.lru_cache"
   ]
  },
  {
   "cell_type": "code",
   "execution_count": 13,
   "metadata": {},
   "outputs": [],
   "source": [
    "import functools\n",
    "\n",
    "def fibonacci(n):\n",
    "    if n < 2:\n",
    "        return n\n",
    "    return fibonacci(n-2) + fibonacci(n-1)\n",
    "\n",
    "\n",
    "@functools.lru_cache()\n",
    "def fibonacci_with_cache(n):\n",
    "    if n < 2:\n",
    "        return n\n",
    "    return fibonacci(n-2) + fibonacci(n-1)"
   ]
  },
  {
   "cell_type": "code",
   "execution_count": 17,
   "metadata": {},
   "outputs": [
    {
     "name": "stdout",
     "output_type": "stream",
     "text": [
      "2.3 µs ± 48.3 ns per loop (mean ± std. dev. of 7 runs, 100000 loops each)\n"
     ]
    }
   ],
   "source": [
    "%timeit fibonacci(6)"
   ]
  },
  {
   "cell_type": "code",
   "execution_count": 18,
   "metadata": {},
   "outputs": [
    {
     "name": "stdout",
     "output_type": "stream",
     "text": [
      "85.3 ns ± 0.717 ns per loop (mean ± std. dev. of 7 runs, 10000000 loops each)\n"
     ]
    }
   ],
   "source": [
    "%timeit fibonacci_with_cache(6)"
   ]
  },
  {
   "cell_type": "code",
   "execution_count": 19,
   "metadata": {},
   "outputs": [
    {
     "name": "stdout",
     "output_type": "stream",
     "text": [
      "84.9 ns ± 1.63 ns per loop (mean ± std. dev. of 7 runs, 10000000 loops each)\n"
     ]
    }
   ],
   "source": [
    "%timeit fibonacci_with_cache(6)"
   ]
  },
  {
   "cell_type": "markdown",
   "metadata": {},
   "source": [
    "Looks like there is something wrong with the lru_cache setup above..."
   ]
  },
  {
   "cell_type": "markdown",
   "metadata": {},
   "source": [
    "## Generic Functions with Single Dispatch\n",
    "Because we don’t have method or function overloading in Python, we can’t create variations of htmlize with different signatures for each data type we want to handle differently. A common solution in Python would be to turn htmlize into a dispatch function, with a chain of if/elif/elif calling specialized functions like htmlize_str, htmlize_int, etc. <br>\n",
    "\n",
    "The new functools.singledispatch decorator in Python 3.4 allows each module to\n",
    "contribute to the overall solution, and lets you easily provide a specialized function even\n",
    "for classes that you can’t edit. "
   ]
  },
  {
   "cell_type": "code",
   "execution_count": null,
   "metadata": {},
   "outputs": [],
   "source": []
  }
 ],
 "metadata": {
  "kernelspec": {
   "display_name": "py36",
   "language": "python",
   "name": "py36"
  },
  "language_info": {
   "codemirror_mode": {
    "name": "ipython",
    "version": 3
   },
   "file_extension": ".py",
   "mimetype": "text/x-python",
   "name": "python",
   "nbconvert_exporter": "python",
   "pygments_lexer": "ipython3",
   "version": "3.6.6"
  }
 },
 "nbformat": 4,
 "nbformat_minor": 2
}
