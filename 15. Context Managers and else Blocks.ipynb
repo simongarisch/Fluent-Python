{
 "cells": [
  {
   "cell_type": "markdown",
   "metadata": {},
   "source": [
    "# Context Managers and else Blocks\n",
    "Here we discuss control flow features that are not so common in other languages, and for this reason tend to be overlooked or underused in Python. They are:\n",
    "-  The with statement and context managers\n",
    "-  The else clause in for, while, and try statements\n"
   ]
  },
  {
   "cell_type": "markdown",
   "metadata": {},
   "source": [
    "## Do This, Then That: else Blocks Beyond if\n",
    "-  for: The else block will run only if and when the for loop runs to completion (i.e., not if the for is aborted with a break)."
   ]
  },
  {
   "cell_type": "code",
   "execution_count": 2,
   "metadata": {},
   "outputs": [],
   "source": [
    "for i in range(10):\n",
    "    if i==3:\n",
    "        break\n",
    "else:\n",
    "    print(\"For loop completed!\")"
   ]
  },
  {
   "cell_type": "code",
   "execution_count": 3,
   "metadata": {},
   "outputs": [
    {
     "name": "stdout",
     "output_type": "stream",
     "text": [
      "For loop completed!\n"
     ]
    }
   ],
   "source": [
    "for i in range(10):\n",
    "    if i==3:\n",
    "        continue\n",
    "else:\n",
    "    print(\"For loop completed!\")"
   ]
  },
  {
   "cell_type": "markdown",
   "metadata": {},
   "source": [
    "* while: The else block will run only if and when the while loop exits because the condition became falsy (i.e., not when the while is aborted with a break)."
   ]
  },
  {
   "cell_type": "code",
   "execution_count": 4,
   "metadata": {
    "collapsed": true
   },
   "outputs": [],
   "source": [
    "counter = 0\n",
    "while counter < 10:\n",
    "    counter += 1\n",
    "    if counter < 7:\n",
    "        break\n",
    "else:\n",
    "    print(\"Didn't break early!\")"
   ]
  },
  {
   "cell_type": "code",
   "execution_count": 5,
   "metadata": {},
   "outputs": [
    {
     "name": "stdout",
     "output_type": "stream",
     "text": [
      "Didn't break early!\n"
     ]
    }
   ],
   "source": [
    "counter = 0\n",
    "while counter < 10:\n",
    "    counter += 1\n",
    "else:\n",
    "    print(\"Didn't break early!\")"
   ]
  },
  {
   "cell_type": "markdown",
   "metadata": {},
   "source": [
    "* try: The else block will only run if no exception is raised in the try block."
   ]
  },
  {
   "cell_type": "code",
   "execution_count": 6,
   "metadata": {
    "collapsed": true
   },
   "outputs": [],
   "source": [
    "try:\n",
    "    1 / 0\n",
    "except:\n",
    "    pass\n",
    "else:\n",
    "    print(\"No exception raised!\")"
   ]
  },
  {
   "cell_type": "code",
   "execution_count": 7,
   "metadata": {},
   "outputs": [
    {
     "name": "stdout",
     "output_type": "stream",
     "text": [
      "No exception raised!\n"
     ]
    }
   ],
   "source": [
    "try:\n",
    "    1 / 1\n",
    "except:\n",
    "    pass\n",
    "else:\n",
    "    print(\"No exception raised!\")"
   ]
  },
  {
   "cell_type": "markdown",
   "metadata": {},
   "source": [
    "Using else with these statements often makes the code easier to read and saves the trouble of setting up control flags or adding extra if statements."
   ]
  },
  {
   "cell_type": "code",
   "execution_count": 9,
   "metadata": {},
   "outputs": [],
   "source": [
    "my_list = [\"apple\", \"pear\", \"banana\"]\n",
    "\n",
    "for item in my_list:\n",
    "    if item == 'banana':\n",
    "        break\n",
    "else:\n",
    "    # didn't break, so no banana item found\n",
    "    raise ValueError('No banana flavor found!')"
   ]
  },
  {
   "cell_type": "code",
   "execution_count": null,
   "metadata": {
    "collapsed": true
   },
   "outputs": [],
   "source": []
  }
 ],
 "metadata": {
  "kernelspec": {
   "display_name": "py36",
   "language": "python",
   "name": "py36"
  },
  "language_info": {
   "codemirror_mode": {
    "name": "ipython",
    "version": 3
   },
   "file_extension": ".py",
   "mimetype": "text/x-python",
   "name": "python",
   "nbconvert_exporter": "python",
   "pygments_lexer": "ipython3",
   "version": "3.6.7"
  }
 },
 "nbformat": 4,
 "nbformat_minor": 2
}
