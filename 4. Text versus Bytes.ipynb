{
 "cells": [
  {
   "cell_type": "markdown",
   "metadata": {},
   "source": [
    "# Text versus Bytes\n",
    "Python 3 introduced a sharp distinction between strings of human text and sequences of raw bytes."
   ]
  },
  {
   "cell_type": "markdown",
   "metadata": {},
   "source": [
    "## Character Issues\n",
    "The concept of 'string' is simple enough: a string is a sequence of characters. The problem lies in the definition of 'character.' The actual bytes that represent a character depend on the encoding in use. Converting from code points to bytes is encoding; converting from bytes to code points is decoding."
   ]
  },
  {
   "cell_type": "code",
   "execution_count": 1,
   "metadata": {},
   "outputs": [
    {
     "data": {
      "text/plain": [
       "4"
      ]
     },
     "execution_count": 1,
     "metadata": {},
     "output_type": "execute_result"
    }
   ],
   "source": [
    "s = 'café'\n",
    "len(s)"
   ]
  },
  {
   "cell_type": "code",
   "execution_count": 2,
   "metadata": {},
   "outputs": [
    {
     "data": {
      "text/plain": [
       "b'caf\\xc3\\xa9'"
      ]
     },
     "execution_count": 2,
     "metadata": {},
     "output_type": "execute_result"
    }
   ],
   "source": [
    "b = s.encode('utf8')\n",
    "b"
   ]
  },
  {
   "cell_type": "code",
   "execution_count": 3,
   "metadata": {},
   "outputs": [
    {
     "data": {
      "text/plain": [
       "5"
      ]
     },
     "execution_count": 3,
     "metadata": {},
     "output_type": "execute_result"
    }
   ],
   "source": [
    "len(b)"
   ]
  },
  {
   "cell_type": "code",
   "execution_count": 4,
   "metadata": {},
   "outputs": [
    {
     "data": {
      "text/plain": [
       "'café'"
      ]
     },
     "execution_count": 4,
     "metadata": {},
     "output_type": "execute_result"
    }
   ],
   "source": [
    "b.decode('utf8')"
   ]
  },
  {
   "cell_type": "code",
   "execution_count": 5,
   "metadata": {},
   "outputs": [
    {
     "data": {
      "text/plain": [
       "4"
      ]
     },
     "execution_count": 5,
     "metadata": {},
     "output_type": "execute_result"
    }
   ],
   "source": [
    "len(b.decode('utf8'))"
   ]
  },
  {
   "cell_type": "markdown",
   "metadata": {},
   "source": [
    "## Byte Essentials\n",
    "Each item in bytes or bytearray is an integer from 0 to 255."
   ]
  },
  {
   "cell_type": "code",
   "execution_count": 6,
   "metadata": {
    "collapsed": true
   },
   "outputs": [],
   "source": [
    "cafe = bytes('café', encoding='utf_8')"
   ]
  },
  {
   "cell_type": "code",
   "execution_count": 7,
   "metadata": {},
   "outputs": [
    {
     "data": {
      "text/plain": [
       "b'caf\\xc3\\xa9'"
      ]
     },
     "execution_count": 7,
     "metadata": {},
     "output_type": "execute_result"
    }
   ],
   "source": [
    "cafe"
   ]
  },
  {
   "cell_type": "code",
   "execution_count": 8,
   "metadata": {},
   "outputs": [
    {
     "data": {
      "text/plain": [
       "99"
      ]
     },
     "execution_count": 8,
     "metadata": {},
     "output_type": "execute_result"
    }
   ],
   "source": [
    "cafe[0]"
   ]
  },
  {
   "cell_type": "code",
   "execution_count": 9,
   "metadata": {},
   "outputs": [
    {
     "data": {
      "text/plain": [
       "b'c'"
      ]
     },
     "execution_count": 9,
     "metadata": {},
     "output_type": "execute_result"
    }
   ],
   "source": [
    "cafe[:1]"
   ]
  },
  {
   "cell_type": "code",
   "execution_count": 10,
   "metadata": {
    "collapsed": true
   },
   "outputs": [],
   "source": [
    "cafe_arr = bytearray(cafe)"
   ]
  },
  {
   "cell_type": "code",
   "execution_count": 11,
   "metadata": {},
   "outputs": [
    {
     "data": {
      "text/plain": [
       "bytearray(b'caf\\xc3\\xa9')"
      ]
     },
     "execution_count": 11,
     "metadata": {},
     "output_type": "execute_result"
    }
   ],
   "source": [
    "cafe_arr"
   ]
  },
  {
   "cell_type": "code",
   "execution_count": 12,
   "metadata": {},
   "outputs": [
    {
     "data": {
      "text/plain": [
       "bytearray(b'\\xa9')"
      ]
     },
     "execution_count": 12,
     "metadata": {},
     "output_type": "execute_result"
    }
   ],
   "source": [
    "cafe_arr[-1:]"
   ]
  },
  {
   "cell_type": "markdown",
   "metadata": {},
   "source": [
    "## Structs and Memory Views\n",
    "memoryview class does not let you create or store byte sequences, but provides shared memory access to slices of data from\n",
    "other binary sequences, packed arrays, and buffers such as Python Imaging Library (PIL) images, without copying the bytes."
   ]
  },
  {
   "cell_type": "code",
   "execution_count": 1,
   "metadata": {},
   "outputs": [
    {
     "data": {
      "text/plain": [
       "<memory at 0x0000000004BF3C48>"
      ]
     },
     "execution_count": 1,
     "metadata": {},
     "output_type": "execute_result"
    }
   ],
   "source": [
    "import struct\n",
    "\n",
    "with open('google.png', 'rb') as fp:\n",
    "    img = memoryview(fp.read())\n",
    "\n",
    "img"
   ]
  },
  {
   "cell_type": "code",
   "execution_count": 3,
   "metadata": {},
   "outputs": [
    {
     "data": {
      "text/plain": [
       "b'\\x89PNG\\r\\n\\x1a\\n\\x00\\x00'"
      ]
     },
     "execution_count": 3,
     "metadata": {},
     "output_type": "execute_result"
    }
   ],
   "source": [
    "fmt = '<3s3sHH'\n",
    "header = img[:10]\n",
    "bytes(header)"
   ]
  },
  {
   "cell_type": "code",
   "execution_count": 4,
   "metadata": {},
   "outputs": [
    {
     "data": {
      "text/plain": [
       "(b'\\x89PN', b'G\\r\\n', 2586, 0)"
      ]
     },
     "execution_count": 4,
     "metadata": {},
     "output_type": "execute_result"
    }
   ],
   "source": [
    "struct.unpack(fmt, header) "
   ]
  },
  {
   "cell_type": "code",
   "execution_count": 5,
   "metadata": {
    "collapsed": true
   },
   "outputs": [],
   "source": [
    "del header\n",
    "del img"
   ]
  },
  {
   "cell_type": "markdown",
   "metadata": {},
   "source": [
    "## Basic Encoders/Decoders\n",
    "The Python distribution bundles more than 100 codecs (encoder/decoder) for text to byte conversion and vice versa. "
   ]
  },
  {
   "cell_type": "code",
   "execution_count": 10,
   "metadata": {},
   "outputs": [
    {
     "name": "stdout",
     "output_type": "stream",
     "text": [
      "0 646\n",
      "1 ansi_x3.4_1968\n",
      "2 ansi_x3_4_1968\n",
      "3 ansi_x3.4_1986\n",
      "4 cp367\n",
      "5 csascii\n",
      "6 ibm367\n",
      "7 iso646_us\n",
      "8 iso_646.irv_1991\n",
      "9 iso_ir_6\n",
      "10 us\n",
      "11 us_ascii\n",
      "12 base64\n",
      "13 base_64\n",
      "14 big5_tw\n",
      "15 csbig5\n",
      "16 big5_hkscs\n",
      "17 hkscs\n",
      "18 bz2\n",
      "19 037\n",
      "20 csibm037\n",
      "21 ebcdic_cp_ca\n",
      "22 ebcdic_cp_nl\n",
      "23 ebcdic_cp_us\n",
      "24 ebcdic_cp_wt\n",
      "25 ibm037\n",
      "26 ibm039\n",
      "27 1026\n",
      "28 csibm1026\n",
      "29 ibm1026\n",
      "30 1125\n",
      "31 ibm1125\n",
      "32 cp866u\n",
      "33 ruscii\n",
      "34 1140\n",
      "35 ibm1140\n",
      "36 1250\n",
      "37 windows_1250\n",
      "38 1251\n",
      "39 windows_1251\n",
      "40 1252\n",
      "41 windows_1252\n",
      "42 1253\n",
      "43 windows_1253\n",
      "44 1254\n",
      "45 windows_1254\n",
      "46 1255\n",
      "47 windows_1255\n",
      "48 1256\n",
      "49 windows_1256\n",
      "50 1257\n",
      "51 windows_1257\n",
      "52 1258\n",
      "53 windows_1258\n",
      "54 273\n",
      "55 ibm273\n",
      "56 csibm273\n",
      "57 424\n",
      "58 csibm424\n",
      "59 ebcdic_cp_he\n",
      "60 ibm424\n",
      "61 437\n",
      "62 cspc8codepage437\n",
      "63 ibm437\n",
      "64 500\n",
      "65 csibm500\n",
      "66 ebcdic_cp_be\n",
      "67 ebcdic_cp_ch\n",
      "68 ibm500\n",
      "69 775\n",
      "70 cspc775baltic\n",
      "71 ibm775\n",
      "72 850\n",
      "73 cspc850multilingual\n",
      "74 ibm850\n",
      "75 852\n",
      "76 cspcp852\n",
      "77 ibm852\n",
      "78 855\n",
      "79 csibm855\n",
      "80 ibm855\n",
      "81 857\n",
      "82 csibm857\n",
      "83 ibm857\n",
      "84 858\n",
      "85 csibm858\n",
      "86 ibm858\n",
      "87 860\n",
      "88 csibm860\n",
      "89 ibm860\n",
      "90 861\n",
      "91 cp_is\n",
      "92 csibm861\n",
      "93 ibm861\n",
      "94 862\n",
      "95 cspc862latinhebrew\n",
      "96 ibm862\n",
      "97 863\n",
      "98 csibm863\n",
      "99 ibm863\n",
      "100 864\n",
      "101 csibm864\n",
      "102 ibm864\n",
      "103 865\n",
      "104 csibm865\n",
      "105 ibm865\n",
      "106 866\n",
      "107 csibm866\n",
      "108 ibm866\n",
      "109 869\n",
      "110 cp_gr\n",
      "111 csibm869\n",
      "112 ibm869\n",
      "113 932\n",
      "114 ms932\n",
      "115 mskanji\n",
      "116 ms_kanji\n",
      "117 949\n",
      "118 ms949\n",
      "119 uhc\n",
      "120 950\n",
      "121 ms950\n",
      "122 jisx0213\n",
      "123 eucjis2004\n",
      "124 euc_jis2004\n",
      "125 eucjisx0213\n",
      "126 eucjp\n",
      "127 ujis\n",
      "128 u_jis\n",
      "129 euckr\n",
      "130 korean\n",
      "131 ksc5601\n",
      "132 ks_c_5601\n",
      "133 ks_c_5601_1987\n",
      "134 ksx1001\n",
      "135 ks_x_1001\n",
      "136 gb18030_2000\n",
      "137 chinese\n",
      "138 csiso58gb231280\n",
      "139 euc_cn\n",
      "140 euccn\n",
      "141 eucgb2312_cn\n",
      "142 gb2312_1980\n",
      "143 gb2312_80\n",
      "144 iso_ir_58\n",
      "145 936\n",
      "146 cp936\n",
      "147 ms936\n",
      "148 hex\n",
      "149 roman8\n",
      "150 r8\n",
      "151 csHPRoman8\n",
      "152 hzgb\n",
      "153 hz_gb\n",
      "154 hz_gb_2312\n",
      "155 csiso2022jp\n",
      "156 iso2022jp\n",
      "157 iso_2022_jp\n",
      "158 iso2022jp_1\n",
      "159 iso_2022_jp_1\n",
      "160 iso2022jp_2\n",
      "161 iso_2022_jp_2\n",
      "162 iso_2022_jp_2004\n",
      "163 iso2022jp_2004\n",
      "164 iso2022jp_3\n",
      "165 iso_2022_jp_3\n",
      "166 iso2022jp_ext\n",
      "167 iso_2022_jp_ext\n",
      "168 csiso2022kr\n",
      "169 iso2022kr\n",
      "170 iso_2022_kr\n",
      "171 csisolatin6\n",
      "172 iso_8859_10\n",
      "173 iso_8859_10_1992\n",
      "174 iso_ir_157\n",
      "175 l6\n",
      "176 latin6\n",
      "177 thai\n",
      "178 iso_8859_11\n",
      "179 iso_8859_11_2001\n",
      "180 iso_8859_13\n",
      "181 l7\n",
      "182 latin7\n",
      "183 iso_8859_14\n",
      "184 iso_8859_14_1998\n",
      "185 iso_celtic\n",
      "186 iso_ir_199\n",
      "187 l8\n",
      "188 latin8\n",
      "189 iso_8859_15\n",
      "190 l9\n",
      "191 latin9\n",
      "192 iso_8859_16\n",
      "193 iso_8859_16_2001\n",
      "194 iso_ir_226\n",
      "195 l10\n",
      "196 latin10\n",
      "197 csisolatin2\n",
      "198 iso_8859_2\n",
      "199 iso_8859_2_1987\n",
      "200 iso_ir_101\n",
      "201 l2\n",
      "202 latin2\n",
      "203 csisolatin3\n",
      "204 iso_8859_3\n",
      "205 iso_8859_3_1988\n",
      "206 iso_ir_109\n",
      "207 l3\n",
      "208 latin3\n",
      "209 csisolatin4\n",
      "210 iso_8859_4\n",
      "211 iso_8859_4_1988\n",
      "212 iso_ir_110\n",
      "213 l4\n",
      "214 latin4\n",
      "215 csisolatincyrillic\n",
      "216 cyrillic\n",
      "217 iso_8859_5\n",
      "218 iso_8859_5_1988\n",
      "219 iso_ir_144\n",
      "220 arabic\n",
      "221 asmo_708\n",
      "222 csisolatinarabic\n",
      "223 ecma_114\n",
      "224 iso_8859_6\n",
      "225 iso_8859_6_1987\n",
      "226 iso_ir_127\n",
      "227 csisolatingreek\n",
      "228 ecma_118\n",
      "229 elot_928\n",
      "230 greek\n",
      "231 greek8\n",
      "232 iso_8859_7\n",
      "233 iso_8859_7_1987\n",
      "234 iso_ir_126\n",
      "235 csisolatinhebrew\n",
      "236 hebrew\n",
      "237 iso_8859_8\n",
      "238 iso_8859_8_1988\n",
      "239 iso_ir_138\n",
      "240 csisolatin5\n",
      "241 iso_8859_9\n",
      "242 iso_8859_9_1989\n",
      "243 iso_ir_148\n",
      "244 l5\n",
      "245 latin5\n",
      "246 cp1361\n",
      "247 ms1361\n",
      "248 cskoi8r\n",
      "249 kz_1048\n",
      "250 rk1048\n",
      "251 strk1048_2002\n",
      "252 8859\n",
      "253 cp819\n",
      "254 csisolatin1\n",
      "255 ibm819\n",
      "256 iso8859\n",
      "257 iso8859_1\n",
      "258 iso_8859_1\n",
      "259 iso_8859_1_1987\n",
      "260 iso_ir_100\n",
      "261 l1\n",
      "262 latin\n",
      "263 latin1\n",
      "264 maccyrillic\n",
      "265 macgreek\n",
      "266 maciceland\n",
      "267 maccentraleurope\n",
      "268 maclatin2\n",
      "269 macintosh\n",
      "270 macroman\n",
      "271 macturkish\n",
      "272 ansi\n",
      "273 dbcs\n",
      "274 csptcp154\n",
      "275 pt154\n",
      "276 cp154\n",
      "277 cyrillic_asian\n",
      "278 quopri\n",
      "279 quoted_printable\n",
      "280 quotedprintable\n",
      "281 rot13\n",
      "282 csshiftjis\n",
      "283 shiftjis\n",
      "284 sjis\n",
      "285 s_jis\n",
      "286 shiftjis2004\n",
      "287 sjis_2004\n",
      "288 s_jis_2004\n",
      "289 shiftjisx0213\n",
      "290 sjisx0213\n",
      "291 s_jisx0213\n",
      "292 tis260\n",
      "293 tis620\n",
      "294 tis_620_0\n",
      "295 tis_620_2529_0\n",
      "296 tis_620_2529_1\n",
      "297 iso_ir_166\n",
      "298 u16\n",
      "299 utf16\n",
      "300 unicodebigunmarked\n",
      "301 utf_16be\n",
      "302 unicodelittleunmarked\n",
      "303 utf_16le\n",
      "304 u32\n",
      "305 utf32\n",
      "306 utf_32be\n",
      "307 utf_32le\n",
      "308 u7\n",
      "309 utf7\n",
      "310 unicode_1_1_utf_7\n",
      "311 u8\n",
      "312 utf\n",
      "313 utf8\n",
      "314 utf8_ucs2\n",
      "315 utf8_ucs4\n",
      "316 uu\n",
      "317 zip\n",
      "318 zlib\n",
      "319 x_mac_japanese\n",
      "320 x_mac_korean\n",
      "321 x_mac_simp_chinese\n",
      "322 x_mac_trad_chinese\n"
     ]
    }
   ],
   "source": [
    "# this will not produce all\n",
    "# see https://stackoverflow.com/questions/1728376/get-a-list-of-all-the-encodings-python-can-encode-to\n",
    "\n",
    "from encodings.aliases import aliases\n",
    "for index, value in enumerate(list(aliases.keys())):\n",
    "    print(index, value)"
   ]
  },
  {
   "cell_type": "code",
   "execution_count": 11,
   "metadata": {},
   "outputs": [
    {
     "name": "stdout",
     "output_type": "stream",
     "text": [
      "latin_1\tb'El Ni\\xf1o'\n",
      "utf_8\tb'El Ni\\xc3\\xb1o'\n",
      "utf_16\tb'\\xff\\xfeE\\x00l\\x00 \\x00N\\x00i\\x00\\xf1\\x00o\\x00'\n"
     ]
    }
   ],
   "source": [
    "for codec in ['latin_1', 'utf_8', 'utf_16']:\n",
    "    print(codec, 'El Niño'.encode(codec), sep='\\t')\n"
   ]
  },
  {
   "cell_type": "markdown",
   "metadata": {},
   "source": [
    "## Understanding Encode/Decode Problems\n",
    "### Coping with UnicodeEncodeError\n"
   ]
  },
  {
   "cell_type": "code",
   "execution_count": 13,
   "metadata": {},
   "outputs": [
    {
     "data": {
      "text/plain": [
       "'São Paulo'"
      ]
     },
     "execution_count": 13,
     "metadata": {},
     "output_type": "execute_result"
    }
   ],
   "source": [
    "city = 'São Paulo'\n",
    "city"
   ]
  },
  {
   "cell_type": "code",
   "execution_count": 14,
   "metadata": {},
   "outputs": [
    {
     "data": {
      "text/plain": [
       "b'S\\xc3\\xa3o Paulo'"
      ]
     },
     "execution_count": 14,
     "metadata": {},
     "output_type": "execute_result"
    }
   ],
   "source": [
    "city.encode('utf_8')"
   ]
  },
  {
   "cell_type": "code",
   "execution_count": 15,
   "metadata": {},
   "outputs": [
    {
     "data": {
      "text/plain": [
       "b'\\xff\\xfeS\\x00\\xe3\\x00o\\x00 \\x00P\\x00a\\x00u\\x00l\\x00o\\x00'"
      ]
     },
     "execution_count": 15,
     "metadata": {},
     "output_type": "execute_result"
    }
   ],
   "source": [
    "city.encode('utf_16')"
   ]
  },
  {
   "cell_type": "code",
   "execution_count": 16,
   "metadata": {},
   "outputs": [
    {
     "data": {
      "text/plain": [
       "b'S\\xe3o Paulo'"
      ]
     },
     "execution_count": 16,
     "metadata": {},
     "output_type": "execute_result"
    }
   ],
   "source": [
    "city.encode('iso8859_1') "
   ]
  },
  {
   "cell_type": "code",
   "execution_count": 17,
   "metadata": {},
   "outputs": [
    {
     "ename": "UnicodeEncodeError",
     "evalue": "'charmap' codec can't encode character '\\xe3' in position 1: character maps to <undefined>",
     "output_type": "error",
     "traceback": [
      "\u001b[1;31m---------------------------------------------------------------------------\u001b[0m",
      "\u001b[1;31mUnicodeEncodeError\u001b[0m                        Traceback (most recent call last)",
      "\u001b[1;32m<ipython-input-17-064a572fd5b6>\u001b[0m in \u001b[0;36m<module>\u001b[1;34m()\u001b[0m\n\u001b[1;32m----> 1\u001b[1;33m \u001b[0mcity\u001b[0m\u001b[1;33m.\u001b[0m\u001b[0mencode\u001b[0m\u001b[1;33m(\u001b[0m\u001b[1;34m'cp437'\u001b[0m\u001b[1;33m)\u001b[0m\u001b[1;33m\u001b[0m\u001b[0m\n\u001b[0m",
      "\u001b[1;32mC:\\Anaconda2\\envs\\py36\\lib\\encodings\\cp437.py\u001b[0m in \u001b[0;36mencode\u001b[1;34m(self, input, errors)\u001b[0m\n\u001b[0;32m     10\u001b[0m \u001b[1;33m\u001b[0m\u001b[0m\n\u001b[0;32m     11\u001b[0m     \u001b[1;32mdef\u001b[0m \u001b[0mencode\u001b[0m\u001b[1;33m(\u001b[0m\u001b[0mself\u001b[0m\u001b[1;33m,\u001b[0m\u001b[0minput\u001b[0m\u001b[1;33m,\u001b[0m\u001b[0merrors\u001b[0m\u001b[1;33m=\u001b[0m\u001b[1;34m'strict'\u001b[0m\u001b[1;33m)\u001b[0m\u001b[1;33m:\u001b[0m\u001b[1;33m\u001b[0m\u001b[0m\n\u001b[1;32m---> 12\u001b[1;33m         \u001b[1;32mreturn\u001b[0m \u001b[0mcodecs\u001b[0m\u001b[1;33m.\u001b[0m\u001b[0mcharmap_encode\u001b[0m\u001b[1;33m(\u001b[0m\u001b[0minput\u001b[0m\u001b[1;33m,\u001b[0m\u001b[0merrors\u001b[0m\u001b[1;33m,\u001b[0m\u001b[0mencoding_map\u001b[0m\u001b[1;33m)\u001b[0m\u001b[1;33m\u001b[0m\u001b[0m\n\u001b[0m\u001b[0;32m     13\u001b[0m \u001b[1;33m\u001b[0m\u001b[0m\n\u001b[0;32m     14\u001b[0m     \u001b[1;32mdef\u001b[0m \u001b[0mdecode\u001b[0m\u001b[1;33m(\u001b[0m\u001b[0mself\u001b[0m\u001b[1;33m,\u001b[0m\u001b[0minput\u001b[0m\u001b[1;33m,\u001b[0m\u001b[0merrors\u001b[0m\u001b[1;33m=\u001b[0m\u001b[1;34m'strict'\u001b[0m\u001b[1;33m)\u001b[0m\u001b[1;33m:\u001b[0m\u001b[1;33m\u001b[0m\u001b[0m\n",
      "\u001b[1;31mUnicodeEncodeError\u001b[0m: 'charmap' codec can't encode character '\\xe3' in position 1: character maps to <undefined>"
     ]
    }
   ],
   "source": [
    "city.encode('cp437')"
   ]
  },
  {
   "cell_type": "code",
   "execution_count": 19,
   "metadata": {},
   "outputs": [
    {
     "data": {
      "text/plain": [
       "b'So Paulo'"
      ]
     },
     "execution_count": 19,
     "metadata": {},
     "output_type": "execute_result"
    }
   ],
   "source": [
    "city.encode('cp437', errors='ignore')"
   ]
  },
  {
   "cell_type": "code",
   "execution_count": 20,
   "metadata": {},
   "outputs": [
    {
     "data": {
      "text/plain": [
       "b'S?o Paulo'"
      ]
     },
     "execution_count": 20,
     "metadata": {},
     "output_type": "execute_result"
    }
   ],
   "source": [
    "city.encode('cp437', errors='replace')"
   ]
  },
  {
   "cell_type": "code",
   "execution_count": 21,
   "metadata": {},
   "outputs": [
    {
     "data": {
      "text/plain": [
       "b'S&#227;o Paulo'"
      ]
     },
     "execution_count": 21,
     "metadata": {},
     "output_type": "execute_result"
    }
   ],
   "source": [
    "city.encode('cp437', errors='xmlcharrefreplace')"
   ]
  },
  {
   "cell_type": "markdown",
   "metadata": {},
   "source": [
    "### Coping with UnicodeDecodeError\n",
    "Not every byte holds a valid ASCII character, and not every byte sequence is valid UTF-8 or UTF-16; therefore, when you assume one of these encodings while converting a binary sequence to text, you will get a UnicodeDecodeError if unexpected bytes are\n",
    "found."
   ]
  },
  {
   "cell_type": "code",
   "execution_count": 22,
   "metadata": {
    "collapsed": true
   },
   "outputs": [],
   "source": [
    "octets = b'Montr\\xe9al'"
   ]
  },
  {
   "cell_type": "code",
   "execution_count": 23,
   "metadata": {},
   "outputs": [
    {
     "data": {
      "text/plain": [
       "'Montréal'"
      ]
     },
     "execution_count": 23,
     "metadata": {},
     "output_type": "execute_result"
    }
   ],
   "source": [
    "octets.decode('cp1252') "
   ]
  },
  {
   "cell_type": "code",
   "execution_count": 24,
   "metadata": {},
   "outputs": [
    {
     "data": {
      "text/plain": [
       "'Montrιal'"
      ]
     },
     "execution_count": 24,
     "metadata": {},
     "output_type": "execute_result"
    }
   ],
   "source": [
    "octets.decode('iso8859_7') "
   ]
  },
  {
   "cell_type": "code",
   "execution_count": 25,
   "metadata": {},
   "outputs": [
    {
     "data": {
      "text/plain": [
       "'MontrИal'"
      ]
     },
     "execution_count": 25,
     "metadata": {},
     "output_type": "execute_result"
    }
   ],
   "source": [
    "octets.decode('koi8_r')"
   ]
  },
  {
   "cell_type": "code",
   "execution_count": 26,
   "metadata": {},
   "outputs": [
    {
     "ename": "UnicodeDecodeError",
     "evalue": "'utf-8' codec can't decode byte 0xe9 in position 5: invalid continuation byte",
     "output_type": "error",
     "traceback": [
      "\u001b[1;31m---------------------------------------------------------------------------\u001b[0m",
      "\u001b[1;31mUnicodeDecodeError\u001b[0m                        Traceback (most recent call last)",
      "\u001b[1;32m<ipython-input-26-afaa3d3916c5>\u001b[0m in \u001b[0;36m<module>\u001b[1;34m()\u001b[0m\n\u001b[1;32m----> 1\u001b[1;33m \u001b[0moctets\u001b[0m\u001b[1;33m.\u001b[0m\u001b[0mdecode\u001b[0m\u001b[1;33m(\u001b[0m\u001b[1;34m'utf_8'\u001b[0m\u001b[1;33m)\u001b[0m\u001b[1;33m\u001b[0m\u001b[0m\n\u001b[0m",
      "\u001b[1;31mUnicodeDecodeError\u001b[0m: 'utf-8' codec can't decode byte 0xe9 in position 5: invalid continuation byte"
     ]
    }
   ],
   "source": [
    "octets.decode('utf_8')"
   ]
  },
  {
   "cell_type": "markdown",
   "metadata": {},
   "source": [
    "### SyntaxError When Loading Modules with Unexpected Encoding\n",
    "UTF-8 is the default source encoding for Python 3, just as ASCII was the default for Python 2 (starting with 2.5). If you load a .py module containing non-UTF-8 data and no encoding declaration..."
   ]
  },
  {
   "cell_type": "code",
   "execution_count": 4,
   "metadata": {
    "collapsed": true
   },
   "outputs": [],
   "source": [
    "import os\n",
    "\n",
    "def create_new_file(contents, file_name):\n",
    "    if os.path.isfile(file_name):\n",
    "        os.remove(file_name)\n",
    "    with open(file_name, \"w\") as new_file:\n",
    "        new_file.write(contents)\n",
    "\n",
    "contents = '''\n",
    "# coding: cp1252\n",
    "print('Olá, Mundo!')\n",
    "'''\n",
    "\n",
    "create_new_file(contents, \"working_file.py\")"
   ]
  },
  {
   "cell_type": "code",
   "execution_count": 5,
   "metadata": {},
   "outputs": [
    {
     "name": "stdout",
     "output_type": "stream",
     "text": [
      "\r\n",
      "# coding: cp1252\r\n",
      "print('Olá, Mundo!')\r\n"
     ]
    }
   ],
   "source": [
    "%%bash\n",
    "cat working_file.py"
   ]
  },
  {
   "cell_type": "code",
   "execution_count": 6,
   "metadata": {},
   "outputs": [
    {
     "name": "stdout",
     "output_type": "stream",
     "text": [
      "Olá, Mundo!\n"
     ]
    }
   ],
   "source": [
    "! python working_file.py"
   ]
  },
  {
   "cell_type": "markdown",
   "metadata": {},
   "source": [
    "Now if you remove the encoding declaration..."
   ]
  },
  {
   "cell_type": "code",
   "execution_count": 9,
   "metadata": {
    "collapsed": true
   },
   "outputs": [],
   "source": [
    "contents = contents.replace(\"# coding: cp1252\", \"\")\n",
    "create_new_file(contents, \"working_file.py\")"
   ]
  },
  {
   "cell_type": "code",
   "execution_count": 10,
   "metadata": {},
   "outputs": [
    {
     "name": "stdout",
     "output_type": "stream",
     "text": [
      "\r\n",
      "\r\n",
      "print('Olá, Mundo!')\r\n"
     ]
    }
   ],
   "source": [
    "%%bash\n",
    "cat working_file.py"
   ]
  },
  {
   "cell_type": "code",
   "execution_count": 11,
   "metadata": {},
   "outputs": [
    {
     "name": "stderr",
     "output_type": "stream",
     "text": [
      "  File \"working_file.py\", line 3\n",
      "SyntaxError: Non-ASCII character '\\xe1' in file working_file.py on line 3, but no encoding declared; see http://python.org/dev/peps/pep-0263/ for details\n"
     ]
    }
   ],
   "source": [
    "! python working_file.py"
   ]
  },
  {
   "cell_type": "markdown",
   "metadata": {},
   "source": [
    "## Handling Text Files\n",
    "The best practice for handling text is the 'Unicode sandwich'. This means that bytes should be decoded to str as early as possible."
   ]
  },
  {
   "cell_type": "code",
   "execution_count": 12,
   "metadata": {},
   "outputs": [
    {
     "data": {
      "text/plain": [
       "<_io.TextIOWrapper name='cafe.txt' mode='w' encoding='utf_8'>"
      ]
     },
     "execution_count": 12,
     "metadata": {},
     "output_type": "execute_result"
    }
   ],
   "source": [
    "fp = open('cafe.txt', 'w', encoding='utf_8')\n",
    "fp"
   ]
  },
  {
   "cell_type": "code",
   "execution_count": 13,
   "metadata": {},
   "outputs": [
    {
     "data": {
      "text/plain": [
       "4"
      ]
     },
     "execution_count": 13,
     "metadata": {},
     "output_type": "execute_result"
    }
   ],
   "source": [
    "fp.write('café')"
   ]
  },
  {
   "cell_type": "code",
   "execution_count": 14,
   "metadata": {
    "collapsed": true
   },
   "outputs": [],
   "source": [
    "fp.close()"
   ]
  },
  {
   "cell_type": "code",
   "execution_count": 15,
   "metadata": {},
   "outputs": [
    {
     "data": {
      "text/plain": [
       "5"
      ]
     },
     "execution_count": 15,
     "metadata": {},
     "output_type": "execute_result"
    }
   ],
   "source": [
    "import os\n",
    "os.stat('cafe.txt').st_size"
   ]
  },
  {
   "cell_type": "code",
   "execution_count": 16,
   "metadata": {},
   "outputs": [
    {
     "data": {
      "text/plain": [
       "<_io.TextIOWrapper name='cafe.txt' mode='r' encoding='cp1252'>"
      ]
     },
     "execution_count": 16,
     "metadata": {},
     "output_type": "execute_result"
    }
   ],
   "source": [
    "fp2 = open('cafe.txt')\n",
    "fp2"
   ]
  },
  {
   "cell_type": "code",
   "execution_count": 17,
   "metadata": {},
   "outputs": [
    {
     "data": {
      "text/plain": [
       "'cp1252'"
      ]
     },
     "execution_count": 17,
     "metadata": {},
     "output_type": "execute_result"
    }
   ],
   "source": [
    "fp2.encoding"
   ]
  },
  {
   "cell_type": "code",
   "execution_count": 18,
   "metadata": {},
   "outputs": [
    {
     "data": {
      "text/plain": [
       "'cafÃ©'"
      ]
     },
     "execution_count": 18,
     "metadata": {},
     "output_type": "execute_result"
    }
   ],
   "source": [
    "fp2.read()"
   ]
  },
  {
   "cell_type": "code",
   "execution_count": 19,
   "metadata": {
    "collapsed": true
   },
   "outputs": [],
   "source": [
    "fp2.close()"
   ]
  },
  {
   "cell_type": "code",
   "execution_count": 20,
   "metadata": {},
   "outputs": [
    {
     "data": {
      "text/plain": [
       "<_io.TextIOWrapper name='cafe.txt' mode='r' encoding='utf_8'>"
      ]
     },
     "execution_count": 20,
     "metadata": {},
     "output_type": "execute_result"
    }
   ],
   "source": [
    "fp3 = open('cafe.txt', encoding='utf_8')\n",
    "fp3"
   ]
  },
  {
   "cell_type": "code",
   "execution_count": 21,
   "metadata": {},
   "outputs": [
    {
     "data": {
      "text/plain": [
       "'café'"
      ]
     },
     "execution_count": 21,
     "metadata": {},
     "output_type": "execute_result"
    }
   ],
   "source": [
    "fp3.read()"
   ]
  },
  {
   "cell_type": "code",
   "execution_count": 23,
   "metadata": {},
   "outputs": [],
   "source": [
    "fp3.close()"
   ]
  },
  {
   "cell_type": "markdown",
   "metadata": {},
   "source": [
    "## Encoding Defaults: A Madhouse"
   ]
  },
  {
   "cell_type": "code",
   "execution_count": 24,
   "metadata": {},
   "outputs": [
    {
     "name": "stdout",
     "output_type": "stream",
     "text": [
      " locale.getpreferredencoding() -> 'cp1252'\n",
      "                 type(my_file) -> <class '_io.TextIOWrapper'>\n",
      "              my_file.encoding -> 'cp1252'\n",
      "           sys.stdout.isatty() -> False\n",
      "           sys.stdout.encoding -> 'UTF-8'\n",
      "            sys.stdin.isatty() -> False\n",
      "            sys.stdin.encoding -> 'cp1252'\n",
      "           sys.stderr.isatty() -> False\n",
      "           sys.stderr.encoding -> 'UTF-8'\n",
      "      sys.getdefaultencoding() -> 'utf-8'\n",
      "   sys.getfilesystemencoding() -> 'utf-8'\n"
     ]
    }
   ],
   "source": [
    "import sys, locale\n",
    "expressions = \"\"\"\n",
    " locale.getpreferredencoding()\n",
    " type(my_file)\n",
    " my_file.encoding\n",
    " sys.stdout.isatty()\n",
    " sys.stdout.encoding\n",
    " sys.stdin.isatty()\n",
    " sys.stdin.encoding\n",
    " sys.stderr.isatty()\n",
    " sys.stderr.encoding\n",
    " sys.getdefaultencoding()\n",
    " sys.getfilesystemencoding()\n",
    " \"\"\"\n",
    "\n",
    "my_file = open('dummy', 'w')\n",
    "for expression in expressions.split():\n",
    "    value = eval(expression)\n",
    "    print(expression.rjust(30), '->', repr(value))\n"
   ]
  },
  {
   "cell_type": "markdown",
   "metadata": {},
   "source": [
    "Therefore, the best advice about encoding defaults is: do not rely on them. Follow the advice of the Unicode sandwich and be explicit about encodings."
   ]
  },
  {
   "cell_type": "markdown",
   "metadata": {},
   "source": [
    "***"
   ]
  }
 ],
 "metadata": {
  "kernelspec": {
   "display_name": "py36",
   "language": "python",
   "name": "py36"
  },
  "language_info": {
   "codemirror_mode": {
    "name": "ipython",
    "version": 3
   },
   "file_extension": ".py",
   "mimetype": "text/x-python",
   "name": "python",
   "nbconvert_exporter": "python",
   "pygments_lexer": "ipython3",
   "version": "3.6.6"
  }
 },
 "nbformat": 4,
 "nbformat_minor": 2
}
