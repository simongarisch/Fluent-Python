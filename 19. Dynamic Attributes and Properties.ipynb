{
 "cells": [
  {
   "cell_type": "markdown",
   "metadata": {},
   "source": [
    "# Dynamic Attributes and Properties\n",
    "Data attributes and methods are collectively known as attributes in Python: a method is just an attribute that is callable. Besides data attributes and methods, we can also create properties, which can be used to replace a public data attribute with accessor methods (i.e., getter/setter), without changing the class interface. This agrees with the Uniform access principle: All services offered by a module should be available through a uniform notation, which does not betray whether they are implemented through storage or through computation.\n",
    "\n",
    "Besides properties, Python provides a rich API for controlling attribute access and implementing dynamic attributes. The interpreter calls special methods such as __getattr__ and __setattr__ to evaluate attribute access using dot notation."
   ]
  },
  {
   "cell_type": "code",
   "execution_count": 7,
   "metadata": {
    "collapsed": true
   },
   "outputs": [],
   "source": [
    "class A:\n",
    "    def __getattr__(self, attr):\n",
    "        ''' __getattr__ is called when the default attribute access fails with an AttributeError.\n",
    "            It lets you define an optional value to return if the attribute doesn't exist.\n",
    "            Similar to dict.get()\n",
    "        '''\n",
    "        print(\"Getting attribute \", attr)\n",
    "        return 42\n"
   ]
  },
  {
   "cell_type": "code",
   "execution_count": 8,
   "metadata": {},
   "outputs": [
    {
     "name": "stdout",
     "output_type": "stream",
     "text": [
      "Getting attribute  x\n"
     ]
    },
    {
     "data": {
      "text/plain": [
       "42"
      ]
     },
     "execution_count": 8,
     "metadata": {},
     "output_type": "execute_result"
    }
   ],
   "source": [
    "a = A()\n",
    "a.x"
   ]
  },
  {
   "cell_type": "code",
   "execution_count": 10,
   "metadata": {},
   "outputs": [
    {
     "data": {
      "text/plain": [
       "42"
      ]
     },
     "execution_count": 10,
     "metadata": {},
     "output_type": "execute_result"
    }
   ],
   "source": [
    "d = {\"a\": 1, \"b\":2}\n",
    "d.get(\"c\", 42)"
   ]
  },
  {
   "cell_type": "code",
   "execution_count": 9,
   "metadata": {
    "collapsed": true
   },
   "outputs": [],
   "source": [
    "class A:\n",
    "    def __init__(self):\n",
    "        self.x = 7\n",
    "\n",
    "    def __setattr__(self, attr, value):\n",
    "        ''' Called when an attribute assignment is attempted. '''\n",
    "        print(\"Setting attribute \", attr, \" to \", value)\n",
    "        self.__dict__[attr] = value\n"
   ]
  },
  {
   "cell_type": "code",
   "execution_count": 10,
   "metadata": {},
   "outputs": [
    {
     "name": "stdout",
     "output_type": "stream",
     "text": [
      "Setting attribute  x  to  7\n"
     ]
    }
   ],
   "source": [
    "a = A()  # setattr called on init"
   ]
  },
  {
   "cell_type": "code",
   "execution_count": 11,
   "metadata": {},
   "outputs": [
    {
     "data": {
      "text/plain": [
       "7"
      ]
     },
     "execution_count": 11,
     "metadata": {},
     "output_type": "execute_result"
    }
   ],
   "source": [
    "a.x"
   ]
  },
  {
   "cell_type": "code",
   "execution_count": 12,
   "metadata": {},
   "outputs": [
    {
     "name": "stdout",
     "output_type": "stream",
     "text": [
      "Setting attribute  x  to  9\n"
     ]
    }
   ],
   "source": [
    "a.x = 9  # also when we set here"
   ]
  },
  {
   "cell_type": "markdown",
   "metadata": {},
   "source": [
    "We could stop someone from setting attributes that begin with an underscore..."
   ]
  },
  {
   "cell_type": "code",
   "execution_count": 13,
   "metadata": {
    "collapsed": true
   },
   "outputs": [],
   "source": [
    "class A:\n",
    "    def __init__(self):\n",
    "        self._x = 7\n",
    "        self._y = 8\n",
    "        \n",
    "    @property\n",
    "    def x(self):\n",
    "        return self._x\n",
    "    \n",
    "    @property\n",
    "    def y(self):\n",
    "        return self._y\n",
    "    \n",
    "    def __setattr__(self, attr, value):\n",
    "        if attr in self.__dict__:\n",
    "            if attr.startswith(\"_\"):\n",
    "                print(\"Nah bro!\")\n",
    "                return\n",
    "        self.__dict__[attr] = value\n"
   ]
  },
  {
   "cell_type": "code",
   "execution_count": 14,
   "metadata": {},
   "outputs": [
    {
     "data": {
      "text/plain": [
       "(7, 8)"
      ]
     },
     "execution_count": 14,
     "metadata": {},
     "output_type": "execute_result"
    }
   ],
   "source": [
    "a = A()\n",
    "a.x, a.y"
   ]
  },
  {
   "cell_type": "code",
   "execution_count": 15,
   "metadata": {},
   "outputs": [
    {
     "name": "stdout",
     "output_type": "stream",
     "text": [
      "Nah bro!\n"
     ]
    }
   ],
   "source": [
    "a._x = 12"
   ]
  },
  {
   "cell_type": "code",
   "execution_count": 16,
   "metadata": {},
   "outputs": [
    {
     "data": {
      "text/plain": [
       "7"
      ]
     },
     "execution_count": 16,
     "metadata": {},
     "output_type": "execute_result"
    }
   ],
   "source": [
    "a.x"
   ]
  },
  {
   "cell_type": "markdown",
   "metadata": {},
   "source": [
    "## Data Wrangling with Dynamic Attributes"
   ]
  },
  {
   "cell_type": "code",
   "execution_count": 18,
   "metadata": {
    "collapsed": true
   },
   "outputs": [],
   "source": [
    "d = { \"Schedule\":\n",
    " { \"conferences\": [{\"serial\": 115 }],\n",
    " \"events\": [\n",
    " { \"serial\": 34505,\n",
    " \"name\": \"Why Schools Don´t Use Open Source to Teach Programming\",\n",
    " \"event_type\": \"40-minute conference session\",\n",
    " \"time_start\": \"2014-07-23 11:30:00\",\n",
    " \"time_stop\": \"2014-07-23 12:10:00\",\n",
    " \"venue_serial\": 1462,\n",
    " \"description\": \"Aside from the fact that high school programming...\",\n",
    " \"website_url\": \"http://oscon.com/oscon2014/public/schedule/detail/34505\",\n",
    " \"speakers\": [157509],\n",
    " \"categories\": [\"Education\"] }\n",
    " ],\n",
    " \"speakers\": [\n",
    " { \"serial\": 157509,\n",
    " \"name\": \"Robert Lefkowitz\",\n",
    " \"photo\": None,\n",
    " \"url\": \"http://sharewave.com/\",\n",
    " \"position\": \"CTO\",\n",
    " \"affiliation\": \"Sharewave\",\n",
    " \"twitter\": \"sharewaveteam\",\n",
    " \"bio\": \"Robert ´r0ml´ Lefkowitz is the CTO at Sharewave, a startup...\" }\n",
    " ],\n",
    " \"venues\": [\n",
    " { \"serial\": 1462,\n",
    " \"name\": \"F151\",\n",
    " \"category\": \"Conference Venues\" }\n",
    " ]\n",
    " }\n",
    "}\n"
   ]
  },
  {
   "cell_type": "code",
   "execution_count": 19,
   "metadata": {},
   "outputs": [
    {
     "data": {
      "text/plain": [
       "{'Schedule': {'conferences': [{'serial': 115}],\n",
       "  'events': [{'serial': 34505,\n",
       "    'name': 'Why Schools Don´t Use Open Source to Teach Programming',\n",
       "    'event_type': '40-minute conference session',\n",
       "    'time_start': '2014-07-23 11:30:00',\n",
       "    'time_stop': '2014-07-23 12:10:00',\n",
       "    'venue_serial': 1462,\n",
       "    'description': 'Aside from the fact that high school programming...',\n",
       "    'website_url': 'http://oscon.com/oscon2014/public/schedule/detail/34505',\n",
       "    'speakers': [157509],\n",
       "    'categories': ['Education']}],\n",
       "  'speakers': [{'serial': 157509,\n",
       "    'name': 'Robert Lefkowitz',\n",
       "    'photo': None,\n",
       "    'url': 'http://sharewave.com/',\n",
       "    'position': 'CTO',\n",
       "    'affiliation': 'Sharewave',\n",
       "    'twitter': 'sharewaveteam',\n",
       "    'bio': 'Robert ´r0ml´ Lefkowitz is the CTO at Sharewave, a startup...'}],\n",
       "  'venues': [{'serial': 1462,\n",
       "    'name': 'F151',\n",
       "    'category': 'Conference Venues'}]}}"
      ]
     },
     "execution_count": 19,
     "metadata": {},
     "output_type": "execute_result"
    }
   ],
   "source": [
    "d"
   ]
  },
  {
   "cell_type": "code",
   "execution_count": 3,
   "metadata": {
    "collapsed": true
   },
   "outputs": [],
   "source": [
    "from urllib.request import urlopen\n",
    "import warnings\n",
    "import os\n",
    "import json\n",
    "\n",
    "URL = 'http://www.oreilly.com/pub/sc/osconfeed'\n",
    "JSON = 'data/osconfeed.json'\n",
    "\n",
    "if os.path.isfile(JSON):\n",
    "    os.remove(JSON)\n",
    "\n",
    "def load():\n",
    "    if not os.path.exists(JSON):\n",
    "        msg = 'downloading {} to {}'.format(URL, JSON)\n",
    "        warnings.warn(msg)\n",
    "        with urlopen(URL) as remote, open(JSON, 'wb') as local:\n",
    "            return remote.read()\n"
   ]
  },
  {
   "cell_type": "code",
   "execution_count": 4,
   "metadata": {},
   "outputs": [
    {
     "name": "stderr",
     "output_type": "stream",
     "text": [
      "C:\\Anaconda2\\envs\\py36\\lib\\site-packages\\ipykernel_launcher.py:15: UserWarning: downloading http://www.oreilly.com/pub/sc/osconfeed to data/osconfeed.json\n",
      "  from ipykernel import kernelapp as app\n"
     ]
    }
   ],
   "source": [
    "feed = load()"
   ]
  },
  {
   "cell_type": "code",
   "execution_count": 7,
   "metadata": {},
   "outputs": [
    {
     "data": {
      "text/plain": [
       "787465"
      ]
     },
     "execution_count": 7,
     "metadata": {},
     "output_type": "execute_result"
    }
   ],
   "source": [
    "len(feed)"
   ]
  },
  {
   "cell_type": "markdown",
   "metadata": {},
   "source": [
    "## Using a Property for Attribute Validation"
   ]
  },
  {
   "cell_type": "code",
   "execution_count": null,
   "metadata": {
    "collapsed": true
   },
   "outputs": [],
   "source": []
  }
 ],
 "metadata": {
  "kernelspec": {
   "display_name": "py36",
   "language": "python",
   "name": "py36"
  },
  "language_info": {
   "codemirror_mode": {
    "name": "ipython",
    "version": 3
   },
   "file_extension": ".py",
   "mimetype": "text/x-python",
   "name": "python",
   "nbconvert_exporter": "python",
   "pygments_lexer": "ipython3",
   "version": "3.6.7"
  }
 },
 "nbformat": 4,
 "nbformat_minor": 2
}
