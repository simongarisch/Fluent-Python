{
 "cells": [
  {
   "cell_type": "markdown",
   "metadata": {},
   "source": [
    "# Dynamic Attributes and Properties\n",
    "Data attributes and methods are collectively known as attributes in Python: a method is just an attribute that is callable. Besides data attributes and methods, we can also create properties, which can be used to replace a public data attribute with accessor methods (i.e., getter/setter), without changing the class interface. This agrees with the Uniform access principle: All services offered by a module should be available through a uniform notation, which does not betray whether they are implemented through storage or through computation.\n",
    "\n",
    "Besides properties, Python provides a rich API for controlling attribute access and implementing dynamic attributes. The interpreter calls special methods such as __getattr__ and __setattr__ to evaluate attribute access using dot notation."
   ]
  },
  {
   "cell_type": "code",
   "execution_count": 7,
   "metadata": {
    "collapsed": true
   },
   "outputs": [],
   "source": [
    "class A:\n",
    "    def __getattr__(self, attr):\n",
    "        ''' __getattr__ is called when the default attribute access fails with an AttributeError.\n",
    "            It lets you define an optional value to return if the attribute doesn't exist.\n",
    "            Similar to dict.get()\n",
    "        '''\n",
    "        print(\"Getting attribute \", attr)\n",
    "        return 42\n"
   ]
  },
  {
   "cell_type": "code",
   "execution_count": 8,
   "metadata": {},
   "outputs": [
    {
     "name": "stdout",
     "output_type": "stream",
     "text": [
      "Getting attribute  x\n"
     ]
    },
    {
     "data": {
      "text/plain": [
       "42"
      ]
     },
     "execution_count": 8,
     "metadata": {},
     "output_type": "execute_result"
    }
   ],
   "source": [
    "a = A()\n",
    "a.x"
   ]
  },
  {
   "cell_type": "code",
   "execution_count": 10,
   "metadata": {},
   "outputs": [
    {
     "data": {
      "text/plain": [
       "42"
      ]
     },
     "execution_count": 10,
     "metadata": {},
     "output_type": "execute_result"
    }
   ],
   "source": [
    "d = {\"a\": 1, \"b\":2}\n",
    "d.get(\"c\", 42)"
   ]
  },
  {
   "cell_type": "code",
   "execution_count": 9,
   "metadata": {
    "collapsed": true
   },
   "outputs": [],
   "source": [
    "class A:\n",
    "    def __init__(self):\n",
    "        self.x = 7\n",
    "\n",
    "    def __setattr__(self, attr, value):\n",
    "        ''' Called when an attribute assignment is attempted. '''\n",
    "        print(\"Setting attribute \", attr, \" to \", value)\n",
    "        self.__dict__[attr] = value\n"
   ]
  },
  {
   "cell_type": "code",
   "execution_count": 10,
   "metadata": {},
   "outputs": [
    {
     "name": "stdout",
     "output_type": "stream",
     "text": [
      "Setting attribute  x  to  7\n"
     ]
    }
   ],
   "source": [
    "a = A()  # setattr called on init"
   ]
  },
  {
   "cell_type": "code",
   "execution_count": 11,
   "metadata": {},
   "outputs": [
    {
     "data": {
      "text/plain": [
       "7"
      ]
     },
     "execution_count": 11,
     "metadata": {},
     "output_type": "execute_result"
    }
   ],
   "source": [
    "a.x"
   ]
  },
  {
   "cell_type": "code",
   "execution_count": 12,
   "metadata": {},
   "outputs": [
    {
     "name": "stdout",
     "output_type": "stream",
     "text": [
      "Setting attribute  x  to  9\n"
     ]
    }
   ],
   "source": [
    "a.x = 9  # also when we set here"
   ]
  },
  {
   "cell_type": "markdown",
   "metadata": {},
   "source": [
    "We could stop someone from setting attributes that begin with an underscore..."
   ]
  },
  {
   "cell_type": "code",
   "execution_count": 13,
   "metadata": {
    "collapsed": true
   },
   "outputs": [],
   "source": [
    "class A:\n",
    "    def __init__(self):\n",
    "        self._x = 7\n",
    "        self._y = 8\n",
    "        \n",
    "    @property\n",
    "    def x(self):\n",
    "        return self._x\n",
    "    \n",
    "    @property\n",
    "    def y(self):\n",
    "        return self._y\n",
    "    \n",
    "    def __setattr__(self, attr, value):\n",
    "        if attr in self.__dict__:\n",
    "            if attr.startswith(\"_\"):\n",
    "                print(\"Nah bro!\")\n",
    "                return\n",
    "        self.__dict__[attr] = value\n"
   ]
  },
  {
   "cell_type": "code",
   "execution_count": 14,
   "metadata": {},
   "outputs": [
    {
     "data": {
      "text/plain": [
       "(7, 8)"
      ]
     },
     "execution_count": 14,
     "metadata": {},
     "output_type": "execute_result"
    }
   ],
   "source": [
    "a = A()\n",
    "a.x, a.y"
   ]
  },
  {
   "cell_type": "code",
   "execution_count": 15,
   "metadata": {},
   "outputs": [
    {
     "name": "stdout",
     "output_type": "stream",
     "text": [
      "Nah bro!\n"
     ]
    }
   ],
   "source": [
    "a._x = 12"
   ]
  },
  {
   "cell_type": "code",
   "execution_count": 16,
   "metadata": {},
   "outputs": [
    {
     "data": {
      "text/plain": [
       "7"
      ]
     },
     "execution_count": 16,
     "metadata": {},
     "output_type": "execute_result"
    }
   ],
   "source": [
    "a.x"
   ]
  },
  {
   "cell_type": "markdown",
   "metadata": {},
   "source": [
    "## Data Wrangling with Dynamic Attributes"
   ]
  },
  {
   "cell_type": "code",
   "execution_count": 18,
   "metadata": {
    "collapsed": true
   },
   "outputs": [],
   "source": [
    "d = { \"Schedule\":\n",
    " { \"conferences\": [{\"serial\": 115 }],\n",
    " \"events\": [\n",
    " { \"serial\": 34505,\n",
    " \"name\": \"Why Schools Don´t Use Open Source to Teach Programming\",\n",
    " \"event_type\": \"40-minute conference session\",\n",
    " \"time_start\": \"2014-07-23 11:30:00\",\n",
    " \"time_stop\": \"2014-07-23 12:10:00\",\n",
    " \"venue_serial\": 1462,\n",
    " \"description\": \"Aside from the fact that high school programming...\",\n",
    " \"website_url\": \"http://oscon.com/oscon2014/public/schedule/detail/34505\",\n",
    " \"speakers\": [157509],\n",
    " \"categories\": [\"Education\"] }\n",
    " ],\n",
    " \"speakers\": [\n",
    " { \"serial\": 157509,\n",
    " \"name\": \"Robert Lefkowitz\",\n",
    " \"photo\": None,\n",
    " \"url\": \"http://sharewave.com/\",\n",
    " \"position\": \"CTO\",\n",
    " \"affiliation\": \"Sharewave\",\n",
    " \"twitter\": \"sharewaveteam\",\n",
    " \"bio\": \"Robert ´r0ml´ Lefkowitz is the CTO at Sharewave, a startup...\" }\n",
    " ],\n",
    " \"venues\": [\n",
    " { \"serial\": 1462,\n",
    " \"name\": \"F151\",\n",
    " \"category\": \"Conference Venues\" }\n",
    " ]\n",
    " }\n",
    "}\n"
   ]
  },
  {
   "cell_type": "code",
   "execution_count": 19,
   "metadata": {},
   "outputs": [
    {
     "data": {
      "text/plain": [
       "{'Schedule': {'conferences': [{'serial': 115}],\n",
       "  'events': [{'serial': 34505,\n",
       "    'name': 'Why Schools Don´t Use Open Source to Teach Programming',\n",
       "    'event_type': '40-minute conference session',\n",
       "    'time_start': '2014-07-23 11:30:00',\n",
       "    'time_stop': '2014-07-23 12:10:00',\n",
       "    'venue_serial': 1462,\n",
       "    'description': 'Aside from the fact that high school programming...',\n",
       "    'website_url': 'http://oscon.com/oscon2014/public/schedule/detail/34505',\n",
       "    'speakers': [157509],\n",
       "    'categories': ['Education']}],\n",
       "  'speakers': [{'serial': 157509,\n",
       "    'name': 'Robert Lefkowitz',\n",
       "    'photo': None,\n",
       "    'url': 'http://sharewave.com/',\n",
       "    'position': 'CTO',\n",
       "    'affiliation': 'Sharewave',\n",
       "    'twitter': 'sharewaveteam',\n",
       "    'bio': 'Robert ´r0ml´ Lefkowitz is the CTO at Sharewave, a startup...'}],\n",
       "  'venues': [{'serial': 1462,\n",
       "    'name': 'F151',\n",
       "    'category': 'Conference Venues'}]}}"
      ]
     },
     "execution_count": 19,
     "metadata": {},
     "output_type": "execute_result"
    }
   ],
   "source": [
    "d"
   ]
  },
  {
   "cell_type": "code",
   "execution_count": 3,
   "metadata": {
    "collapsed": true
   },
   "outputs": [],
   "source": [
    "from urllib.request import urlopen\n",
    "import warnings\n",
    "import os\n",
    "import json\n",
    "\n",
    "URL = 'http://www.oreilly.com/pub/sc/osconfeed'\n",
    "JSON = 'data/osconfeed.json'\n",
    "\n",
    "if os.path.isfile(JSON):\n",
    "    os.remove(JSON)\n",
    "\n",
    "def load():\n",
    "    if not os.path.exists(JSON):\n",
    "        msg = 'downloading {} to {}'.format(URL, JSON)\n",
    "        warnings.warn(msg)\n",
    "        with urlopen(URL) as remote, open(JSON, 'wb') as local:\n",
    "            return remote.read()\n"
   ]
  },
  {
   "cell_type": "code",
   "execution_count": 4,
   "metadata": {},
   "outputs": [
    {
     "name": "stderr",
     "output_type": "stream",
     "text": [
      "C:\\Anaconda2\\envs\\py36\\lib\\site-packages\\ipykernel_launcher.py:15: UserWarning: downloading http://www.oreilly.com/pub/sc/osconfeed to data/osconfeed.json\n",
      "  from ipykernel import kernelapp as app\n"
     ]
    }
   ],
   "source": [
    "feed = load()"
   ]
  },
  {
   "cell_type": "code",
   "execution_count": 7,
   "metadata": {},
   "outputs": [
    {
     "data": {
      "text/plain": [
       "787465"
      ]
     },
     "execution_count": 7,
     "metadata": {},
     "output_type": "execute_result"
    }
   ],
   "source": [
    "len(feed)"
   ]
  },
  {
   "cell_type": "markdown",
   "metadata": {},
   "source": [
    "## Using a Property for Attribute Validation"
   ]
  },
  {
   "cell_type": "code",
   "execution_count": 1,
   "metadata": {},
   "outputs": [],
   "source": [
    "class LineItem:\n",
    "    def __init__(self, description, weight, price):\n",
    "        self.description = description\n",
    "        self.weight = weight\n",
    "        self.price = price\n",
    "        \n",
    "    def subtotal(self):\n",
    "        return self.weight * self.price\n"
   ]
  },
  {
   "cell_type": "code",
   "execution_count": 2,
   "metadata": {},
   "outputs": [
    {
     "data": {
      "text/plain": [
       "69.5"
      ]
     },
     "execution_count": 2,
     "metadata": {},
     "output_type": "execute_result"
    }
   ],
   "source": [
    "# there are issues with this\n",
    "raisins = LineItem(\"Golden Raisins\", 10, 6.95)\n",
    "raisins.subtotal()"
   ]
  },
  {
   "cell_type": "code",
   "execution_count": 3,
   "metadata": {},
   "outputs": [
    {
     "data": {
      "text/plain": [
       "-139.0"
      ]
     },
     "execution_count": 3,
     "metadata": {},
     "output_type": "execute_result"
    }
   ],
   "source": [
    "raisins.weight = -20  # garbage in \n",
    "raisins.subtotal()    # and garbage out"
   ]
  },
  {
   "cell_type": "markdown",
   "metadata": {},
   "source": [
    "Beyond allowing for a read only property with the @property decorator, we can incorporate validation."
   ]
  },
  {
   "cell_type": "code",
   "execution_count": 4,
   "metadata": {},
   "outputs": [],
   "source": [
    "class LineItem:\n",
    "    def __init__(self, description, weight, price):\n",
    "        self.description = description\n",
    "        self.weight = weight\n",
    "        self.price = price\n",
    "\n",
    "    def subtotal(self):\n",
    "        return self.weight * self.price\n",
    "\n",
    "    @property\n",
    "    def weight(self):\n",
    "        return self.__weight\n",
    "    \n",
    "    @weight.setter\n",
    "    def weight(self, value):\n",
    "        if value > 0:\n",
    "            self.__weight = value\n",
    "        else:\n",
    "            raise ValueError(\"value must be > 0\")\n"
   ]
  },
  {
   "cell_type": "code",
   "execution_count": 8,
   "metadata": {},
   "outputs": [
    {
     "name": "stderr",
     "output_type": "stream",
     "text": [
      "Traceback (most recent call last):\n",
      "  File \"<ipython-input-8-16d58f23fbb2>\", line 4, in <module>\n",
      "    walnuts = LineItem(\"walnuts\", 0, 10.00)\n",
      "  File \"<ipython-input-4-fc91de10028d>\", line 4, in __init__\n",
      "    self.weight = weight\n",
      "  File \"<ipython-input-4-fc91de10028d>\", line 19, in weight\n",
      "    raise ValueError(\"value must be > 0\")\n",
      "ValueError: value must be > 0\n"
     ]
    }
   ],
   "source": [
    "import traceback\n",
    "\n",
    "try:\n",
    "    walnuts = LineItem(\"walnuts\", 0, 10.00)\n",
    "except:\n",
    "    traceback.print_exc()"
   ]
  },
  {
   "cell_type": "markdown",
   "metadata": {},
   "source": [
    "## A Proper Look at Properties\n",
    "Although often used as a decorator, the property built-in is actually a class. This is the full signature of the property constructor: property(fget=None, fset=None, fdel=None, doc=None). The property type was added in Python 2.2, but the @ decorator syntax appeared only in Python 2.4. Here is the 'classic' syntax for defining properties:"
   ]
  },
  {
   "cell_type": "code",
   "execution_count": 10,
   "metadata": {},
   "outputs": [],
   "source": [
    "# A plain getter.\n",
    "# A plain setter\n",
    "# Build the property and assign it to a public class attribute.\n",
    "\n",
    "class LineItem:\n",
    "    def __init__(self, description, weight, price):\n",
    "        self.description = description\n",
    "        self.weight = weight\n",
    "        self.price = price\n",
    " \n",
    "    def subtotal(self):\n",
    "        return self.weight * self.price\n",
    "\n",
    "    def get_weight(self):\n",
    "        return self.__weight\n",
    "\n",
    "    def set_weight(self, value):\n",
    "        if value > 0:\n",
    "            self.__weight = value\n",
    "        else:\n",
    "            raise ValueError('value must be > 0')\n",
    "\n",
    "    weight = property(get_weight, set_weight) \n"
   ]
  },
  {
   "cell_type": "code",
   "execution_count": 11,
   "metadata": {},
   "outputs": [],
   "source": [
    "item = LineItem(\"toy\", 2.5, 100)"
   ]
  },
  {
   "cell_type": "code",
   "execution_count": 13,
   "metadata": {},
   "outputs": [
    {
     "data": {
      "text/plain": [
       "2.5"
      ]
     },
     "execution_count": 13,
     "metadata": {},
     "output_type": "execute_result"
    }
   ],
   "source": [
    "item.weight"
   ]
  },
  {
   "cell_type": "code",
   "execution_count": 15,
   "metadata": {},
   "outputs": [
    {
     "name": "stderr",
     "output_type": "stream",
     "text": [
      "Traceback (most recent call last):\n",
      "  File \"<ipython-input-15-f23604991c7c>\", line 4, in <module>\n",
      "    item.weight = 0\n",
      "  File \"<ipython-input-10-77af64ae02ec>\", line 21, in set_weight\n",
      "    raise ValueError('value must be > 0')\n",
      "ValueError: value must be > 0\n"
     ]
    }
   ],
   "source": [
    "import traceback\n",
    "\n",
    "try:\n",
    "    item.weight = 0\n",
    "except:\n",
    "    traceback.print_exc()"
   ]
  },
  {
   "cell_type": "markdown",
   "metadata": {},
   "source": [
    "## Properties Override Instance Attributes\n",
    "Properties are always class attributes, but they actually manage attribute access in the\n",
    "instances of the class."
   ]
  },
  {
   "cell_type": "code",
   "execution_count": 19,
   "metadata": {},
   "outputs": [],
   "source": [
    "class X:\n",
    "    a = 3\n",
    "    def __init__(self):\n",
    "        self.a = 7\n",
    "        \n",
    "    @property\n",
    "    def b(self):\n",
    "        return 10\n"
   ]
  },
  {
   "cell_type": "code",
   "execution_count": 20,
   "metadata": {},
   "outputs": [
    {
     "data": {
      "text/plain": [
       "7"
      ]
     },
     "execution_count": 20,
     "metadata": {},
     "output_type": "execute_result"
    }
   ],
   "source": [
    "x = X()\n",
    "x.a  # the instance attribute overrides in these cases"
   ]
  },
  {
   "cell_type": "code",
   "execution_count": 21,
   "metadata": {},
   "outputs": [
    {
     "data": {
      "text/plain": [
       "10"
      ]
     },
     "execution_count": 21,
     "metadata": {},
     "output_type": "execute_result"
    }
   ],
   "source": [
    "x.b"
   ]
  },
  {
   "cell_type": "code",
   "execution_count": 22,
   "metadata": {},
   "outputs": [
    {
     "ename": "AttributeError",
     "evalue": "can't set attribute",
     "output_type": "error",
     "traceback": [
      "\u001b[1;31m---------------------------------------------------------------------------\u001b[0m",
      "\u001b[1;31mAttributeError\u001b[0m                            Traceback (most recent call last)",
      "\u001b[1;32m<ipython-input-22-6c5e4a7e3d8e>\u001b[0m in \u001b[0;36m<module>\u001b[1;34m()\u001b[0m\n\u001b[1;32m----> 1\u001b[1;33m \u001b[0mx\u001b[0m\u001b[1;33m.\u001b[0m\u001b[0mb\u001b[0m \u001b[1;33m=\u001b[0m \u001b[1;36m11\u001b[0m\u001b[1;33m\u001b[0m\u001b[0m\n\u001b[0m",
      "\u001b[1;31mAttributeError\u001b[0m: can't set attribute"
     ]
    }
   ],
   "source": [
    "x.b = 11  # we have no setter in this case"
   ]
  },
  {
   "cell_type": "markdown",
   "metadata": {},
   "source": [
    "Here we cannot override the property attribute as it has no setter... it's effectively read only."
   ]
  },
  {
   "cell_type": "markdown",
   "metadata": {},
   "source": [
    "The main point of this section is that an expression like obj.attr does not search for attr starting with obj. The search actually starts at obj.__class__, and only if there is no property named attr in the class, Python looks in the obj instance itself."
   ]
  },
  {
   "cell_type": "code",
   "execution_count": 24,
   "metadata": {},
   "outputs": [
    {
     "data": {
      "text/plain": [
       "{'a': 7}"
      ]
     },
     "execution_count": 24,
     "metadata": {},
     "output_type": "execute_result"
    }
   ],
   "source": [
    "x.__dict__"
   ]
  },
  {
   "cell_type": "code",
   "execution_count": 23,
   "metadata": {},
   "outputs": [
    {
     "data": {
      "text/plain": [
       "mappingproxy({'__module__': '__main__',\n",
       "              'a': 3,\n",
       "              '__init__': <function __main__.X.__init__(self)>,\n",
       "              'b': <property at 0x1a537d1f908>,\n",
       "              '__dict__': <attribute '__dict__' of 'X' objects>,\n",
       "              '__weakref__': <attribute '__weakref__' of 'X' objects>,\n",
       "              '__doc__': None})"
      ]
     },
     "execution_count": 23,
     "metadata": {},
     "output_type": "execute_result"
    }
   ],
   "source": [
    "X.__dict__"
   ]
  },
  {
   "cell_type": "code",
   "execution_count": 25,
   "metadata": {},
   "outputs": [
    {
     "data": {
      "text/plain": [
       "<property at 0x1a537d1f908>"
      ]
     },
     "execution_count": 25,
     "metadata": {},
     "output_type": "execute_result"
    }
   ],
   "source": [
    "X.b"
   ]
  },
  {
   "cell_type": "code",
   "execution_count": 29,
   "metadata": {},
   "outputs": [
    {
     "data": {
      "text/plain": [
       "10"
      ]
     },
     "execution_count": 29,
     "metadata": {},
     "output_type": "execute_result"
    }
   ],
   "source": [
    "X.b.fget(x)  # recall signature property(fget=None, fset=None, fdel=None, doc=None)"
   ]
  },
  {
   "cell_type": "markdown",
   "metadata": {},
   "source": [
    "## Coding a Property Factory"
   ]
  },
  {
   "cell_type": "code",
   "execution_count": 1,
   "metadata": {},
   "outputs": [],
   "source": [
    "def quantity(storage_name):\n",
    "\n",
    "    def qty_getter(instance):\n",
    "        return instance.__dict__[storage_name]\n",
    "\n",
    "    def qty_setter(instance, value):\n",
    "        if value > 0:\n",
    "            instance.__dict__[storage_name] = value\n",
    "        else:\n",
    "            raise ValueError('value must be > 0')\n",
    "        return property(qty_getter, qty_setter) \n"
   ]
  },
  {
   "cell_type": "code",
   "execution_count": 2,
   "metadata": {},
   "outputs": [],
   "source": [
    "class LineItem:\n",
    "    weight = quantity('weight')\n",
    "    price = quantity('price') \n",
    "\n",
    "    def __init__(self, description, weight, price):\n",
    "        self.description = description\n",
    "        self.weight = weight\n",
    "        self.price = price\n",
    "\n",
    "    def subtotal(self):\n",
    "        return self.weight * self.price\n"
   ]
  },
  {
   "cell_type": "code",
   "execution_count": 3,
   "metadata": {},
   "outputs": [],
   "source": [
    "item = LineItem(\"toy\", 2.5, 100)"
   ]
  },
  {
   "cell_type": "code",
   "execution_count": 4,
   "metadata": {},
   "outputs": [
    {
     "data": {
      "text/plain": [
       "2.5"
      ]
     },
     "execution_count": 4,
     "metadata": {},
     "output_type": "execute_result"
    }
   ],
   "source": [
    "item.weight"
   ]
  },
  {
   "cell_type": "code",
   "execution_count": 5,
   "metadata": {},
   "outputs": [
    {
     "data": {
      "text/plain": [
       "mappingproxy({'__module__': '__main__',\n",
       "              'weight': None,\n",
       "              'price': None,\n",
       "              '__init__': <function __main__.LineItem.__init__(self, description, weight, price)>,\n",
       "              'subtotal': <function __main__.LineItem.subtotal(self)>,\n",
       "              '__dict__': <attribute '__dict__' of 'LineItem' objects>,\n",
       "              '__weakref__': <attribute '__weakref__' of 'LineItem' objects>,\n",
       "              '__doc__': None})"
      ]
     },
     "execution_count": 5,
     "metadata": {},
     "output_type": "execute_result"
    }
   ],
   "source": [
    "LineItem.__dict__"
   ]
  },
  {
   "cell_type": "code",
   "execution_count": 6,
   "metadata": {},
   "outputs": [
    {
     "data": {
      "text/plain": [
       "{'description': 'toy', 'weight': 2.5, 'price': 100}"
      ]
     },
     "execution_count": 6,
     "metadata": {},
     "output_type": "execute_result"
    }
   ],
   "source": [
    "item.__dict__"
   ]
  },
  {
   "cell_type": "code",
   "execution_count": 8,
   "metadata": {},
   "outputs": [
    {
     "data": {
      "text/plain": [
       "(8, 13.95)"
      ]
     },
     "execution_count": 8,
     "metadata": {},
     "output_type": "execute_result"
    }
   ],
   "source": [
    "nutmeg = LineItem('Moluccan nutmeg', 8, 13.95)\n",
    "nutmeg.weight, nutmeg.price"
   ]
  },
  {
   "cell_type": "code",
   "execution_count": 9,
   "metadata": {},
   "outputs": [
    {
     "data": {
      "text/plain": [
       "[('description', 'Moluccan nutmeg'), ('price', 13.95), ('weight', 8)]"
      ]
     },
     "execution_count": 9,
     "metadata": {},
     "output_type": "execute_result"
    }
   ],
   "source": [
    "sorted(vars(nutmeg).items()) "
   ]
  },
  {
   "cell_type": "markdown",
   "metadata": {},
   "source": [
    "## Handling Attribute Deletion\n",
    "A silly example to demonstrate the @my_property.deleter decorator."
   ]
  },
  {
   "cell_type": "code",
   "execution_count": 11,
   "metadata": {},
   "outputs": [],
   "source": [
    "class BlackKnight:\n",
    "    def __init__(self):\n",
    "\n",
    "        self.members = ['an arm',\n",
    "                        'another arm',\n",
    "                        'a leg',\n",
    "                        'another leg']\n",
    "\n",
    "        self.phrases = [\"'Tis but a scratch.\",\n",
    "                        \"It's just a flesh wound.\",\n",
    "                        \"I'm invincible!\",\n",
    "                        \"All right, we'll call it a draw.\"]\n",
    "\n",
    "    @property\n",
    "    def member(self):\n",
    "        print('next member is:')\n",
    "        return self.members[0]\n",
    " \n",
    "    @member.deleter\n",
    "    def member(self):\n",
    "        text = 'BLACK KNIGHT (loses {})\\n-- {}'\n",
    "        print(text.format(self.members.pop(0), self.phrases.pop(0)))\n"
   ]
  },
  {
   "cell_type": "code",
   "execution_count": 12,
   "metadata": {},
   "outputs": [],
   "source": [
    "knight = BlackKnight()"
   ]
  },
  {
   "cell_type": "code",
   "execution_count": 13,
   "metadata": {},
   "outputs": [
    {
     "name": "stdout",
     "output_type": "stream",
     "text": [
      "next member is:\n"
     ]
    },
    {
     "data": {
      "text/plain": [
       "'an arm'"
      ]
     },
     "execution_count": 13,
     "metadata": {},
     "output_type": "execute_result"
    }
   ],
   "source": [
    "knight.member"
   ]
  },
  {
   "cell_type": "code",
   "execution_count": 14,
   "metadata": {},
   "outputs": [
    {
     "name": "stdout",
     "output_type": "stream",
     "text": [
      "BLACK KNIGHT (loses an arm)\n",
      "-- 'Tis but a scratch.\n"
     ]
    }
   ],
   "source": [
    "del knight.member"
   ]
  },
  {
   "cell_type": "code",
   "execution_count": 15,
   "metadata": {},
   "outputs": [
    {
     "data": {
      "text/plain": [
       "['another arm', 'a leg', 'another leg']"
      ]
     },
     "execution_count": 15,
     "metadata": {},
     "output_type": "execute_result"
    }
   ],
   "source": [
    "knight.members"
   ]
  },
  {
   "cell_type": "code",
   "execution_count": 16,
   "metadata": {},
   "outputs": [
    {
     "data": {
      "text/plain": [
       "[\"It's just a flesh wound.\",\n",
       " \"I'm invincible!\",\n",
       " \"All right, we'll call it a draw.\"]"
      ]
     },
     "execution_count": 16,
     "metadata": {},
     "output_type": "execute_result"
    }
   ],
   "source": [
    "knight.phrases"
   ]
  },
  {
   "cell_type": "code",
   "execution_count": 17,
   "metadata": {},
   "outputs": [
    {
     "name": "stdout",
     "output_type": "stream",
     "text": [
      "BLACK KNIGHT (loses another arm)\n",
      "-- It's just a flesh wound.\n"
     ]
    }
   ],
   "source": [
    "del knight.member"
   ]
  },
  {
   "cell_type": "code",
   "execution_count": 18,
   "metadata": {},
   "outputs": [
    {
     "name": "stdout",
     "output_type": "stream",
     "text": [
      "BLACK KNIGHT (loses a leg)\n",
      "-- I'm invincible!\n"
     ]
    }
   ],
   "source": [
    "del knight.member"
   ]
  },
  {
   "cell_type": "code",
   "execution_count": 19,
   "metadata": {},
   "outputs": [
    {
     "data": {
      "text/plain": [
       "(['another leg'], [\"All right, we'll call it a draw.\"])"
      ]
     },
     "execution_count": 19,
     "metadata": {},
     "output_type": "execute_result"
    }
   ],
   "source": [
    "knight.members, knight.phrases"
   ]
  },
  {
   "cell_type": "markdown",
   "metadata": {},
   "source": [
    "The fdel argument is used to set the deleter function."
   ]
  },
  {
   "cell_type": "markdown",
   "metadata": {},
   "source": [
    "***"
   ]
  }
 ],
 "metadata": {
  "kernelspec": {
   "display_name": "py36",
   "language": "python",
   "name": "py36"
  },
  "language_info": {
   "codemirror_mode": {
    "name": "ipython",
    "version": 3
   },
   "file_extension": ".py",
   "mimetype": "text/x-python",
   "name": "python",
   "nbconvert_exporter": "python",
   "pygments_lexer": "ipython3",
   "version": "3.6.6"
  }
 },
 "nbformat": 4,
 "nbformat_minor": 2
}
