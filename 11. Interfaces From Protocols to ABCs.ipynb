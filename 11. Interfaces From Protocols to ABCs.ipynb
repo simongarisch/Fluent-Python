{
 "cells": [
  {
   "cell_type": "markdown",
   "metadata": {},
   "source": [
    "# Interfaces: From Protocols to ABCs\n",
    "Python was already highly successful before ABCs were introduced, and most existing code does not use them at all. <br>\n",
    "One of the most fundamental interfaces in Python is the sequence protocol. The interpreter goes out of its way to handle objects that provide even a minimal implementation of that protocol, as the next section demonstrates.\n"
   ]
  },
  {
   "cell_type": "markdown",
   "metadata": {},
   "source": [
    "## Python Digs Sequences\n"
   ]
  },
  {
   "cell_type": "code",
   "execution_count": 1,
   "metadata": {
    "collapsed": true
   },
   "outputs": [],
   "source": [
    "class Foo:\n",
    "    def __getitem__(self, pos):\n",
    "        return range(0, 30, 10)[pos]\n"
   ]
  },
  {
   "cell_type": "code",
   "execution_count": 2,
   "metadata": {
    "collapsed": true
   },
   "outputs": [],
   "source": [
    "f = Foo()"
   ]
  },
  {
   "cell_type": "code",
   "execution_count": 3,
   "metadata": {},
   "outputs": [
    {
     "name": "stdout",
     "output_type": "stream",
     "text": [
      "0\n",
      "10\n",
      "20\n"
     ]
    }
   ],
   "source": [
    "for i in f: print(i)"
   ]
  },
  {
   "cell_type": "code",
   "execution_count": 4,
   "metadata": {},
   "outputs": [
    {
     "data": {
      "text/plain": [
       "True"
      ]
     },
     "execution_count": 4,
     "metadata": {},
     "output_type": "execute_result"
    }
   ],
   "source": [
    "20 in f"
   ]
  },
  {
   "cell_type": "code",
   "execution_count": 5,
   "metadata": {},
   "outputs": [
    {
     "data": {
      "text/plain": [
       "False"
      ]
     },
     "execution_count": 5,
     "metadata": {},
     "output_type": "execute_result"
    }
   ],
   "source": [
    "15 in f"
   ]
  },
  {
   "cell_type": "markdown",
   "metadata": {},
   "source": [
    "There is no method __iter__ yet Foo instances are iterable because - as a fallback - when Python sees a __getitem__ method, it tries to iterate over the object by calling that method with integer indexes starting with 0. Because Python is smart enough to iterate over Foo instances, it can also make the in operator work even if Foo has no __contains__ method: it does a full scan to check if an item is present. In summary, given the importance of the sequence protocol, in the absence __iter__\n",
    "and __contains__ Python still manages to make iteration and the in operator work by\n",
    "invoking __getitem__."
   ]
  },
  {
   "cell_type": "markdown",
   "metadata": {},
   "source": [
    "## Monkey-Patching to Implement a Protocol at Runtime\n",
    "Consider our FrenchDeck again:"
   ]
  },
  {
   "cell_type": "code",
   "execution_count": 1,
   "metadata": {
    "collapsed": true
   },
   "outputs": [],
   "source": [
    "import collections\n",
    "\n",
    "Card = collections.namedtuple('Card', ['rank', 'suit'])\n",
    "\n",
    "class FrenchDeck:\n",
    "    ranks = [str(n) for n in range(2, 11)] + list('JQKA')\n",
    "    suits = 'spades diamonds clubs hearts'.split()\n",
    "\n",
    "    def __init__(self):\n",
    "        self._cards = [Card(rank, suit) for suit in self.suits for rank in self.ranks]\n",
    " \n",
    "    def __len__(self):\n",
    "        return len(self._cards)\n",
    "\n",
    "    def __getitem__(self, position):\n",
    "        return self._cards[position]\n"
   ]
  },
  {
   "cell_type": "markdown",
   "metadata": {},
   "source": [
    "This class has a major flaw: it cannot be shuffled."
   ]
  },
  {
   "cell_type": "code",
   "execution_count": 2,
   "metadata": {
    "collapsed": true
   },
   "outputs": [],
   "source": [
    "deck = FrenchDeck()"
   ]
  },
  {
   "cell_type": "code",
   "execution_count": 3,
   "metadata": {},
   "outputs": [
    {
     "name": "stderr",
     "output_type": "stream",
     "text": [
      "Traceback (most recent call last):\n",
      "  File \"<ipython-input-3-47e028c7bd17>\", line 5, in <module>\n",
      "    random.shuffle(deck)\n",
      "  File \"C:\\Anaconda2\\envs\\py36\\lib\\random.py\", line 277, in shuffle\n",
      "    x[i], x[j] = x[j], x[i]\n",
      "TypeError: 'FrenchDeck' object does not support item assignment\n"
     ]
    }
   ],
   "source": [
    "import traceback\n",
    "import random\n",
    "\n",
    "try:\n",
    "    random.shuffle(deck)\n",
    "except:\n",
    "    traceback.print_exc()\n",
    "    "
   ]
  },
  {
   "cell_type": "markdown",
   "metadata": {},
   "source": [
    "The problem is that shuffle operates by swapping items inside the collection, and FrenchDeck only implements the immutable sequence protocol. Mutable sequences must also provide a __setitem__ method. We can monkey-patch FrenchDeck to make it mutable."
   ]
  },
  {
   "cell_type": "code",
   "execution_count": 6,
   "metadata": {
    "collapsed": true
   },
   "outputs": [],
   "source": [
    "def set_card(deck, position, card):\n",
    "    deck._cards[position] = card\n",
    "\n",
    "FrenchDeck.__setitem__ = set_card"
   ]
  },
  {
   "cell_type": "code",
   "execution_count": 8,
   "metadata": {
    "collapsed": true
   },
   "outputs": [],
   "source": [
    "random.shuffle(deck) # no errors here..."
   ]
  },
  {
   "cell_type": "markdown",
   "metadata": {},
   "source": [
    "See the [docs for Python's data model](https://docs.python.org/3/reference/datamodel.html)...\n",
    "\n",
    "[object.__getitem__(self, key)](https://docs.python.org/3/reference/datamodel.html#object.__getitem__): Called to implement evaluation of self[key]. For sequence types, the accepted keys should be integers and slice objects. <br>\n",
    "<br>\n",
    "[object.__setitem__(self, key, value)](https://docs.python.org/3/reference/datamodel.html#object.__setitem__): Called to implement assignment to self[key]. Same note as for __getitem__(). This should only be implemented for mappings if the objects support changes to the values for keys, or if new keys can be added, or for sequences if elements can be replaced. "
   ]
  },
  {
   "cell_type": "code",
   "execution_count": 10,
   "metadata": {},
   "outputs": [
    {
     "name": "stdout",
     "output_type": "stream",
     "text": [
      "Help on class slice in module builtins:\n",
      "\n",
      "class slice(object)\n",
      " |  slice(stop)\n",
      " |  slice(start, stop[, step])\n",
      " |  \n",
      " |  Create a slice object.  This is used for extended slicing (e.g. a[0:10:2]).\n",
      " |  \n",
      " |  Methods defined here:\n",
      " |  \n",
      " |  __eq__(self, value, /)\n",
      " |      Return self==value.\n",
      " |  \n",
      " |  __ge__(self, value, /)\n",
      " |      Return self>=value.\n",
      " |  \n",
      " |  __getattribute__(self, name, /)\n",
      " |      Return getattr(self, name).\n",
      " |  \n",
      " |  __gt__(self, value, /)\n",
      " |      Return self>value.\n",
      " |  \n",
      " |  __le__(self, value, /)\n",
      " |      Return self<=value.\n",
      " |  \n",
      " |  __lt__(self, value, /)\n",
      " |      Return self<value.\n",
      " |  \n",
      " |  __ne__(self, value, /)\n",
      " |      Return self!=value.\n",
      " |  \n",
      " |  __new__(*args, **kwargs) from builtins.type\n",
      " |      Create and return a new object.  See help(type) for accurate signature.\n",
      " |  \n",
      " |  __reduce__(...)\n",
      " |      Return state information for pickling.\n",
      " |  \n",
      " |  __repr__(self, /)\n",
      " |      Return repr(self).\n",
      " |  \n",
      " |  indices(...)\n",
      " |      S.indices(len) -> (start, stop, stride)\n",
      " |      \n",
      " |      Assuming a sequence of length len, calculate the start and stop\n",
      " |      indices, and the stride length of the extended slice described by\n",
      " |      S. Out of bounds indices are clipped in a manner consistent with the\n",
      " |      handling of normal slices.\n",
      " |  \n",
      " |  ----------------------------------------------------------------------\n",
      " |  Data descriptors defined here:\n",
      " |  \n",
      " |  start\n",
      " |  \n",
      " |  step\n",
      " |  \n",
      " |  stop\n",
      " |  \n",
      " |  ----------------------------------------------------------------------\n",
      " |  Data and other attributes defined here:\n",
      " |  \n",
      " |  __hash__ = None\n",
      "\n"
     ]
    }
   ],
   "source": [
    "help(slice)"
   ]
  },
  {
   "cell_type": "code",
   "execution_count": 12,
   "metadata": {},
   "outputs": [
    {
     "name": "stdout",
     "output_type": "stream",
     "text": [
      "ABCD\n"
     ]
    }
   ],
   "source": [
    "s = \"ABCDEFGHIJKL\"\n",
    "sl = slice(0,4)\n",
    "print(s[sl])"
   ]
  },
  {
   "cell_type": "markdown",
   "metadata": {},
   "source": [
    "Square brackets following a sequence denote either indexing or slicing depending on what's inside the brackets:"
   ]
  },
  {
   "cell_type": "code",
   "execution_count": 15,
   "metadata": {},
   "outputs": [
    {
     "data": {
      "text/plain": [
       "'y'"
      ]
     },
     "execution_count": 15,
     "metadata": {},
     "output_type": "execute_result"
    }
   ],
   "source": [
    "\"Python rocks\"[1]    # index"
   ]
  },
  {
   "cell_type": "code",
   "execution_count": 16,
   "metadata": {},
   "outputs": [
    {
     "data": {
      "text/plain": [
       "'yhnrc'"
      ]
     },
     "execution_count": 16,
     "metadata": {},
     "output_type": "execute_result"
    }
   ],
   "source": [
    "\"Python rocks\"[1:10:2]    # slice"
   ]
  },
  {
   "cell_type": "code",
   "execution_count": 17,
   "metadata": {
    "collapsed": true
   },
   "outputs": [],
   "source": [
    "def __getitem__(self, index):\n",
    "    if isinstance(index, int):\n",
    "        ...    # process index as an integer\n",
    "    elif isinstance(index, slice):\n",
    "        start, stop, step = index.indices(len(self))    # index is a slice\n",
    "        ...    # process slice\n",
    "    else:\n",
    "        raise TypeError(\"index must be int or slice\")"
   ]
  },
  {
   "cell_type": "code",
   "execution_count": 18,
   "metadata": {
    "collapsed": true
   },
   "outputs": [],
   "source": [
    "import collections\n",
    "\n",
    "Card = collections.namedtuple('Card', ['rank', 'suit'])\n",
    "\n",
    "class FrenchDeck:\n",
    "    ranks = [str(n) for n in range(2, 11)] + list('JQKA')\n",
    "    suits = 'spades diamonds clubs hearts'.split()\n",
    "\n",
    "    def __init__(self):\n",
    "        self._cards = [Card(rank, suit) for suit in self.suits for rank in self.ranks]\n",
    " \n",
    "    def __len__(self):\n",
    "        return len(self._cards)\n",
    "\n",
    "    def __getitem__(self, index):\n",
    "        print(type(index))\n",
    "        return self._cards[index]\n"
   ]
  },
  {
   "cell_type": "code",
   "execution_count": 19,
   "metadata": {
    "collapsed": true
   },
   "outputs": [],
   "source": [
    "deck = FrenchDeck()"
   ]
  },
  {
   "cell_type": "code",
   "execution_count": 20,
   "metadata": {},
   "outputs": [
    {
     "name": "stdout",
     "output_type": "stream",
     "text": [
      "<class 'int'>\n"
     ]
    },
    {
     "data": {
      "text/plain": [
       "Card(rank='3', suit='spades')"
      ]
     },
     "execution_count": 20,
     "metadata": {},
     "output_type": "execute_result"
    }
   ],
   "source": [
    "deck[1]"
   ]
  },
  {
   "cell_type": "code",
   "execution_count": 22,
   "metadata": {},
   "outputs": [
    {
     "name": "stdout",
     "output_type": "stream",
     "text": [
      "<class 'slice'>\n"
     ]
    },
    {
     "data": {
      "text/plain": [
       "[Card(rank='3', suit='spades'),\n",
       " Card(rank='5', suit='spades'),\n",
       " Card(rank='7', suit='spades'),\n",
       " Card(rank='9', suit='spades'),\n",
       " Card(rank='J', suit='spades')]"
      ]
     },
     "execution_count": 22,
     "metadata": {},
     "output_type": "execute_result"
    }
   ],
   "source": [
    "deck[slice(1, 10, 2)]"
   ]
  },
  {
   "cell_type": "code",
   "execution_count": 25,
   "metadata": {},
   "outputs": [
    {
     "name": "stdout",
     "output_type": "stream",
     "text": [
      "<class 'tuple'>\n"
     ]
    },
    {
     "name": "stderr",
     "output_type": "stream",
     "text": [
      "Traceback (most recent call last):\n",
      "  File \"<ipython-input-25-529771141a3c>\", line 4, in <module>\n",
      "    deck[1, 10, 2]\n",
      "  File \"<ipython-input-18-a129899cfb03>\", line 17, in __getitem__\n",
      "    return self._cards[index]\n",
      "TypeError: list indices must be integers or slices, not tuple\n"
     ]
    }
   ],
   "source": [
    "import traceback\n",
    "\n",
    "try:\n",
    "    deck[1, 10, 2]\n",
    "except:\n",
    "    traceback.print_exc()"
   ]
  },
  {
   "cell_type": "markdown",
   "metadata": {},
   "source": [
    "## Subclassing an ABC\n",
    "Following Martelli’s advice, we’ll leverage an existing ABC, collections.MutableSequence, before daring to invent our own."
   ]
  },
  {
   "cell_type": "code",
   "execution_count": 28,
   "metadata": {},
   "outputs": [
    {
     "name": "stdout",
     "output_type": "stream",
     "text": [
      "Help on class MutableSequence in module collections.abc:\n",
      "\n",
      "class MutableSequence(Sequence)\n",
      " |  All the operations on a read-only sequence.\n",
      " |  \n",
      " |  Concrete subclasses must override __new__ or __init__,\n",
      " |  __getitem__, and __len__.\n",
      " |  \n",
      " |  Method resolution order:\n",
      " |      MutableSequence\n",
      " |      Sequence\n",
      " |      Reversible\n",
      " |      Collection\n",
      " |      Sized\n",
      " |      Iterable\n",
      " |      Container\n",
      " |      builtins.object\n",
      " |  \n",
      " |  Methods defined here:\n",
      " |  \n",
      " |  __delitem__(self, index)\n",
      " |  \n",
      " |  __iadd__(self, values)\n",
      " |  \n",
      " |  __setitem__(self, index, value)\n",
      " |  \n",
      " |  append(self, value)\n",
      " |      S.append(value) -- append value to the end of the sequence\n",
      " |  \n",
      " |  clear(self)\n",
      " |      S.clear() -> None -- remove all items from S\n",
      " |  \n",
      " |  extend(self, values)\n",
      " |      S.extend(iterable) -- extend sequence by appending elements from the iterable\n",
      " |  \n",
      " |  insert(self, index, value)\n",
      " |      S.insert(index, value) -- insert value before index\n",
      " |  \n",
      " |  pop(self, index=-1)\n",
      " |      S.pop([index]) -> item -- remove and return item at index (default last).\n",
      " |      Raise IndexError if list is empty or index is out of range.\n",
      " |  \n",
      " |  remove(self, value)\n",
      " |      S.remove(value) -- remove first occurrence of value.\n",
      " |      Raise ValueError if the value is not present.\n",
      " |  \n",
      " |  reverse(self)\n",
      " |      S.reverse() -- reverse *IN PLACE*\n",
      " |  \n",
      " |  ----------------------------------------------------------------------\n",
      " |  Data and other attributes defined here:\n",
      " |  \n",
      " |  __abstractmethods__ = frozenset({'__delitem__', '__getitem__', '__len_...\n",
      " |  \n",
      " |  ----------------------------------------------------------------------\n",
      " |  Methods inherited from Sequence:\n",
      " |  \n",
      " |  __contains__(self, value)\n",
      " |  \n",
      " |  __getitem__(self, index)\n",
      " |  \n",
      " |  __iter__(self)\n",
      " |  \n",
      " |  __reversed__(self)\n",
      " |  \n",
      " |  count(self, value)\n",
      " |      S.count(value) -> integer -- return number of occurrences of value\n",
      " |  \n",
      " |  index(self, value, start=0, stop=None)\n",
      " |      S.index(value, [start, [stop]]) -> integer -- return first index of value.\n",
      " |      Raises ValueError if the value is not present.\n",
      " |      \n",
      " |      Supporting start and stop arguments is optional, but\n",
      " |      recommended.\n",
      " |  \n",
      " |  ----------------------------------------------------------------------\n",
      " |  Class methods inherited from Reversible:\n",
      " |  \n",
      " |  __subclasshook__(C) from abc.ABCMeta\n",
      " |      Abstract classes can override this to customize issubclass().\n",
      " |      \n",
      " |      This is invoked early on by abc.ABCMeta.__subclasscheck__().\n",
      " |      It should return True, False or NotImplemented.  If it returns\n",
      " |      NotImplemented, the normal algorithm is used.  Otherwise, it\n",
      " |      overrides the normal algorithm (and the outcome is cached).\n",
      " |  \n",
      " |  ----------------------------------------------------------------------\n",
      " |  Methods inherited from Sized:\n",
      " |  \n",
      " |  __len__(self)\n",
      "\n"
     ]
    }
   ],
   "source": [
    "import collections\n",
    "\n",
    "help(collections.MutableSequence)"
   ]
  },
  {
   "cell_type": "code",
   "execution_count": 29,
   "metadata": {
    "collapsed": true
   },
   "outputs": [],
   "source": [
    "import collections\n",
    "\n",
    "Card = collections.namedtuple('Card', ['rank', 'suit'])\n",
    "\n",
    "class FrenchDeck2(collections.MutableSequence):\n",
    "    ranks = [str(n) for n in range(2, 11)] + list('JQKA')\n",
    "    suits = 'spades diamonds clubs hearts'.split()\n",
    "    \n",
    "    def __init__(self):\n",
    "        self._cards = [Card(rank, suit) for suit in self.suits for rank in self.ranks]\n",
    "\n",
    "    def __len__(self):\n",
    "        return len(self._cards)\n",
    "\n",
    "    def __getitem__(self, position):\n",
    "        return self._cards[position]\n",
    "\n",
    "    def __setitem__(self, position, value):\n",
    "        self._cards[position] = value\n",
    "\n",
    "    def __delitem__(self, position):\n",
    "        del self._cards[position]\n",
    "\n",
    "    def insert(self, position, value):\n",
    "        self._cards.insert(position, value)\n"
   ]
  },
  {
   "cell_type": "markdown",
   "metadata": {},
   "source": [
    "We are required to implement __delitem__ and insert as these are abstract methods of MutableSequence."
   ]
  },
  {
   "cell_type": "markdown",
   "metadata": {},
   "source": [
    "## The Numbers Tower of ABCs\n",
    "The numbers package defines the so-called “numerical tower” (i.e., this linear hierarchy of ABCs), where Number is the topmost superclass, Complex is its immediate subclass, and so on, down to Integral."
   ]
  },
  {
   "cell_type": "code",
   "execution_count": 1,
   "metadata": {},
   "outputs": [],
   "source": [
    "import numbers"
   ]
  },
  {
   "cell_type": "code",
   "execution_count": 2,
   "metadata": {},
   "outputs": [
    {
     "name": "stdout",
     "output_type": "stream",
     "text": [
      "Help on module numbers:\n",
      "\n",
      "NAME\n",
      "    numbers - Abstract Base Classes (ABCs) for numbers, according to PEP 3141.\n",
      "\n",
      "DESCRIPTION\n",
      "    TODO: Fill out more detailed documentation on the operators.\n",
      "\n",
      "CLASSES\n",
      "    builtins.object\n",
      "        Number\n",
      "            Complex\n",
      "                Real\n",
      "                    Rational\n",
      "                        Integral\n",
      "    \n",
      "    class Complex(Number)\n",
      "     |  Complex defines the operations that work on the builtin complex type.\n",
      "     |  \n",
      "     |  In short, those are: a conversion to complex, .real, .imag, +, -,\n",
      "     |  *, /, abs(), .conjugate, ==, and !=.\n",
      "     |  \n",
      "     |  If it is given heterogenous arguments, and doesn't have special\n",
      "     |  knowledge about them, it should fall back to the builtin complex\n",
      "     |  type as described below.\n",
      "     |  \n",
      "     |  Method resolution order:\n",
      "     |      Complex\n",
      "     |      Number\n",
      "     |      builtins.object\n",
      "     |  \n",
      "     |  Methods defined here:\n",
      "     |  \n",
      "     |  __abs__(self)\n",
      "     |      Returns the Real distance from 0. Called for abs(self).\n",
      "     |  \n",
      "     |  __add__(self, other)\n",
      "     |      self + other\n",
      "     |  \n",
      "     |  __bool__(self)\n",
      "     |      True if self != 0. Called for bool(self).\n",
      "     |  \n",
      "     |  __complex__(self)\n",
      "     |      Return a builtin complex instance. Called for complex(self).\n",
      "     |  \n",
      "     |  __eq__(self, other)\n",
      "     |      self == other\n",
      "     |  \n",
      "     |  __mul__(self, other)\n",
      "     |      self * other\n",
      "     |  \n",
      "     |  __neg__(self)\n",
      "     |      -self\n",
      "     |  \n",
      "     |  __pos__(self)\n",
      "     |      +self\n",
      "     |  \n",
      "     |  __pow__(self, exponent)\n",
      "     |      self**exponent; should promote to float or complex when necessary.\n",
      "     |  \n",
      "     |  __radd__(self, other)\n",
      "     |      other + self\n",
      "     |  \n",
      "     |  __rmul__(self, other)\n",
      "     |      other * self\n",
      "     |  \n",
      "     |  __rpow__(self, base)\n",
      "     |      base ** self\n",
      "     |  \n",
      "     |  __rsub__(self, other)\n",
      "     |      other - self\n",
      "     |  \n",
      "     |  __rtruediv__(self, other)\n",
      "     |      other / self\n",
      "     |  \n",
      "     |  __sub__(self, other)\n",
      "     |      self - other\n",
      "     |  \n",
      "     |  __truediv__(self, other)\n",
      "     |      self / other: Should promote to float when necessary.\n",
      "     |  \n",
      "     |  conjugate(self)\n",
      "     |      (x+y*i).conjugate() returns (x-y*i).\n",
      "     |  \n",
      "     |  ----------------------------------------------------------------------\n",
      "     |  Data descriptors defined here:\n",
      "     |  \n",
      "     |  imag\n",
      "     |      Retrieve the imaginary component of this number.\n",
      "     |      \n",
      "     |      This should subclass Real.\n",
      "     |  \n",
      "     |  real\n",
      "     |      Retrieve the real component of this number.\n",
      "     |      \n",
      "     |      This should subclass Real.\n",
      "     |  \n",
      "     |  ----------------------------------------------------------------------\n",
      "     |  Data and other attributes defined here:\n",
      "     |  \n",
      "     |  __abstractmethods__ = frozenset({'__abs__', '__add__', '__complex__', ...\n",
      "     |  \n",
      "     |  __hash__ = None\n",
      "    \n",
      "    class Integral(Rational)\n",
      "     |  Integral adds a conversion to int and the bit-string operations.\n",
      "     |  \n",
      "     |  Method resolution order:\n",
      "     |      Integral\n",
      "     |      Rational\n",
      "     |      Real\n",
      "     |      Complex\n",
      "     |      Number\n",
      "     |      builtins.object\n",
      "     |  \n",
      "     |  Methods defined here:\n",
      "     |  \n",
      "     |  __and__(self, other)\n",
      "     |      self & other\n",
      "     |  \n",
      "     |  __float__(self)\n",
      "     |      float(self) == float(int(self))\n",
      "     |  \n",
      "     |  __index__(self)\n",
      "     |      Called whenever an index is needed, such as in slicing\n",
      "     |  \n",
      "     |  __int__(self)\n",
      "     |      int(self)\n",
      "     |  \n",
      "     |  __invert__(self)\n",
      "     |      ~self\n",
      "     |  \n",
      "     |  __lshift__(self, other)\n",
      "     |      self << other\n",
      "     |  \n",
      "     |  __or__(self, other)\n",
      "     |      self | other\n",
      "     |  \n",
      "     |  __pow__(self, exponent, modulus=None)\n",
      "     |      self ** exponent % modulus, but maybe faster.\n",
      "     |      \n",
      "     |      Accept the modulus argument if you want to support the\n",
      "     |      3-argument version of pow(). Raise a TypeError if exponent < 0\n",
      "     |      or any argument isn't Integral. Otherwise, just implement the\n",
      "     |      2-argument version described in Complex.\n",
      "     |  \n",
      "     |  __rand__(self, other)\n",
      "     |      other & self\n",
      "     |  \n",
      "     |  __rlshift__(self, other)\n",
      "     |      other << self\n",
      "     |  \n",
      "     |  __ror__(self, other)\n",
      "     |      other | self\n",
      "     |  \n",
      "     |  __rrshift__(self, other)\n",
      "     |      other >> self\n",
      "     |  \n",
      "     |  __rshift__(self, other)\n",
      "     |      self >> other\n",
      "     |  \n",
      "     |  __rxor__(self, other)\n",
      "     |      other ^ self\n",
      "     |  \n",
      "     |  __xor__(self, other)\n",
      "     |      self ^ other\n",
      "     |  \n",
      "     |  ----------------------------------------------------------------------\n",
      "     |  Data descriptors defined here:\n",
      "     |  \n",
      "     |  denominator\n",
      "     |      Integers have a denominator of 1.\n",
      "     |  \n",
      "     |  numerator\n",
      "     |      Integers are their own numerators.\n",
      "     |  \n",
      "     |  ----------------------------------------------------------------------\n",
      "     |  Data and other attributes defined here:\n",
      "     |  \n",
      "     |  __abstractmethods__ = frozenset({'__abs__', '__add__', '__and__', '__c...\n",
      "     |  \n",
      "     |  ----------------------------------------------------------------------\n",
      "     |  Methods inherited from Real:\n",
      "     |  \n",
      "     |  __ceil__(self)\n",
      "     |      Finds the least Integral >= self.\n",
      "     |  \n",
      "     |  __complex__(self)\n",
      "     |      complex(self) == complex(float(self), 0)\n",
      "     |  \n",
      "     |  __divmod__(self, other)\n",
      "     |      divmod(self, other): The pair (self // other, self % other).\n",
      "     |      \n",
      "     |      Sometimes this can be computed faster than the pair of\n",
      "     |      operations.\n",
      "     |  \n",
      "     |  __floor__(self)\n",
      "     |      Finds the greatest Integral <= self.\n",
      "     |  \n",
      "     |  __floordiv__(self, other)\n",
      "     |      self // other: The floor() of self/other.\n",
      "     |  \n",
      "     |  __le__(self, other)\n",
      "     |      self <= other\n",
      "     |  \n",
      "     |  __lt__(self, other)\n",
      "     |      self < other\n",
      "     |      \n",
      "     |      < on Reals defines a total ordering, except perhaps for NaN.\n",
      "     |  \n",
      "     |  __mod__(self, other)\n",
      "     |      self % other\n",
      "     |  \n",
      "     |  __rdivmod__(self, other)\n",
      "     |      divmod(other, self): The pair (self // other, self % other).\n",
      "     |      \n",
      "     |      Sometimes this can be computed faster than the pair of\n",
      "     |      operations.\n",
      "     |  \n",
      "     |  __rfloordiv__(self, other)\n",
      "     |      other // self: The floor() of other/self.\n",
      "     |  \n",
      "     |  __rmod__(self, other)\n",
      "     |      other % self\n",
      "     |  \n",
      "     |  __round__(self, ndigits=None)\n",
      "     |      Rounds self to ndigits decimal places, defaulting to 0.\n",
      "     |      \n",
      "     |      If ndigits is omitted or None, returns an Integral, otherwise\n",
      "     |      returns a Real. Rounds half toward even.\n",
      "     |  \n",
      "     |  __trunc__(self)\n",
      "     |      trunc(self): Truncates self to an Integral.\n",
      "     |      \n",
      "     |      Returns an Integral i such that:\n",
      "     |        * i>0 iff self>0;\n",
      "     |        * abs(i) <= abs(self);\n",
      "     |        * for any Integral j satisfying the first two conditions,\n",
      "     |          abs(i) >= abs(j) [i.e. i has \"maximal\" abs among those].\n",
      "     |      i.e. \"truncate towards 0\".\n",
      "     |  \n",
      "     |  conjugate(self)\n",
      "     |      Conjugate is a no-op for Reals.\n",
      "     |  \n",
      "     |  ----------------------------------------------------------------------\n",
      "     |  Data descriptors inherited from Real:\n",
      "     |  \n",
      "     |  imag\n",
      "     |      Real numbers have no imaginary component.\n",
      "     |  \n",
      "     |  real\n",
      "     |      Real numbers are their real component.\n",
      "     |  \n",
      "     |  ----------------------------------------------------------------------\n",
      "     |  Methods inherited from Complex:\n",
      "     |  \n",
      "     |  __abs__(self)\n",
      "     |      Returns the Real distance from 0. Called for abs(self).\n",
      "     |  \n",
      "     |  __add__(self, other)\n",
      "     |      self + other\n",
      "     |  \n",
      "     |  __bool__(self)\n",
      "     |      True if self != 0. Called for bool(self).\n",
      "     |  \n",
      "     |  __eq__(self, other)\n",
      "     |      self == other\n",
      "     |  \n",
      "     |  __mul__(self, other)\n",
      "     |      self * other\n",
      "     |  \n",
      "     |  __neg__(self)\n",
      "     |      -self\n",
      "     |  \n",
      "     |  __pos__(self)\n",
      "     |      +self\n",
      "     |  \n",
      "     |  __radd__(self, other)\n",
      "     |      other + self\n",
      "     |  \n",
      "     |  __rmul__(self, other)\n",
      "     |      other * self\n",
      "     |  \n",
      "     |  __rpow__(self, base)\n",
      "     |      base ** self\n",
      "     |  \n",
      "     |  __rsub__(self, other)\n",
      "     |      other - self\n",
      "     |  \n",
      "     |  __rtruediv__(self, other)\n",
      "     |      other / self\n",
      "     |  \n",
      "     |  __sub__(self, other)\n",
      "     |      self - other\n",
      "     |  \n",
      "     |  __truediv__(self, other)\n",
      "     |      self / other: Should promote to float when necessary.\n",
      "     |  \n",
      "     |  ----------------------------------------------------------------------\n",
      "     |  Data and other attributes inherited from Complex:\n",
      "     |  \n",
      "     |  __hash__ = None\n",
      "    \n",
      "    class Number(builtins.object)\n",
      "     |  All numbers inherit from this class.\n",
      "     |  \n",
      "     |  If you just want to check if an argument x is a number, without\n",
      "     |  caring what kind, use isinstance(x, Number).\n",
      "     |  \n",
      "     |  Data and other attributes defined here:\n",
      "     |  \n",
      "     |  __abstractmethods__ = frozenset()\n",
      "     |  \n",
      "     |  __hash__ = None\n",
      "    \n",
      "    class Rational(Real)\n",
      "     |  .numerator and .denominator should be in lowest terms.\n",
      "     |  \n",
      "     |  Method resolution order:\n",
      "     |      Rational\n",
      "     |      Real\n",
      "     |      Complex\n",
      "     |      Number\n",
      "     |      builtins.object\n",
      "     |  \n",
      "     |  Methods defined here:\n",
      "     |  \n",
      "     |  __float__(self)\n",
      "     |      float(self) = self.numerator / self.denominator\n",
      "     |      \n",
      "     |      It's important that this conversion use the integer's \"true\"\n",
      "     |      division rather than casting one side to float before dividing\n",
      "     |      so that ratios of huge integers convert without overflowing.\n",
      "     |  \n",
      "     |  ----------------------------------------------------------------------\n",
      "     |  Data descriptors defined here:\n",
      "     |  \n",
      "     |  denominator\n",
      "     |  \n",
      "     |  numerator\n",
      "     |  \n",
      "     |  ----------------------------------------------------------------------\n",
      "     |  Data and other attributes defined here:\n",
      "     |  \n",
      "     |  __abstractmethods__ = frozenset({'__abs__', '__add__', '__ceil__', '__...\n",
      "     |  \n",
      "     |  ----------------------------------------------------------------------\n",
      "     |  Methods inherited from Real:\n",
      "     |  \n",
      "     |  __ceil__(self)\n",
      "     |      Finds the least Integral >= self.\n",
      "     |  \n",
      "     |  __complex__(self)\n",
      "     |      complex(self) == complex(float(self), 0)\n",
      "     |  \n",
      "     |  __divmod__(self, other)\n",
      "     |      divmod(self, other): The pair (self // other, self % other).\n",
      "     |      \n",
      "     |      Sometimes this can be computed faster than the pair of\n",
      "     |      operations.\n",
      "     |  \n",
      "     |  __floor__(self)\n",
      "     |      Finds the greatest Integral <= self.\n",
      "     |  \n",
      "     |  __floordiv__(self, other)\n",
      "     |      self // other: The floor() of self/other.\n",
      "     |  \n",
      "     |  __le__(self, other)\n",
      "     |      self <= other\n",
      "     |  \n",
      "     |  __lt__(self, other)\n",
      "     |      self < other\n",
      "     |      \n",
      "     |      < on Reals defines a total ordering, except perhaps for NaN.\n",
      "     |  \n",
      "     |  __mod__(self, other)\n",
      "     |      self % other\n",
      "     |  \n",
      "     |  __rdivmod__(self, other)\n",
      "     |      divmod(other, self): The pair (self // other, self % other).\n",
      "     |      \n",
      "     |      Sometimes this can be computed faster than the pair of\n",
      "     |      operations.\n",
      "     |  \n",
      "     |  __rfloordiv__(self, other)\n",
      "     |      other // self: The floor() of other/self.\n",
      "     |  \n",
      "     |  __rmod__(self, other)\n",
      "     |      other % self\n",
      "     |  \n",
      "     |  __round__(self, ndigits=None)\n",
      "     |      Rounds self to ndigits decimal places, defaulting to 0.\n",
      "     |      \n",
      "     |      If ndigits is omitted or None, returns an Integral, otherwise\n",
      "     |      returns a Real. Rounds half toward even.\n",
      "     |  \n",
      "     |  __trunc__(self)\n",
      "     |      trunc(self): Truncates self to an Integral.\n",
      "     |      \n",
      "     |      Returns an Integral i such that:\n",
      "     |        * i>0 iff self>0;\n",
      "     |        * abs(i) <= abs(self);\n",
      "     |        * for any Integral j satisfying the first two conditions,\n",
      "     |          abs(i) >= abs(j) [i.e. i has \"maximal\" abs among those].\n",
      "     |      i.e. \"truncate towards 0\".\n",
      "     |  \n",
      "     |  conjugate(self)\n",
      "     |      Conjugate is a no-op for Reals.\n",
      "     |  \n",
      "     |  ----------------------------------------------------------------------\n",
      "     |  Data descriptors inherited from Real:\n",
      "     |  \n",
      "     |  imag\n",
      "     |      Real numbers have no imaginary component.\n",
      "     |  \n",
      "     |  real\n",
      "     |      Real numbers are their real component.\n",
      "     |  \n",
      "     |  ----------------------------------------------------------------------\n",
      "     |  Methods inherited from Complex:\n",
      "     |  \n",
      "     |  __abs__(self)\n",
      "     |      Returns the Real distance from 0. Called for abs(self).\n",
      "     |  \n",
      "     |  __add__(self, other)\n",
      "     |      self + other\n",
      "     |  \n",
      "     |  __bool__(self)\n",
      "     |      True if self != 0. Called for bool(self).\n",
      "     |  \n",
      "     |  __eq__(self, other)\n",
      "     |      self == other\n",
      "     |  \n",
      "     |  __mul__(self, other)\n",
      "     |      self * other\n",
      "     |  \n",
      "     |  __neg__(self)\n",
      "     |      -self\n",
      "     |  \n",
      "     |  __pos__(self)\n",
      "     |      +self\n",
      "     |  \n",
      "     |  __pow__(self, exponent)\n",
      "     |      self**exponent; should promote to float or complex when necessary.\n",
      "     |  \n",
      "     |  __radd__(self, other)\n",
      "     |      other + self\n",
      "     |  \n",
      "     |  __rmul__(self, other)\n",
      "     |      other * self\n",
      "     |  \n",
      "     |  __rpow__(self, base)\n",
      "     |      base ** self\n",
      "     |  \n",
      "     |  __rsub__(self, other)\n",
      "     |      other - self\n",
      "     |  \n",
      "     |  __rtruediv__(self, other)\n",
      "     |      other / self\n",
      "     |  \n",
      "     |  __sub__(self, other)\n",
      "     |      self - other\n",
      "     |  \n",
      "     |  __truediv__(self, other)\n",
      "     |      self / other: Should promote to float when necessary.\n",
      "     |  \n",
      "     |  ----------------------------------------------------------------------\n",
      "     |  Data and other attributes inherited from Complex:\n",
      "     |  \n",
      "     |  __hash__ = None\n",
      "    \n",
      "    class Real(Complex)\n",
      "     |  To Complex, Real adds the operations that work on real numbers.\n",
      "     |  \n",
      "     |  In short, those are: a conversion to float, trunc(), divmod,\n",
      "     |  %, <, <=, >, and >=.\n",
      "     |  \n",
      "     |  Real also provides defaults for the derived operations.\n",
      "     |  \n",
      "     |  Method resolution order:\n",
      "     |      Real\n",
      "     |      Complex\n",
      "     |      Number\n",
      "     |      builtins.object\n",
      "     |  \n",
      "     |  Methods defined here:\n",
      "     |  \n",
      "     |  __ceil__(self)\n",
      "     |      Finds the least Integral >= self.\n",
      "     |  \n",
      "     |  __complex__(self)\n",
      "     |      complex(self) == complex(float(self), 0)\n",
      "     |  \n",
      "     |  __divmod__(self, other)\n",
      "     |      divmod(self, other): The pair (self // other, self % other).\n",
      "     |      \n",
      "     |      Sometimes this can be computed faster than the pair of\n",
      "     |      operations.\n",
      "     |  \n",
      "     |  __float__(self)\n",
      "     |      Any Real can be converted to a native float object.\n",
      "     |      \n",
      "     |      Called for float(self).\n",
      "     |  \n",
      "     |  __floor__(self)\n",
      "     |      Finds the greatest Integral <= self.\n",
      "     |  \n",
      "     |  __floordiv__(self, other)\n",
      "     |      self // other: The floor() of self/other.\n",
      "     |  \n",
      "     |  __le__(self, other)\n",
      "     |      self <= other\n",
      "     |  \n",
      "     |  __lt__(self, other)\n",
      "     |      self < other\n",
      "     |      \n",
      "     |      < on Reals defines a total ordering, except perhaps for NaN.\n",
      "     |  \n",
      "     |  __mod__(self, other)\n",
      "     |      self % other\n",
      "     |  \n",
      "     |  __rdivmod__(self, other)\n",
      "     |      divmod(other, self): The pair (self // other, self % other).\n",
      "     |      \n",
      "     |      Sometimes this can be computed faster than the pair of\n",
      "     |      operations.\n",
      "     |  \n",
      "     |  __rfloordiv__(self, other)\n",
      "     |      other // self: The floor() of other/self.\n",
      "     |  \n",
      "     |  __rmod__(self, other)\n",
      "     |      other % self\n",
      "     |  \n",
      "     |  __round__(self, ndigits=None)\n",
      "     |      Rounds self to ndigits decimal places, defaulting to 0.\n",
      "     |      \n",
      "     |      If ndigits is omitted or None, returns an Integral, otherwise\n",
      "     |      returns a Real. Rounds half toward even.\n",
      "     |  \n",
      "     |  __trunc__(self)\n",
      "     |      trunc(self): Truncates self to an Integral.\n",
      "     |      \n",
      "     |      Returns an Integral i such that:\n",
      "     |        * i>0 iff self>0;\n",
      "     |        * abs(i) <= abs(self);\n",
      "     |        * for any Integral j satisfying the first two conditions,\n",
      "     |          abs(i) >= abs(j) [i.e. i has \"maximal\" abs among those].\n",
      "     |      i.e. \"truncate towards 0\".\n",
      "     |  \n",
      "     |  conjugate(self)\n",
      "     |      Conjugate is a no-op for Reals.\n",
      "     |  \n",
      "     |  ----------------------------------------------------------------------\n",
      "     |  Data descriptors defined here:\n",
      "     |  \n",
      "     |  imag\n",
      "     |      Real numbers have no imaginary component.\n",
      "     |  \n",
      "     |  real\n",
      "     |      Real numbers are their real component.\n",
      "     |  \n",
      "     |  ----------------------------------------------------------------------\n",
      "     |  Data and other attributes defined here:\n",
      "     |  \n",
      "     |  __abstractmethods__ = frozenset({'__abs__', '__add__', '__ceil__', '__...\n",
      "     |  \n",
      "     |  ----------------------------------------------------------------------\n",
      "     |  Methods inherited from Complex:\n",
      "     |  \n",
      "     |  __abs__(self)\n",
      "     |      Returns the Real distance from 0. Called for abs(self).\n",
      "     |  \n",
      "     |  __add__(self, other)\n",
      "     |      self + other\n",
      "     |  \n",
      "     |  __bool__(self)\n",
      "     |      True if self != 0. Called for bool(self).\n",
      "     |  \n",
      "     |  __eq__(self, other)\n",
      "     |      self == other\n",
      "     |  \n",
      "     |  __mul__(self, other)\n",
      "     |      self * other\n",
      "     |  \n",
      "     |  __neg__(self)\n",
      "     |      -self\n",
      "     |  \n",
      "     |  __pos__(self)\n",
      "     |      +self\n",
      "     |  \n",
      "     |  __pow__(self, exponent)\n",
      "     |      self**exponent; should promote to float or complex when necessary.\n",
      "     |  \n",
      "     |  __radd__(self, other)\n",
      "     |      other + self\n",
      "     |  \n",
      "     |  __rmul__(self, other)\n",
      "     |      other * self\n",
      "     |  \n",
      "     |  __rpow__(self, base)\n",
      "     |      base ** self\n",
      "     |  \n",
      "     |  __rsub__(self, other)\n",
      "     |      other - self\n",
      "     |  \n",
      "     |  __rtruediv__(self, other)\n",
      "     |      other / self\n",
      "     |  \n",
      "     |  __sub__(self, other)\n",
      "     |      self - other\n",
      "     |  \n",
      "     |  __truediv__(self, other)\n",
      "     |      self / other: Should promote to float when necessary.\n",
      "     |  \n",
      "     |  ----------------------------------------------------------------------\n",
      "     |  Data and other attributes inherited from Complex:\n",
      "     |  \n",
      "     |  __hash__ = None\n",
      "\n",
      "DATA\n",
      "    __all__ = ['Number', 'Complex', 'Real', 'Rational', 'Integral']\n",
      "\n",
      "FILE\n",
      "    c:\\anaconda2\\envs\\py36\\lib\\numbers.py\n",
      "\n",
      "\n"
     ]
    }
   ],
   "source": [
    "help(numbers)"
   ]
  },
  {
   "cell_type": "markdown",
   "metadata": {},
   "source": [
    "So if you need to check for an integer, use isinstance(x, numbers.Integral) to accept int, bool (which subclasses int). If, on the other hand, a value can be a floating-point type, you write isinstance(x, numbers.Real), and your code will happily take bool, int, float, fractions.Fraction, or any other noncomplex numerical type."
   ]
  },
  {
   "cell_type": "markdown",
   "metadata": {},
   "source": [
    "## Defining and Using an ABC\n",
    "inite set, without repeating, until the set is exhausted. The ABC will be named Tombola, after the Italian name of bingo and the tumbling container that mixes the numbers."
   ]
  },
  {
   "cell_type": "code",
   "execution_count": 3,
   "metadata": {},
   "outputs": [],
   "source": [
    "import abc\n",
    "\n",
    "class Tombola(abc.ABC):\n",
    "    \n",
    "    @abc.abstractmethod\n",
    "    def load(self, iterable):\n",
    "        \"\"\"Add items from an iterable.\"\"\"\n",
    " \n",
    "    @abc.abstractmethod\n",
    "    def pick(self):\n",
    "        \"\"\"Remove item at random, returning it.\n",
    "           This method should raise 'LookupError' when the instance is empty.\n",
    "        \"\"\"\n",
    "\n",
    "    def loaded(self):\n",
    "        \"\"\"Return `True` if there's at least 1 item, `False` otherwise.\"\"\"\n",
    "        return bool(self.inspect())\n",
    "\n",
    "    def inspect(self):\n",
    "        \"\"\"Return a sorted tuple with the items currently inside.\"\"\"\n",
    "        items = []\n",
    "        while True:\n",
    "            try:\n",
    "                items.append(self.pick())\n",
    "            except LookupError:\n",
    "                break\n",
    "        self.load(items)\n",
    "        return tuple(sorted(items))\n"
   ]
  },
  {
   "cell_type": "markdown",
   "metadata": {},
   "source": [
    "## ABC Syntax Details\n",
    "The best way to declare an ABC is to subclass abc.ABC or any other ABC. However, the abc.ABC class is new in Python 3.4, so if you are using an earlier version of Python—and it does not make sense to subclass another existing ABC—then you\n",
    "must use the metaclass= keyword in the class statement, pointing to abc.ABCMeta (not abc.ABC). <br>\n",
    "<br>\n",
    "For example, the preferred way to declare an abstract class method is:"
   ]
  },
  {
   "cell_type": "code",
   "execution_count": null,
   "metadata": {},
   "outputs": [],
   "source": [
    "class MyABC(abc.ABC):\n",
    "\n",
    "    @classmethod\n",
    "    @abc.abstractmethod\n",
    "    def an_abstract_classmethod(cls, ...):\n",
    "        pass\n"
   ]
  },
  {
   "cell_type": "markdown",
   "metadata": {},
   "source": [
    "## Subclassing the Tombola ABC"
   ]
  },
  {
   "cell_type": "code",
   "execution_count": 6,
   "metadata": {},
   "outputs": [],
   "source": [
    "import random\n",
    "\n",
    "class BingoCage(Tombola):\n",
    "    def __init__(self, items):\n",
    "        self._randomizer = random.SystemRandom()\n",
    "        self._items = []\n",
    "        self.load(items)\n",
    "\n",
    "    def load(self, items):\n",
    "        self._items.extend(items)\n",
    "        self._randomizer.shuffle(self._items)\n",
    "\n",
    "    def pick(self):\n",
    "        try:\n",
    "            return self._items.pop()\n",
    "        except IndexError:\n",
    "            raise LookupError('pick from empty BingoCage')\n",
    "\n",
    "    def __call__(self):\n",
    "        self.pick()\n"
   ]
  },
  {
   "cell_type": "markdown",
   "metadata": {},
   "source": [
    "## A Virtual Subclass of Tombola\n",
    "The ability to register a class as a virtual subclass of an ABC, even if it does not inherit from it. When doing so, we promise that the class faithfully implements the interface defined in the ABC—and Python will believe us without checking. If we lie,\n",
    "we’ll be caught by the usual runtime exceptions. This is done by calling a register method on the ABC. The registered class then becomes a virtual subclass of the ABC, and will be recognized as such by functions like issubclass and isinstance, but it will not inherit any methods or attributes from the ABC."
   ]
  },
  {
   "cell_type": "code",
   "execution_count": 8,
   "metadata": {},
   "outputs": [],
   "source": [
    "from random import randrange\n",
    "\n",
    "@Tombola.register\n",
    "class TomboList(list):\n",
    "\n",
    "    def pick(self):\n",
    "        if self:\n",
    "            position = randrange(len(self))\n",
    "            return self.pop(position)\n",
    "        else:\n",
    "            raise LookupError('pop from empty TomboList')\n",
    "\n",
    "    load = list.extend\n",
    "\n",
    "    def loaded(self):\n",
    "        return bool(self)\n",
    "\n",
    "    def inspect(self):\n",
    "        return tuple(sorted(self))\n"
   ]
  },
  {
   "cell_type": "code",
   "execution_count": 10,
   "metadata": {},
   "outputs": [
    {
     "data": {
      "text/plain": [
       "True"
      ]
     },
     "execution_count": 10,
     "metadata": {},
     "output_type": "execute_result"
    }
   ],
   "source": [
    "t = TomboList()\n",
    "isinstance(t, Tombola)"
   ]
  },
  {
   "cell_type": "code",
   "execution_count": 11,
   "metadata": {},
   "outputs": [
    {
     "data": {
      "text/plain": [
       "(__main__.TomboList, list, object)"
      ]
     },
     "execution_count": 11,
     "metadata": {},
     "output_type": "execute_result"
    }
   ],
   "source": [
    "TomboList.__mro__"
   ]
  },
  {
   "cell_type": "markdown",
   "metadata": {},
   "source": [
    "The mro basically lists the class and its superclasses in the order Python uses to search for methods."
   ]
  },
  {
   "cell_type": "code",
   "execution_count": 15,
   "metadata": {},
   "outputs": [
    {
     "data": {
      "text/plain": [
       "(__main__.B, __main__.A, object)"
      ]
     },
     "execution_count": 15,
     "metadata": {},
     "output_type": "execute_result"
    }
   ],
   "source": [
    "class A:\n",
    "    def run(self):\n",
    "        pass\n",
    "\n",
    "class B(A):\n",
    "    def __init__(self):\n",
    "        super(B, self).__init__()\n",
    "\n",
    "    def run(self):\n",
    "        pass\n",
    "\n",
    "B.__mro__"
   ]
  },
  {
   "cell_type": "markdown",
   "metadata": {},
   "source": [
    "***"
   ]
  }
 ],
 "metadata": {
  "kernelspec": {
   "display_name": "py36",
   "language": "python",
   "name": "py36"
  },
  "language_info": {
   "codemirror_mode": {
    "name": "ipython",
    "version": 3
   },
   "file_extension": ".py",
   "mimetype": "text/x-python",
   "name": "python",
   "nbconvert_exporter": "python",
   "pygments_lexer": "ipython3",
   "version": "3.6.6"
  }
 },
 "nbformat": 4,
 "nbformat_minor": 2
}
